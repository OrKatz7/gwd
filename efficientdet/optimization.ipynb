{
 "cells": [
  {
   "cell_type": "code",
   "execution_count": 1,
   "metadata": {
    "_kg_hide-input": true,
    "_kg_hide-output": true
   },
   "outputs": [],
   "source": [
    "import sys\n",
    "import os\n",
    "from ensemble_boxes import *\n",
    "import torch\n",
    "import random\n",
    "import numpy as np\n",
    "import pandas as pd\n",
    "from glob import glob\n",
    "from torch.utils.data import Dataset,DataLoader\n",
    "import albumentations as A\n",
    "from albumentations.pytorch.transforms import ToTensorV2\n",
    "import cv2\n",
    "import gc\n",
    "from tqdm import tqdm\n",
    "from matplotlib import pyplot as plt\n",
    "from effdet import get_efficientdet_config, EfficientDet, DetBenchEval\n",
    "from effdet.efficientdet import HeadNet\n",
    "from sklearn.model_selection import StratifiedKFold\n",
    "from skopt import gp_minimize, forest_minimize\n",
    "from skopt.utils import use_named_args\n",
    "from skopt.plots import plot_objective, plot_evaluations, plot_convergence, plot_regret\n",
    "from skopt.space import Categorical, Integer, Real\n",
    "import os\n",
    "os.environ[\"CUDA_VISIBLE_DEVICES\"]=\"3\"\n",
    "# SEED = 42\n",
    "\n",
    "# def seed_everything(seed):\n",
    "#     random.seed(seed)\n",
    "#     os.environ['PYTHONHASHSEED'] = str(seed)\n",
    "#     np.random.seed(seed)\n",
    "#     torch.manual_seed(seed)\n",
    "#     torch.cuda.manual_seed(seed)\n",
    "#     torch.backends.cudnn.deterministic = True\n",
    "#     torch.backends.cudnn.benchmark = True\n",
    "\n",
    "# seed_everything(SEED)"
   ]
  },
  {
   "cell_type": "code",
   "execution_count": 2,
   "metadata": {},
   "outputs": [],
   "source": [
    "USE_OPTIMIZE = True"
   ]
  },
  {
   "cell_type": "code",
   "execution_count": 3,
   "metadata": {
    "_kg_hide-output": true
   },
   "outputs": [],
   "source": [
    "marking = pd.read_csv('../data/train.csv')\n",
    "\n",
    "bboxs = np.stack(marking['bbox'].apply(lambda x: np.fromstring(x[1:-1], sep=',')))\n",
    "for i, column in enumerate(['x', 'y', 'w', 'h']):\n",
    "    marking[column] = bboxs[:,i]\n",
    "marking.drop(columns=['bbox'], inplace=True)"
   ]
  },
  {
   "cell_type": "code",
   "execution_count": 4,
   "metadata": {
    "_kg_hide-output": true
   },
   "outputs": [
    {
     "name": "stderr",
     "output_type": "stream",
     "text": [
      "/opt/conda/lib/python3.7/site-packages/sklearn/model_selection/_split.py:672: UserWarning: The least populated class in y has only 1 members, which is less than n_splits=5.\n",
      "  % (min_groups, self.n_splits)), UserWarning)\n"
     ]
    }
   ],
   "source": [
    "skf = StratifiedKFold(n_splits=5, shuffle=True, random_state=42)\n",
    "df_folds = marking[['image_id']].copy()\n",
    "df_folds.loc[:, 'bbox_count'] = 1\n",
    "df_folds = df_folds.groupby('image_id').count()\n",
    "df_folds.loc[:, 'source'] = marking[['image_id', 'source']].groupby('image_id').min()['source']\n",
    "df_folds.loc[:, 'stratify_group'] = np.char.add(\n",
    "        df_folds['source'].values.astype(str),\n",
    "        df_folds['bbox_count'].apply(lambda x: f'_{x // 15}').values.astype(str)\n",
    "    )\n",
    "df_folds.loc[:, 'fold'] = 0\n",
    "\n",
    "for fold_number, (train_index, val_index) in enumerate(skf.split(X=df_folds.index, y=df_folds['stratify_group'])):\n",
    "    df_folds.loc[df_folds.iloc[val_index].index, 'fold'] = fold_number"
   ]
  },
  {
   "cell_type": "code",
   "execution_count": 5,
   "metadata": {},
   "outputs": [],
   "source": [
    "def get_valid_transforms():\n",
    "    return A.Compose(\n",
    "        [\n",
    "            A.Resize(height=1024, width=1024, p=1.0),\n",
    "            A.Normalize(mean=(0.485, 0.456, 0.406), std=(0.229, 0.224, 0.225), max_pixel_value=255.0, always_apply=False, p=1.0),\n",
    "            ToTensorV2(p=1.0),\n",
    "        ], \n",
    "        p=1.0, \n",
    "        bbox_params=A.BboxParams(\n",
    "            format='pascal_voc',\n",
    "            min_area=0, \n",
    "            min_visibility=0,\n",
    "            label_fields=['labels']\n",
    "        )\n",
    "    )\n",
    "\n",
    "TRAIN_ROOT_PATH = '../data/train'\n",
    "\n",
    "def collate_fn(batch):\n",
    "    return tuple(zip(*batch))\n",
    "\n",
    "class DatasetRetriever(Dataset):\n",
    "\n",
    "    def __init__(self, marking, image_ids, transforms=None, test=False):\n",
    "        super().__init__()\n",
    "\n",
    "        self.image_ids = image_ids\n",
    "        self.marking = marking\n",
    "        self.transforms = transforms\n",
    "        self.test = test\n",
    "\n",
    "    def __getitem__(self, index: int):\n",
    "        image_id = self.image_ids[index]\n",
    "        image, boxes = self.load_image_and_boxes(index)\n",
    "        labels = torch.ones((boxes.shape[0],), dtype=torch.int64)\n",
    "        \n",
    "        target = {}\n",
    "        target['boxes'] = boxes\n",
    "        target['labels'] = labels\n",
    "        target['image_id'] = torch.tensor([index])\n",
    "\n",
    "        if self.transforms:\n",
    "            for i in range(10):\n",
    "                sample = self.transforms(**{\n",
    "                    'image': image,\n",
    "                    'bboxes': target['boxes'],\n",
    "                    'labels': labels\n",
    "                })\n",
    "                if len(sample['bboxes']) > 0:\n",
    "                    image = sample['image']\n",
    "                    target['boxes'] = torch.stack(tuple(map(torch.tensor, zip(*sample['bboxes'])))).permute(1, 0)\n",
    "                    break\n",
    "\n",
    "        return image, target, image_id\n",
    "\n",
    "    def __len__(self) -> int:\n",
    "        return self.image_ids.shape[0]\n",
    "\n",
    "    def load_image_and_boxes(self, index):\n",
    "        image_id = self.image_ids[index]\n",
    "        image = cv2.imread(f'{TRAIN_ROOT_PATH}/{image_id}.jpg', cv2.IMREAD_COLOR)\n",
    "        image = cv2.cvtColor(image, cv2.COLOR_BGR2RGB).astype(np.float32)\n",
    "        records = self.marking[self.marking['image_id'] == image_id]\n",
    "        boxes = records[['x', 'y', 'w', 'h']].values\n",
    "        boxes[:, 2] = boxes[:, 0] + boxes[:, 2]\n",
    "        boxes[:, 3] = boxes[:, 1] + boxes[:, 3]\n",
    "        return image, boxes"
   ]
  },
  {
   "cell_type": "code",
   "execution_count": 6,
   "metadata": {},
   "outputs": [],
   "source": [
    "holdout_dataset = DatasetRetriever(\n",
    "    image_ids=df_folds[df_folds.fold==2].index.values,\n",
    "    marking=marking,\n",
    "    transforms=get_valid_transforms(),\n",
    "    test=True,\n",
    ")\n",
    "\n",
    "holdout_loader = DataLoader(\n",
    "    holdout_dataset,\n",
    "    batch_size=1,\n",
    "    shuffle=False,\n",
    "    num_workers=2,\n",
    "    drop_last=False,\n",
    "    collate_fn=collate_fn\n",
    ")"
   ]
  },
  {
   "cell_type": "code",
   "execution_count": 7,
   "metadata": {},
   "outputs": [],
   "source": [
    "def load_net(checkpoint_path):\n",
    "    config = get_efficientdet_config('tf_efficientdet_d7')\n",
    "    net = EfficientDet(config, pretrained_backbone=False)\n",
    "\n",
    "    config.num_classes = 1\n",
    "    config.image_size = 1024\n",
    "    net.class_net = HeadNet(config, num_outputs=config.num_classes, norm_kwargs=dict(eps=.001, momentum=.01))\n",
    "\n",
    "    checkpoint = torch.load(checkpoint_path)\n",
    "    net = torch.nn.DataParallel(net)\n",
    "    net.load_state_dict(checkpoint['ema_state_dict'])\n",
    "\n",
    "    del checkpoint\n",
    "    gc.collect()\n",
    "\n",
    "    net = DetBenchEval(net, config)\n",
    "    net.eval();\n",
    "    return net.cuda()\n",
    "\n",
    "if USE_OPTIMIZE:\n",
    "    models = [\n",
    "        load_net('./effdet7_fold2_coslr_step2/best-checkpoint-027epoch.bin'),\n",
    "    ]"
   ]
  },
  {
   "cell_type": "code",
   "execution_count": 8,
   "metadata": {},
   "outputs": [],
   "source": [
    "def make_tta_predictions(net,images, score_threshold=0.0):\n",
    "    with torch.no_grad():\n",
    "        x = torch.stack(images).float().cuda()\n",
    "        predictions = []\n",
    "        img_size = x.shape[-2:]  # height, width\n",
    "        s = [0.83, 0.67]  # scales\n",
    "        y = []\n",
    "        all_x =[]\n",
    "        for i, xi in enumerate((x,\n",
    "                                x.flip(3), # only flip-lr\n",
    "                                x.flip(2),\n",
    "                                x.flip(2).flip(3),  # only flip-up\n",
    "                                )):\n",
    "            xp = xi\n",
    "            all_x.append(xp)\n",
    "            y.append(net(xp, torch.tensor([1]*xp.shape[0]).float().cuda()))\n",
    "            \n",
    "        y[1][..., 0] = img_size[1] - y[1][..., 0] - y[1][..., 2] # flip lr\n",
    "        y[2][..., 1] = img_size[0] - y[2][..., 1] - y[2][..., 3]  # flip ud\n",
    "        y[3][..., 1] = img_size[0] - y[3][..., 1] - y[3][..., 3]  # flip ud\n",
    "        y[3][..., 0] = img_size[1] - y[3][..., 0] - y[3][..., 2] # flip lr\n",
    "        \n",
    "        \n",
    "        y = np.array(y)\n",
    "        boxes_all = []\n",
    "        scores_all=[]\n",
    "        for j in range(len(y)):\n",
    "            boxes = y[j][0].cpu().numpy()[:,:4].copy() \n",
    "            scores = y[j][0].cpu().numpy()[:,4].copy()\n",
    "            indexes = np.where(scores > score_threshold)[0]\n",
    "            boxes = boxes[indexes]\n",
    "\n",
    "            boxes[:, 2] = boxes[:, 2] + boxes[:, 0]\n",
    "            boxes[:, 3] = boxes[:, 3] + boxes[:, 1]\n",
    "            boxes = boxes.round().clip(min=0, max=1023)\n",
    "            boxes_all.append(boxes/1024)\n",
    "            scores_all.append(scores[indexes])\n",
    "    return boxes_all,scores_all,y"
   ]
  },
  {
   "cell_type": "code",
   "execution_count": 9,
   "metadata": {},
   "outputs": [
    {
     "name": "stderr",
     "output_type": "stream",
     "text": [
      "  0%|          | 0/675 [00:00<?, ?it/s]/pytorch/aten/src/ATen/native/BinaryOps.cpp:81: UserWarning: Integer division of tensors using div or / is deprecated, and in a future release div will perform true division as in Python 3. Use true_divide or floor_divide (// in Python) instead.\n",
      "100%|██████████| 675/675 [15:05<00:00,  1.34s/it]\n"
     ]
    }
   ],
   "source": [
    "if USE_OPTIMIZE:\n",
    "    all_predictions = []\n",
    "    for images, targets, image_ids in tqdm(holdout_loader, total=len(holdout_loader)):\n",
    "        with torch.no_grad():\n",
    "            fold_predictions = {}\n",
    "            for fold_number in range(2,3):\n",
    "                all_bbox,all_score,_ = make_tta_predictions(models[0],images)\n",
    "            for i in range(1):\n",
    "                image_predictions = {\n",
    "                    'image_id': image_ids[i],\n",
    "                    'gt_boxes': (targets[i]['boxes'].cpu().numpy()).clip(min=0, max=1023).astype(int),\n",
    "                }\n",
    "                for fold_number in range(2,3):\n",
    "                    image_predictions[f'pred_boxes_fold{fold_number}'] = all_bbox\n",
    "                    image_predictions[f'scores_fold{fold_number}'] = all_score\n",
    "\n",
    "                all_predictions.append(image_predictions)"
   ]
  },
  {
   "cell_type": "code",
   "execution_count": 10,
   "metadata": {
    "_kg_hide-input": true,
    "_kg_hide-output": true
   },
   "outputs": [],
   "source": [
    "from test_utils import *"
   ]
  },
  {
   "cell_type": "code",
   "execution_count": 11,
   "metadata": {},
   "outputs": [],
   "source": [
    "from tqdm.auto import tqdm"
   ]
  },
  {
   "cell_type": "code",
   "execution_count": 15,
   "metadata": {},
   "outputs": [],
   "source": [
    "def calculate_final_score(\n",
    "    all_predictions,\n",
    "    iou_thr,\n",
    "    skip_box_thr=0.0,\n",
    "    th1=0.0,th2=0.0,th3=0.0,\n",
    "#     score_threshold = [0.0,0.0,0.0]\n",
    "    method='nms', # weighted_boxes_fusion, nms, soft_nms, non_maximum_weighted\n",
    "    sigma=0.5,x1=1.,x2=1.,x3=1.,\n",
    "):\n",
    "    final_scores = []\n",
    "    weights=[th1,th2,th3]\n",
    "    score_threshold = [th1,th2,th3]\n",
    "    for i in tqdm(range(len(all_predictions))):\n",
    "        gt_boxes = all_predictions[i]['gt_boxes'].copy().astype(float)/1024\n",
    "        image_id = all_predictions[i]['image_id']\n",
    "        folds_boxes, folds_scores, folds_labels = [], [], []\n",
    "        for fold_number in range(2,3):\n",
    "            folds_boxes = all_predictions[i][f'pred_boxes_fold{fold_number}'].copy()[0:3]\n",
    "            folds_scores = all_predictions[i][f'scores_fold{fold_number}'].copy()[0:3]\n",
    "#             folds_labels = [np.ones([row.shape[0]]) for row in folds_scores]\n",
    "        folds_boxes_new = []\n",
    "        folds_scores_new = []\n",
    "        for bb in range(len(folds_boxes)):\n",
    "            s = folds_scores[bb].copy()\n",
    "            b = folds_boxes[bb].copy()\n",
    "            indexes = np.where(s > score_threshold[bb])[0]\n",
    "            new_bbox = b[indexes]\n",
    "            new_score = s[indexes]\n",
    "            folds_boxes_new.append(new_bbox)\n",
    "            folds_scores_new.append(new_score)\n",
    "        folds_boxes = folds_boxes_new\n",
    "        folds_scores = folds_scores_new\n",
    "        folds_labels = [np.ones([row.shape[0]]) for row in folds_scores_new]\n",
    "        if method == 'weighted_boxes_fusion':\n",
    "            boxes, scores, labels = weighted_boxes_fusion(folds_boxes, folds_scores, folds_labels, weights=weights, iou_thr=iou_thr, skip_box_thr=skip_box_thr)\n",
    "        elif method == 'nms':\n",
    "            try:\n",
    "                boxes, scores, labels = nms(folds_boxes, folds_scores, folds_labels, weights=weights, iou_thr=iou_thr)\n",
    "            except:\n",
    "                boxes, scores, labels = weighted_boxes_fusion(folds_boxes, folds_scores, folds_labels, weights=weights, iou_thr=iou_thr, skip_box_thr=skip_box_thr)\n",
    "        elif method == 'soft_nms':\n",
    "            boxes, scores, labels = soft_nms(folds_boxes, folds_scores, folds_labels, weights=weights, iou_thr=iou_thr, thresh=skip_box_thr, sigma=sigma)\n",
    "        elif method == 'non_maximum_weighted':\n",
    "            boxes, scores, labels = non_maximum_weighted(folds_boxes, folds_scores, folds_labels, weights=weights, iou_thr=iou_thr, skip_box_thr=skip_box_thr)\n",
    "        else:\n",
    "            raise\n",
    "        image_precision = calculate_image_precision(gt_boxes, boxes, thresholds=iou_thresholds, form='pascal_voc')\n",
    "        final_scores.append(image_precision)\n",
    "\n",
    "    return np.mean(final_scores)"
   ]
  },
  {
   "cell_type": "code",
   "execution_count": 13,
   "metadata": {
    "scrolled": true
   },
   "outputs": [
    {
     "data": {
      "application/vnd.jupyter.widget-view+json": {
       "model_id": "24db709383234fce9146490b8f2d6946",
       "version_major": 2,
       "version_minor": 0
      },
      "text/plain": [
       "HBox(children=(FloatProgress(value=0.0, max=675.0), HTML(value='')))"
      ]
     },
     "metadata": {},
     "output_type": "display_data"
    },
    {
     "name": "stdout",
     "output_type": "stream",
     "text": [
      "\n",
      "[WBF]:  0.910118150102896\n",
      "CPU times: user 52.9 s, sys: 873 ms, total: 53.8 s\n",
      "Wall time: 52.6 s\n"
     ]
    }
   ],
   "source": [
    "%%time\n",
    "#{'iou_thr': 0.43312889428044965, 'score_threshold': 0.4024215973594928, 'skip_box_thr': 0.393358169307333}\n",
    "# standart params as here https://github.com/ZFTurbo/Weighted-Boxes-Fusion\n",
    "if USE_OPTIMIZE:\n",
    "    print('[WBF]: ', calculate_final_score(\n",
    "        all_predictions, \n",
    "        iou_thr=0.43312889428044965,\n",
    "        skip_box_thr=0.393358169307333,\n",
    "        score_threshold = 0.4024215973594928,\n",
    "        method='weighted_boxes_fusion',weights=[0.6,0.2,0.2]\n",
    "    ))"
   ]
  },
  {
   "cell_type": "code",
   "execution_count": 16,
   "metadata": {},
   "outputs": [],
   "source": [
    "def log(text):\n",
    "    with open('opt.log', 'a+') as logger:\n",
    "        logger.write(f'{text}\\n')\n",
    "\n",
    "def optimize(space, all_predictions, method, n_calls=10):\n",
    "    @use_named_args(space)\n",
    "    def score(**params):\n",
    "        print('-'*5 + f'{method}' + '-'*5)\n",
    "        print(params)\n",
    "        final_score = calculate_final_score(all_predictions, method=method, **params)\n",
    "        print(f'final_score = {final_score}')\n",
    "        print('-'*10)\n",
    "        return -final_score\n",
    "\n",
    "    return gp_minimize(func=score, dimensions=space, n_calls=n_calls)"
   ]
  },
  {
   "cell_type": "markdown",
   "metadata": {},
   "source": [
    "# WBF"
   ]
  },
  {
   "cell_type": "code",
   "execution_count": 19,
   "metadata": {},
   "outputs": [
    {
     "name": "stdout",
     "output_type": "stream",
     "text": [
      "-----weighted_boxes_fusion-----\n",
      "{'iou_thr': 0.7067305971843766, 'skip_box_thr': 0.35498303839764217, 'x1': 0.4232392179059292, 'x2': 0.16460073494653982, 'x3': 0.24252242047241415, 'th1': 0.37643231085301543, 'th2': 0.32732057825586053, 'th3': 0.35771949103535405}\n"
     ]
    },
    {
     "data": {
      "application/vnd.jupyter.widget-view+json": {
       "model_id": "2bb7829ab86d417ab98912db6186c152",
       "version_major": 2,
       "version_minor": 0
      },
      "text/plain": [
       "HBox(children=(FloatProgress(value=0.0, max=675.0), HTML(value='')))"
      ]
     },
     "metadata": {},
     "output_type": "display_data"
    },
    {
     "name": "stdout",
     "output_type": "stream",
     "text": [
      "\n",
      "final_score = 0.8924832045504647\n",
      "----------\n",
      "-----weighted_boxes_fusion-----\n",
      "{'iou_thr': 0.3325461053370589, 'skip_box_thr': 0.5152069156513917, 'x1': 0.415608184184478, 'x2': 0.17936017241779587, 'x3': 0.2020145710701497, 'th1': 0.4413476769432363, 'th2': 0.2765997120210041, 'th3': 0.2960576806286025}\n"
     ]
    },
    {
     "data": {
      "application/vnd.jupyter.widget-view+json": {
       "model_id": "2611c75ab8d64fc69dfadfa8c7a8a952",
       "version_major": 2,
       "version_minor": 0
      },
      "text/plain": [
       "HBox(children=(FloatProgress(value=0.0, max=675.0), HTML(value='')))"
      ]
     },
     "metadata": {},
     "output_type": "display_data"
    },
    {
     "name": "stdout",
     "output_type": "stream",
     "text": [
      "\n",
      "final_score = 0.8726338641997865\n",
      "----------\n",
      "-----weighted_boxes_fusion-----\n",
      "{'iou_thr': 0.3119971916148788, 'skip_box_thr': 0.3408336292553492, 'x1': 0.5557104479302463, 'x2': 0.1889576265516489, 'x3': 0.40851620998176597, 'th1': 0.3834306027593464, 'th2': 0.2929899272920093, 'th3': 0.2968726008695294}\n"
     ]
    },
    {
     "data": {
      "application/vnd.jupyter.widget-view+json": {
       "model_id": "330558232513437f8ff7c7cc0e83efc1",
       "version_major": 2,
       "version_minor": 0
      },
      "text/plain": [
       "HBox(children=(FloatProgress(value=0.0, max=675.0), HTML(value='')))"
      ]
     },
     "metadata": {},
     "output_type": "display_data"
    },
    {
     "name": "stdout",
     "output_type": "stream",
     "text": [
      "\n",
      "final_score = 0.9053540619821895\n",
      "----------\n",
      "-----weighted_boxes_fusion-----\n",
      "{'iou_thr': 0.5690141150460041, 'skip_box_thr': 0.30058191271176304, 'x1': 0.5510058409625869, 'x2': 0.2700899495530412, 'x3': 0.3197930006437815, 'th1': 0.42054114826897726, 'th2': 0.3446835335320742, 'th3': 0.25198495082883826}\n"
     ]
    },
    {
     "data": {
      "application/vnd.jupyter.widget-view+json": {
       "model_id": "cae4480a981a43beb5488bcf14579977",
       "version_major": 2,
       "version_minor": 0
      },
      "text/plain": [
       "HBox(children=(FloatProgress(value=0.0, max=675.0), HTML(value='')))"
      ]
     },
     "metadata": {},
     "output_type": "display_data"
    },
    {
     "name": "stdout",
     "output_type": "stream",
     "text": [
      "\n",
      "final_score = 0.8835858287461064\n",
      "----------\n",
      "-----weighted_boxes_fusion-----\n",
      "{'iou_thr': 0.3416047302183488, 'skip_box_thr': 0.35014337582198796, 'x1': 0.7359547851030518, 'x2': 0.20009866818574928, 'x3': 0.1285942271050584, 'th1': 0.29501457357738403, 'th2': 0.4102744933279364, 'th3': 0.474117700459758}\n"
     ]
    },
    {
     "data": {
      "application/vnd.jupyter.widget-view+json": {
       "model_id": "c575d41ff0444d229d527700b0009c23",
       "version_major": 2,
       "version_minor": 0
      },
      "text/plain": [
       "HBox(children=(FloatProgress(value=0.0, max=675.0), HTML(value='')))"
      ]
     },
     "metadata": {},
     "output_type": "display_data"
    },
    {
     "name": "stdout",
     "output_type": "stream",
     "text": [
      "\n",
      "final_score = 0.9062384398567196\n",
      "----------\n",
      "-----weighted_boxes_fusion-----\n",
      "{'iou_thr': 0.5045593663212341, 'skip_box_thr': 0.5975485975368711, 'x1': 0.7085519154447699, 'x2': 0.1353134100646751, 'x3': 0.35144269816501794, 'th1': 0.4640241545352416, 'th2': 0.3349807383545634, 'th3': 0.3778030180809706}\n"
     ]
    },
    {
     "data": {
      "application/vnd.jupyter.widget-view+json": {
       "model_id": "9aabc84e6ac84b7c891c7b7edcf35ab6",
       "version_major": 2,
       "version_minor": 0
      },
      "text/plain": [
       "HBox(children=(FloatProgress(value=0.0, max=675.0), HTML(value='')))"
      ]
     },
     "metadata": {},
     "output_type": "display_data"
    },
    {
     "name": "stdout",
     "output_type": "stream",
     "text": [
      "\n",
      "final_score = 0.7823779956886538\n",
      "----------\n",
      "-----weighted_boxes_fusion-----\n",
      "{'iou_thr': 0.7494956468598744, 'skip_box_thr': 0.3115950794517628, 'x1': 0.7024918819542687, 'x2': 0.4451109247473296, 'x3': 0.3774922739811012, 'th1': 0.5365011840633656, 'th2': 0.3586926356568305, 'th3': 0.5485746628322058}\n"
     ]
    },
    {
     "data": {
      "application/vnd.jupyter.widget-view+json": {
       "model_id": "28fcbb2ab6e64d0c9a883ada3eb463c9",
       "version_major": 2,
       "version_minor": 0
      },
      "text/plain": [
       "HBox(children=(FloatProgress(value=0.0, max=675.0), HTML(value='')))"
      ]
     },
     "metadata": {},
     "output_type": "display_data"
    },
    {
     "name": "stdout",
     "output_type": "stream",
     "text": [
      "\n",
      "final_score = 0.9035816504039867\n",
      "----------\n",
      "-----weighted_boxes_fusion-----\n",
      "{'iou_thr': 0.365732780360798, 'skip_box_thr': 0.596785097078699, 'x1': 0.8706239940835521, 'x2': 0.34253711702458217, 'x3': 0.2276287359398466, 'th1': 0.38997469071586377, 'th2': 0.5357121789499326, 'th3': 0.421441347095757}\n"
     ]
    },
    {
     "data": {
      "application/vnd.jupyter.widget-view+json": {
       "model_id": "e397d4cdfc5f455086de42f9baa04496",
       "version_major": 2,
       "version_minor": 0
      },
      "text/plain": [
       "HBox(children=(FloatProgress(value=0.0, max=675.0), HTML(value='')))"
      ]
     },
     "metadata": {},
     "output_type": "display_data"
    },
    {
     "name": "stdout",
     "output_type": "stream",
     "text": [
      "\n",
      "final_score = 0.7810877307359109\n",
      "----------\n",
      "-----weighted_boxes_fusion-----\n",
      "{'iou_thr': 0.38433884047104616, 'skip_box_thr': 0.5175279466835941, 'x1': 0.4617564396564908, 'x2': 0.45011060439700634, 'x3': 0.4129750526104128, 'th1': 0.32085251136612325, 'th2': 0.44953414789882906, 'th3': 0.5463113788017644}\n"
     ]
    },
    {
     "data": {
      "application/vnd.jupyter.widget-view+json": {
       "model_id": "ebc023ddf71342fe8a148ffaf49eff15",
       "version_major": 2,
       "version_minor": 0
      },
      "text/plain": [
       "HBox(children=(FloatProgress(value=0.0, max=675.0), HTML(value='')))"
      ]
     },
     "metadata": {},
     "output_type": "display_data"
    },
    {
     "name": "stdout",
     "output_type": "stream",
     "text": [
      "\n",
      "final_score = 0.8681015643929568\n",
      "----------\n",
      "-----weighted_boxes_fusion-----\n",
      "{'iou_thr': 0.5559803594881128, 'skip_box_thr': 0.5869063622525267, 'x1': 0.6786256057794741, 'x2': 0.4962327662370464, 'x3': 0.13268970748077555, 'th1': 0.36494435439227896, 'th2': 0.4164556192669293, 'th3': 0.488910416147031}\n"
     ]
    },
    {
     "data": {
      "application/vnd.jupyter.widget-view+json": {
       "model_id": "391ffdfec65145ed833fe1515f1dbbe3",
       "version_major": 2,
       "version_minor": 0
      },
      "text/plain": [
       "HBox(children=(FloatProgress(value=0.0, max=675.0), HTML(value='')))"
      ]
     },
     "metadata": {},
     "output_type": "display_data"
    },
    {
     "name": "stdout",
     "output_type": "stream",
     "text": [
      "\n",
      "final_score = 0.7977164895908342\n",
      "----------\n",
      "-----weighted_boxes_fusion-----\n",
      "{'iou_thr': 0.3, 'skip_box_thr': 0.3313030484546019, 'x1': 0.9, 'x2': 0.5, 'x3': 0.16045110967059165, 'th1': 0.55, 'th2': 0.55, 'th3': 0.55}\n"
     ]
    },
    {
     "data": {
      "application/vnd.jupyter.widget-view+json": {
       "model_id": "68848c986af74025af5dd4d06db5d290",
       "version_major": 2,
       "version_minor": 0
      },
      "text/plain": [
       "HBox(children=(FloatProgress(value=0.0, max=675.0), HTML(value='')))"
      ]
     },
     "metadata": {},
     "output_type": "display_data"
    },
    {
     "name": "stdout",
     "output_type": "stream",
     "text": [
      "\n",
      "final_score = 0.8424037641634865\n",
      "----------\n",
      "-----weighted_boxes_fusion-----\n",
      "{'iou_thr': 0.38543578189515104, 'skip_box_thr': 0.49277588546569906, 'x1': 0.46945044624770227, 'x2': 0.15255217482788175, 'x3': 0.17572766274409, 'th1': 0.49427506016689016, 'th2': 0.4525117234951857, 'th3': 0.302708949779947}\n"
     ]
    },
    {
     "data": {
      "application/vnd.jupyter.widget-view+json": {
       "model_id": "a7d15e658aae4b3fa8d5dd72bcc086d6",
       "version_major": 2,
       "version_minor": 0
      },
      "text/plain": [
       "HBox(children=(FloatProgress(value=0.0, max=675.0), HTML(value='')))"
      ]
     },
     "metadata": {},
     "output_type": "display_data"
    },
    {
     "name": "stdout",
     "output_type": "stream",
     "text": [
      "\n",
      "final_score = 0.8866841927491929\n",
      "----------\n",
      "-----weighted_boxes_fusion-----\n",
      "{'iou_thr': 0.75, 'skip_box_thr': 0.4091844938633761, 'x1': 0.6089677254054787, 'x2': 0.5, 'x3': 0.1, 'th1': 0.5239873706081732, 'th2': 0.5208255297834063, 'th3': 0.55}\n"
     ]
    },
    {
     "data": {
      "application/vnd.jupyter.widget-view+json": {
       "model_id": "92fa87fdf81541019d0f3873162d3f73",
       "version_major": 2,
       "version_minor": 0
      },
      "text/plain": [
       "HBox(children=(FloatProgress(value=0.0, max=675.0), HTML(value='')))"
      ]
     },
     "metadata": {},
     "output_type": "display_data"
    },
    {
     "name": "stdout",
     "output_type": "stream",
     "text": [
      "\n",
      "final_score = 0.8660574788144185\n",
      "----------\n",
      "-----weighted_boxes_fusion-----\n",
      "{'iou_thr': 0.6453148358814176, 'skip_box_thr': 0.43938041237264125, 'x1': 0.4, 'x2': 0.4787876593023982, 'x3': 0.3388126861017898, 'th1': 0.25, 'th2': 0.25, 'th3': 0.25}\n"
     ]
    },
    {
     "data": {
      "application/vnd.jupyter.widget-view+json": {
       "model_id": "f8c2a7fdf49246e9a57231a16ecf9e58",
       "version_major": 2,
       "version_minor": 0
      },
      "text/plain": [
       "HBox(children=(FloatProgress(value=0.0, max=675.0), HTML(value='')))"
      ]
     },
     "metadata": {},
     "output_type": "display_data"
    },
    {
     "name": "stdout",
     "output_type": "stream",
     "text": [
      "\n",
      "final_score = 0.904549745031129\n",
      "----------\n",
      "-----weighted_boxes_fusion-----\n",
      "{'iou_thr': 0.75, 'skip_box_thr': 0.34046120580308015, 'x1': 0.6557121518717568, 'x2': 0.5, 'x3': 0.1, 'th1': 0.3210918421084749, 'th2': 0.25, 'th3': 0.55}\n"
     ]
    },
    {
     "data": {
      "application/vnd.jupyter.widget-view+json": {
       "model_id": "f5c6013e298f469abfd45b86f5859335",
       "version_major": 2,
       "version_minor": 0
      },
      "text/plain": [
       "HBox(children=(FloatProgress(value=0.0, max=675.0), HTML(value='')))"
      ]
     },
     "metadata": {},
     "output_type": "display_data"
    },
    {
     "name": "stdout",
     "output_type": "stream",
     "text": [
      "\n",
      "final_score = 0.8900084111660751\n",
      "----------\n",
      "-----weighted_boxes_fusion-----\n",
      "{'iou_thr': 0.6470577266294766, 'skip_box_thr': 0.3096475627971688, 'x1': 0.712625346837453, 'x2': 0.3909167560074349, 'x3': 0.137048328463202, 'th1': 0.4120375807802813, 'th2': 0.5153814907154228, 'th3': 0.5168506698865594}\n"
     ]
    },
    {
     "data": {
      "application/vnd.jupyter.widget-view+json": {
       "model_id": "50b169989cba4f6b95fc2120d8bc49bb",
       "version_major": 2,
       "version_minor": 0
      },
      "text/plain": [
       "HBox(children=(FloatProgress(value=0.0, max=675.0), HTML(value='')))"
      ]
     },
     "metadata": {},
     "output_type": "display_data"
    },
    {
     "name": "stdout",
     "output_type": "stream",
     "text": [
      "\n",
      "final_score = 0.9038921437468299\n",
      "----------\n",
      "-----weighted_boxes_fusion-----\n",
      "{'iou_thr': 0.6095758119193879, 'skip_box_thr': 0.3356190398311544, 'x1': 0.7046903446090755, 'x2': 0.3522856925121094, 'x3': 0.30374354302453954, 'th1': 0.5134195835156511, 'th2': 0.5085827863562371, 'th3': 0.5168831518737758}\n"
     ]
    },
    {
     "data": {
      "application/vnd.jupyter.widget-view+json": {
       "model_id": "a4e8001bb4004b958d2b360df60d01e0",
       "version_major": 2,
       "version_minor": 0
      },
      "text/plain": [
       "HBox(children=(FloatProgress(value=0.0, max=675.0), HTML(value='')))"
      ]
     },
     "metadata": {},
     "output_type": "display_data"
    },
    {
     "name": "stdout",
     "output_type": "stream",
     "text": [
      "\n",
      "final_score = 0.8779928453753706\n",
      "----------\n",
      "-----weighted_boxes_fusion-----\n",
      "{'iou_thr': 0.34517584442100047, 'skip_box_thr': 0.3458306771771087, 'x1': 0.7170698262066243, 'x2': 0.2879306909229019, 'x3': 0.34204604599093125, 'th1': 0.30074203337470745, 'th2': 0.3065391141729898, 'th3': 0.4695837815608102}\n"
     ]
    },
    {
     "data": {
      "application/vnd.jupyter.widget-view+json": {
       "model_id": "627e4f04d10c44fca074e120cf109b39",
       "version_major": 2,
       "version_minor": 0
      },
      "text/plain": [
       "HBox(children=(FloatProgress(value=0.0, max=675.0), HTML(value='')))"
      ]
     },
     "metadata": {},
     "output_type": "display_data"
    },
    {
     "name": "stdout",
     "output_type": "stream",
     "text": [
      "\n",
      "final_score = 0.9059830911878716\n",
      "----------\n",
      "-----weighted_boxes_fusion-----\n",
      "{'iou_thr': 0.442665730110265, 'skip_box_thr': 0.34720611035859655, 'x1': 0.6863932659248542, 'x2': 0.1709389296350841, 'x3': 0.3257036999045624, 'th1': 0.253255560631383, 'th2': 0.2825108460489681, 'th3': 0.5299685695695433}\n"
     ]
    },
    {
     "data": {
      "application/vnd.jupyter.widget-view+json": {
       "model_id": "62dfb4d51d884502ad8fc73078818be9",
       "version_major": 2,
       "version_minor": 0
      },
      "text/plain": [
       "HBox(children=(FloatProgress(value=0.0, max=675.0), HTML(value='')))"
      ]
     },
     "metadata": {},
     "output_type": "display_data"
    },
    {
     "name": "stdout",
     "output_type": "stream",
     "text": [
      "\n",
      "final_score = 0.906150976117063\n",
      "----------\n",
      "-----weighted_boxes_fusion-----\n",
      "{'iou_thr': 0.5067859608225336, 'skip_box_thr': 0.3094431487376334, 'x1': 0.6985021344069884, 'x2': 0.35023462716522313, 'x3': 0.13925870521804315, 'th1': 0.5039281065095083, 'th2': 0.4164777832160732, 'th3': 0.25670808288596186}\n"
     ]
    },
    {
     "data": {
      "application/vnd.jupyter.widget-view+json": {
       "model_id": "b42fef14ed1e4b60bb38859b8b2142bc",
       "version_major": 2,
       "version_minor": 0
      },
      "text/plain": [
       "HBox(children=(FloatProgress(value=0.0, max=675.0), HTML(value='')))"
      ]
     },
     "metadata": {},
     "output_type": "display_data"
    },
    {
     "name": "stdout",
     "output_type": "stream",
     "text": [
      "\n",
      "final_score = 0.8932473881954569\n",
      "----------\n",
      "-----weighted_boxes_fusion-----\n",
      "{'iou_thr': 0.3, 'skip_box_thr': 0.34680712602666736, 'x1': 0.5600284610642947, 'x2': 0.24459098730584264, 'x3': 0.5, 'th1': 0.34229290787958117, 'th2': 0.4806179661182694, 'th3': 0.2838127069392985}\n"
     ]
    },
    {
     "data": {
      "application/vnd.jupyter.widget-view+json": {
       "model_id": "4b899d6b32fe47ad81a4b952571b773d",
       "version_major": 2,
       "version_minor": 0
      },
      "text/plain": [
       "HBox(children=(FloatProgress(value=0.0, max=675.0), HTML(value='')))"
      ]
     },
     "metadata": {},
     "output_type": "display_data"
    },
    {
     "name": "stdout",
     "output_type": "stream",
     "text": [
      "\n",
      "final_score = 0.9044985865634094\n",
      "----------\n",
      "-----weighted_boxes_fusion-----\n",
      "{'iou_thr': 0.602425579381594, 'skip_box_thr': 0.3465738996067692, 'x1': 0.5910257408111754, 'x2': 0.29360572304717164, 'x3': 0.21232353522323386, 'th1': 0.4923520564662589, 'th2': 0.37764630330127474, 'th3': 0.40073598704539576}\n"
     ]
    },
    {
     "data": {
      "application/vnd.jupyter.widget-view+json": {
       "model_id": "8b794cb05c364645a420ba65c61e7e91",
       "version_major": 2,
       "version_minor": 0
      },
      "text/plain": [
       "HBox(children=(FloatProgress(value=0.0, max=675.0), HTML(value='')))"
      ]
     },
     "metadata": {},
     "output_type": "display_data"
    },
    {
     "name": "stdout",
     "output_type": "stream",
     "text": [
      "\n",
      "final_score = 0.9060519875427979\n",
      "----------\n",
      "-----weighted_boxes_fusion-----\n",
      "{'iou_thr': 0.5081607165946356, 'skip_box_thr': 0.34199996249556397, 'x1': 0.7285540232333659, 'x2': 0.4551509730364668, 'x3': 0.3630927929533939, 'th1': 0.5157671574436926, 'th2': 0.4556205943910633, 'th3': 0.513253876264361}\n"
     ]
    },
    {
     "data": {
      "application/vnd.jupyter.widget-view+json": {
       "model_id": "78351d51fd48485b8c72e2946145e31a",
       "version_major": 2,
       "version_minor": 0
      },
      "text/plain": [
       "HBox(children=(FloatProgress(value=0.0, max=675.0), HTML(value='')))"
      ]
     },
     "metadata": {},
     "output_type": "display_data"
    },
    {
     "name": "stdout",
     "output_type": "stream",
     "text": [
      "\n",
      "final_score = 0.8947327850347234\n",
      "----------\n",
      "-----weighted_boxes_fusion-----\n",
      "{'iou_thr': 0.7028415645317563, 'skip_box_thr': 0.35089313122084864, 'x1': 0.841079026574669, 'x2': 0.35456259563898296, 'x3': 0.23390329471717372, 'th1': 0.46478629466775395, 'th2': 0.3710308164646003, 'th3': 0.5323950813952429}\n"
     ]
    },
    {
     "data": {
      "application/vnd.jupyter.widget-view+json": {
       "model_id": "939ed512d73a4f6a80e424f40a63e842",
       "version_major": 2,
       "version_minor": 0
      },
      "text/plain": [
       "HBox(children=(FloatProgress(value=0.0, max=675.0), HTML(value='')))"
      ]
     },
     "metadata": {},
     "output_type": "display_data"
    },
    {
     "name": "stdout",
     "output_type": "stream",
     "text": [
      "\n",
      "final_score = 0.9048128677537093\n",
      "----------\n",
      "-----weighted_boxes_fusion-----\n",
      "{'iou_thr': 0.40579869430890125, 'skip_box_thr': 0.3458618169472391, 'x1': 0.7025640316385612, 'x2': 0.1, 'x3': 0.2723965480591024, 'th1': 0.5142279030069329, 'th2': 0.5070571518515035, 'th3': 0.37807269788706915}\n"
     ]
    },
    {
     "data": {
      "application/vnd.jupyter.widget-view+json": {
       "model_id": "d171a59120c243adbea8d058b09cf424",
       "version_major": 2,
       "version_minor": 0
      },
      "text/plain": [
       "HBox(children=(FloatProgress(value=0.0, max=675.0), HTML(value='')))"
      ]
     },
     "metadata": {},
     "output_type": "display_data"
    },
    {
     "name": "stdout",
     "output_type": "stream",
     "text": [
      "\n",
      "final_score = 0.9094416223037738\n",
      "----------\n",
      "-----weighted_boxes_fusion-----\n",
      "{'iou_thr': 0.75, 'skip_box_thr': 0.34616541336044176, 'x1': 0.7412687104890088, 'x2': 0.1, 'x3': 0.1, 'th1': 0.55, 'th2': 0.4564805903048551, 'th3': 0.3487551759235473}\n"
     ]
    },
    {
     "data": {
      "application/vnd.jupyter.widget-view+json": {
       "model_id": "2c7e897541b748bfa7ef313a7034fd98",
       "version_major": 2,
       "version_minor": 0
      },
      "text/plain": [
       "HBox(children=(FloatProgress(value=0.0, max=675.0), HTML(value='')))"
      ]
     },
     "metadata": {},
     "output_type": "display_data"
    },
    {
     "name": "stdout",
     "output_type": "stream",
     "text": [
      "\n",
      "final_score = 0.9012746638824353\n",
      "----------\n",
      "-----weighted_boxes_fusion-----\n",
      "{'iou_thr': 0.3, 'skip_box_thr': 0.3467766359425529, 'x1': 0.6816371726955244, 'x2': 0.1, 'x3': 0.431623826821511, 'th1': 0.55, 'th2': 0.34890731206675313, 'th3': 0.4063351388358598}\n"
     ]
    },
    {
     "data": {
      "application/vnd.jupyter.widget-view+json": {
       "model_id": "42cbc8af72564086950f7dc04bf5fb79",
       "version_major": 2,
       "version_minor": 0
      },
      "text/plain": [
       "HBox(children=(FloatProgress(value=0.0, max=675.0), HTML(value='')))"
      ]
     },
     "metadata": {},
     "output_type": "display_data"
    },
    {
     "name": "stdout",
     "output_type": "stream",
     "text": [
      "\n",
      "final_score = 0.9061459535524911\n",
      "----------\n",
      "-----weighted_boxes_fusion-----\n",
      "{'iou_thr': 0.7108346355747196, 'skip_box_thr': 0.3513144006697302, 'x1': 0.8502346017068375, 'x2': 0.14390071952065805, 'x3': 0.46706937019472194, 'th1': 0.3291935124729434, 'th2': 0.4450659110038651, 'th3': 0.516827115309519}\n"
     ]
    },
    {
     "data": {
      "application/vnd.jupyter.widget-view+json": {
       "model_id": "4d7dda4e763a485891e3130d6de66b1d",
       "version_major": 2,
       "version_minor": 0
      },
      "text/plain": [
       "HBox(children=(FloatProgress(value=0.0, max=675.0), HTML(value='')))"
      ]
     },
     "metadata": {},
     "output_type": "display_data"
    },
    {
     "name": "stdout",
     "output_type": "stream",
     "text": [
      "\n",
      "final_score = 0.9003363286473233\n",
      "----------\n",
      "-----weighted_boxes_fusion-----\n",
      "{'iou_thr': 0.3970558530507109, 'skip_box_thr': 0.34636956508235284, 'x1': 0.6716374758594743, 'x2': 0.4535105235230549, 'x3': 0.1, 'th1': 0.5132519314628995, 'th2': 0.3690681519632349, 'th3': 0.25}\n"
     ]
    },
    {
     "data": {
      "application/vnd.jupyter.widget-view+json": {
       "model_id": "0e1332a209fc41b8bf95bbd94dbb9b8f",
       "version_major": 2,
       "version_minor": 0
      },
      "text/plain": [
       "HBox(children=(FloatProgress(value=0.0, max=675.0), HTML(value='')))"
      ]
     },
     "metadata": {},
     "output_type": "display_data"
    },
    {
     "name": "stdout",
     "output_type": "stream",
     "text": [
      "\n",
      "final_score = 0.9083768334637162\n",
      "----------\n",
      "-----weighted_boxes_fusion-----\n",
      "{'iou_thr': 0.3552929185463418, 'skip_box_thr': 0.343715635992197, 'x1': 0.6787393015628327, 'x2': 0.13599452301212564, 'x3': 0.1, 'th1': 0.46803957381268446, 'th2': 0.2996952530385768, 'th3': 0.26676574761414124}\n"
     ]
    },
    {
     "data": {
      "application/vnd.jupyter.widget-view+json": {
       "model_id": "4995b029629a4c53944d4b11e9ab19b1",
       "version_major": 2,
       "version_minor": 0
      },
      "text/plain": [
       "HBox(children=(FloatProgress(value=0.0, max=675.0), HTML(value='')))"
      ]
     },
     "metadata": {},
     "output_type": "display_data"
    },
    {
     "name": "stdout",
     "output_type": "stream",
     "text": [
      "\n",
      "final_score = 0.9067851105742388\n",
      "----------\n",
      "-----weighted_boxes_fusion-----\n",
      "{'iou_thr': 0.3993835612469832, 'skip_box_thr': 0.3421290376886819, 'x1': 0.4, 'x2': 0.1, 'x3': 0.1, 'th1': 0.5324022572982191, 'th2': 0.55, 'th3': 0.36763986407257876}\n"
     ]
    },
    {
     "data": {
      "application/vnd.jupyter.widget-view+json": {
       "model_id": "537fc8621c614ca2bedd72e471882f9a",
       "version_major": 2,
       "version_minor": 0
      },
      "text/plain": [
       "HBox(children=(FloatProgress(value=0.0, max=675.0), HTML(value='')))"
      ]
     },
     "metadata": {},
     "output_type": "display_data"
    },
    {
     "name": "stdout",
     "output_type": "stream",
     "text": [
      "\n",
      "final_score = 0.9084898461531069\n",
      "----------\n",
      "-----weighted_boxes_fusion-----\n",
      "{'iou_thr': 0.3, 'skip_box_thr': 0.3433359016992751, 'x1': 0.48892228614167405, 'x2': 0.1, 'x3': 0.1, 'th1': 0.3568072163317306, 'th2': 0.49723013487352186, 'th3': 0.4325348213905413}\n"
     ]
    },
    {
     "data": {
      "application/vnd.jupyter.widget-view+json": {
       "model_id": "c5291fb2e28441f585b28078998c2646",
       "version_major": 2,
       "version_minor": 0
      },
      "text/plain": [
       "HBox(children=(FloatProgress(value=0.0, max=675.0), HTML(value='')))"
      ]
     },
     "metadata": {},
     "output_type": "display_data"
    },
    {
     "name": "stdout",
     "output_type": "stream",
     "text": [
      "\n",
      "final_score = 0.9058295575067553\n",
      "----------\n",
      "-----weighted_boxes_fusion-----\n",
      "{'iou_thr': 0.4071503400860804, 'skip_box_thr': 0.3407659855247986, 'x1': 0.4, 'x2': 0.23112749847982514, 'x3': 0.15965010258020843, 'th1': 0.5106116696819911, 'th2': 0.5029723845705405, 'th3': 0.25}\n"
     ]
    },
    {
     "data": {
      "application/vnd.jupyter.widget-view+json": {
       "model_id": "0a736a55558f4bf68159d7ef7a6f85de",
       "version_major": 2,
       "version_minor": 0
      },
      "text/plain": [
       "HBox(children=(FloatProgress(value=0.0, max=675.0), HTML(value='')))"
      ]
     },
     "metadata": {},
     "output_type": "display_data"
    },
    {
     "name": "stdout",
     "output_type": "stream",
     "text": [
      "\n",
      "final_score = 0.9086429014638074\n",
      "----------\n",
      "-----weighted_boxes_fusion-----\n",
      "{'iou_thr': 0.44716962472089705, 'skip_box_thr': 0.3425101476001492, 'x1': 0.4, 'x2': 0.1, 'x3': 0.3419141844333752, 'th1': 0.34621922170133623, 'th2': 0.33107651374134117, 'th3': 0.25}\n"
     ]
    },
    {
     "data": {
      "application/vnd.jupyter.widget-view+json": {
       "model_id": "ac260f7bfb404d90aac8fce1fd7df648",
       "version_major": 2,
       "version_minor": 0
      },
      "text/plain": [
       "HBox(children=(FloatProgress(value=0.0, max=675.0), HTML(value='')))"
      ]
     },
     "metadata": {},
     "output_type": "display_data"
    },
    {
     "name": "stdout",
     "output_type": "stream",
     "text": [
      "\n",
      "final_score = 0.9028493218332537\n",
      "----------\n",
      "-----weighted_boxes_fusion-----\n",
      "{'iou_thr': 0.75, 'skip_box_thr': 0.3071328713277344, 'x1': 0.8216852199058979, 'x2': 0.28016051876356, 'x3': 0.12034548405860376, 'th1': 0.25, 'th2': 0.42673016170156586, 'th3': 0.5091918081587694}\n"
     ]
    },
    {
     "data": {
      "application/vnd.jupyter.widget-view+json": {
       "model_id": "36ace8a0b58948e8b408ea5671dbb7da",
       "version_major": 2,
       "version_minor": 0
      },
      "text/plain": [
       "HBox(children=(FloatProgress(value=0.0, max=675.0), HTML(value='')))"
      ]
     },
     "metadata": {},
     "output_type": "display_data"
    },
    {
     "name": "stdout",
     "output_type": "stream",
     "text": [
      "\n",
      "final_score = 0.8859061767633537\n",
      "----------\n",
      "-----weighted_boxes_fusion-----\n",
      "{'iou_thr': 0.736705543120035, 'skip_box_thr': 0.31280448371979425, 'x1': 0.4, 'x2': 0.5, 'x3': 0.14980456136825185, 'th1': 0.2716011902320408, 'th2': 0.55, 'th3': 0.55}\n"
     ]
    },
    {
     "data": {
      "application/vnd.jupyter.widget-view+json": {
       "model_id": "def64228798c4563ac891dbc767d3d20",
       "version_major": 2,
       "version_minor": 0
      },
      "text/plain": [
       "HBox(children=(FloatProgress(value=0.0, max=675.0), HTML(value='')))"
      ]
     },
     "metadata": {},
     "output_type": "display_data"
    },
    {
     "name": "stdout",
     "output_type": "stream",
     "text": [
      "\n",
      "final_score = 0.8915883992401615\n",
      "----------\n",
      "-----weighted_boxes_fusion-----\n",
      "{'iou_thr': 0.4680380663228442, 'skip_box_thr': 0.34753266560839474, 'x1': 0.5627371983064317, 'x2': 0.11629963222700304, 'x3': 0.42982759099244316, 'th1': 0.40399083703831395, 'th2': 0.30182646760349524, 'th3': 0.3540707281229228}\n"
     ]
    },
    {
     "data": {
      "application/vnd.jupyter.widget-view+json": {
       "model_id": "9a9b98c31fcf43f482dd1648918d0245",
       "version_major": 2,
       "version_minor": 0
      },
      "text/plain": [
       "HBox(children=(FloatProgress(value=0.0, max=675.0), HTML(value='')))"
      ]
     },
     "metadata": {},
     "output_type": "display_data"
    },
    {
     "name": "stdout",
     "output_type": "stream",
     "text": [
      "\n",
      "final_score = 0.9039333609627176\n",
      "----------\n",
      "-----weighted_boxes_fusion-----\n",
      "{'iou_thr': 0.6448052886228214, 'skip_box_thr': 0.34507371521593905, 'x1': 0.6756290544289353, 'x2': 0.14267061845867185, 'x3': 0.47878186610264273, 'th1': 0.4877623974829821, 'th2': 0.46717060789155995, 'th3': 0.34825384842277207}\n"
     ]
    },
    {
     "data": {
      "application/vnd.jupyter.widget-view+json": {
       "model_id": "bcbaa4d4e4324b1c908a3366f9777c0d",
       "version_major": 2,
       "version_minor": 0
      },
      "text/plain": [
       "HBox(children=(FloatProgress(value=0.0, max=675.0), HTML(value='')))"
      ]
     },
     "metadata": {},
     "output_type": "display_data"
    },
    {
     "name": "stdout",
     "output_type": "stream",
     "text": [
      "\n",
      "final_score = 0.9031836783161166\n",
      "----------\n",
      "-----weighted_boxes_fusion-----\n",
      "{'iou_thr': 0.3, 'skip_box_thr': 0.3384526791971254, 'x1': 0.4, 'x2': 0.4876917464748709, 'x3': 0.1, 'th1': 0.55, 'th2': 0.4030484676089644, 'th3': 0.30716089021058673}\n"
     ]
    },
    {
     "data": {
      "application/vnd.jupyter.widget-view+json": {
       "model_id": "8eba0d106d604c73abf7496f2149edb3",
       "version_major": 2,
       "version_minor": 0
      },
      "text/plain": [
       "HBox(children=(FloatProgress(value=0.0, max=675.0), HTML(value='')))"
      ]
     },
     "metadata": {},
     "output_type": "display_data"
    },
    {
     "name": "stdout",
     "output_type": "stream",
     "text": [
      "\n",
      "final_score = 0.9060437167444496\n",
      "----------\n",
      "-----weighted_boxes_fusion-----\n",
      "{'iou_thr': 0.5585424358628948, 'skip_box_thr': 0.34611450111164627, 'x1': 0.6810283315579886, 'x2': 0.22825586693542335, 'x3': 0.12537903153375765, 'th1': 0.3005754460879948, 'th2': 0.4492452003940817, 'th3': 0.4019961579244403}\n"
     ]
    },
    {
     "data": {
      "application/vnd.jupyter.widget-view+json": {
       "model_id": "86caec01532a4ccfb558a2a8129fae96",
       "version_major": 2,
       "version_minor": 0
      },
      "text/plain": [
       "HBox(children=(FloatProgress(value=0.0, max=675.0), HTML(value='')))"
      ]
     },
     "metadata": {},
     "output_type": "display_data"
    },
    {
     "name": "stdout",
     "output_type": "stream",
     "text": [
      "\n",
      "final_score = 0.9007066554981352\n",
      "----------\n",
      "-----weighted_boxes_fusion-----\n",
      "{'iou_thr': 0.5201546223882213, 'skip_box_thr': 0.35120034316577364, 'x1': 0.5643397667551074, 'x2': 0.2010739509657073, 'x3': 0.46257344973962666, 'th1': 0.2876981000232942, 'th2': 0.4303580953641222, 'th3': 0.49067718133192867}\n"
     ]
    },
    {
     "data": {
      "application/vnd.jupyter.widget-view+json": {
       "model_id": "b00e3220163f46d08a655a63b195e8a2",
       "version_major": 2,
       "version_minor": 0
      },
      "text/plain": [
       "HBox(children=(FloatProgress(value=0.0, max=675.0), HTML(value='')))"
      ]
     },
     "metadata": {},
     "output_type": "display_data"
    },
    {
     "name": "stdout",
     "output_type": "stream",
     "text": [
      "\n",
      "final_score = 0.9029540897330738\n",
      "----------\n",
      "-----weighted_boxes_fusion-----\n",
      "{'iou_thr': 0.33723717008590803, 'skip_box_thr': 0.3466841035601447, 'x1': 0.4, 'x2': 0.5, 'x3': 0.16170153117864047, 'th1': 0.55, 'th2': 0.55, 'th3': 0.25}\n"
     ]
    },
    {
     "data": {
      "application/vnd.jupyter.widget-view+json": {
       "model_id": "f71282ef02384c9c9e779c931ddcc99e",
       "version_major": 2,
       "version_minor": 0
      },
      "text/plain": [
       "HBox(children=(FloatProgress(value=0.0, max=675.0), HTML(value='')))"
      ]
     },
     "metadata": {},
     "output_type": "display_data"
    },
    {
     "name": "stdout",
     "output_type": "stream",
     "text": [
      "\n",
      "final_score = 0.9078406337229963\n",
      "----------\n",
      "-----weighted_boxes_fusion-----\n",
      "{'iou_thr': 0.3, 'skip_box_thr': 0.34840785000093877, 'x1': 0.4, 'x2': 0.5, 'x3': 0.1, 'th1': 0.55, 'th2': 0.55, 'th3': 0.55}\n"
     ]
    },
    {
     "data": {
      "application/vnd.jupyter.widget-view+json": {
       "model_id": "a6efa697f2af4dba8a0f4edf7ba27013",
       "version_major": 2,
       "version_minor": 0
      },
      "text/plain": [
       "HBox(children=(FloatProgress(value=0.0, max=675.0), HTML(value='')))"
      ]
     },
     "metadata": {},
     "output_type": "display_data"
    },
    {
     "name": "stdout",
     "output_type": "stream",
     "text": [
      "\n",
      "final_score = 0.8424037641634865\n",
      "----------\n",
      "-----weighted_boxes_fusion-----\n",
      "{'iou_thr': 0.38867564443585445, 'skip_box_thr': 0.33779567563332324, 'x1': 0.6027455843961085, 'x2': 0.4459718690882595, 'x3': 0.49904047040982114, 'th1': 0.5213409351304557, 'th2': 0.47618605366752537, 'th3': 0.3486136723035917}\n"
     ]
    },
    {
     "data": {
      "application/vnd.jupyter.widget-view+json": {
       "model_id": "d23c0bc9a28147d798dec9943e6bab92",
       "version_major": 2,
       "version_minor": 0
      },
      "text/plain": [
       "HBox(children=(FloatProgress(value=0.0, max=675.0), HTML(value='')))"
      ]
     },
     "metadata": {},
     "output_type": "display_data"
    },
    {
     "name": "stdout",
     "output_type": "stream",
     "text": [
      "\n",
      "final_score = 0.9087827229008428\n",
      "----------\n",
      "-----weighted_boxes_fusion-----\n",
      "{'iou_thr': 0.396444185027149, 'skip_box_thr': 0.34426851937985914, 'x1': 0.7873771718934358, 'x2': 0.44083982892500406, 'x3': 0.237123179198291, 'th1': 0.4693322553399668, 'th2': 0.39278330185533883, 'th3': 0.27143757968676363}\n"
     ]
    },
    {
     "data": {
      "application/vnd.jupyter.widget-view+json": {
       "model_id": "c5f8ab5f415b47348470fb587a846b2c",
       "version_major": 2,
       "version_minor": 0
      },
      "text/plain": [
       "HBox(children=(FloatProgress(value=0.0, max=675.0), HTML(value='')))"
      ]
     },
     "metadata": {},
     "output_type": "display_data"
    },
    {
     "name": "stdout",
     "output_type": "stream",
     "text": [
      "\n",
      "final_score = 0.9083714727547404\n",
      "----------\n",
      "-----weighted_boxes_fusion-----\n",
      "{'iou_thr': 0.42223108267025833, 'skip_box_thr': 0.3440537247580751, 'x1': 0.5281982115927666, 'x2': 0.22361864158647954, 'x3': 0.20126130343052495, 'th1': 0.44033961716394315, 'th2': 0.5256089255381948, 'th3': 0.26134143244769376}\n"
     ]
    },
    {
     "data": {
      "application/vnd.jupyter.widget-view+json": {
       "model_id": "652f814b6a044e648fd0fca3a58de69a",
       "version_major": 2,
       "version_minor": 0
      },
      "text/plain": [
       "HBox(children=(FloatProgress(value=0.0, max=675.0), HTML(value='')))"
      ]
     },
     "metadata": {},
     "output_type": "display_data"
    },
    {
     "name": "stdout",
     "output_type": "stream",
     "text": [
      "\n",
      "final_score = 0.9085242106493044\n",
      "----------\n",
      "-----weighted_boxes_fusion-----\n",
      "{'iou_thr': 0.34844003070363705, 'skip_box_thr': 0.3395366147104807, 'x1': 0.8012224335075391, 'x2': 0.1900931359359438, 'x3': 0.4412612775668263, 'th1': 0.3853496909389471, 'th2': 0.45813260866907135, 'th3': 0.2805463508337924}\n"
     ]
    },
    {
     "data": {
      "application/vnd.jupyter.widget-view+json": {
       "model_id": "35d00dfed7f24d0babd224b91a5fb9ea",
       "version_major": 2,
       "version_minor": 0
      },
      "text/plain": [
       "HBox(children=(FloatProgress(value=0.0, max=675.0), HTML(value='')))"
      ]
     },
     "metadata": {},
     "output_type": "display_data"
    },
    {
     "name": "stdout",
     "output_type": "stream",
     "text": [
      "\n",
      "final_score = 0.9079464980104961\n",
      "----------\n",
      "-----weighted_boxes_fusion-----\n",
      "{'iou_thr': 0.373953823672704, 'skip_box_thr': 0.3559324615550481, 'x1': 0.9, 'x2': 0.3461120847599013, 'x3': 0.49511923614126907, 'th1': 0.25, 'th2': 0.55, 'th3': 0.4262589585407489}\n"
     ]
    },
    {
     "data": {
      "application/vnd.jupyter.widget-view+json": {
       "model_id": "83a4d92aa60c4046bd38b0403e83b000",
       "version_major": 2,
       "version_minor": 0
      },
      "text/plain": [
       "HBox(children=(FloatProgress(value=0.0, max=675.0), HTML(value='')))"
      ]
     },
     "metadata": {},
     "output_type": "display_data"
    },
    {
     "name": "stdout",
     "output_type": "stream",
     "text": [
      "\n",
      "final_score = 0.9076123920085156\n",
      "----------\n",
      "-----weighted_boxes_fusion-----\n",
      "{'iou_thr': 0.6276702229435333, 'skip_box_thr': 0.3, 'x1': 0.9, 'x2': 0.5, 'x3': 0.3521724178661836, 'th1': 0.55, 'th2': 0.3430674493968694, 'th3': 0.55}\n"
     ]
    },
    {
     "data": {
      "application/vnd.jupyter.widget-view+json": {
       "model_id": "70e0f339012d454db39faec9544ba8c5",
       "version_major": 2,
       "version_minor": 0
      },
      "text/plain": [
       "HBox(children=(FloatProgress(value=0.0, max=675.0), HTML(value='')))"
      ]
     },
     "metadata": {},
     "output_type": "display_data"
    },
    {
     "name": "stdout",
     "output_type": "stream",
     "text": [
      "\n",
      "final_score = 0.9029101534847646\n",
      "----------\n",
      "-----weighted_boxes_fusion-----\n",
      "{'iou_thr': 0.75, 'skip_box_thr': 0.3591907863187739, 'x1': 0.9, 'x2': 0.42871080589770016, 'x3': 0.36909712134895134, 'th1': 0.55, 'th2': 0.25, 'th3': 0.55}\n"
     ]
    },
    {
     "data": {
      "application/vnd.jupyter.widget-view+json": {
       "model_id": "60101caf1a40442aad5e718b7d47822b",
       "version_major": 2,
       "version_minor": 0
      },
      "text/plain": [
       "HBox(children=(FloatProgress(value=0.0, max=675.0), HTML(value='')))"
      ]
     },
     "metadata": {},
     "output_type": "display_data"
    },
    {
     "name": "stdout",
     "output_type": "stream",
     "text": [
      "\n",
      "final_score = 0.9037499342934584\n",
      "----------\n",
      "-----weighted_boxes_fusion-----\n",
      "{'iou_thr': 0.33404214299879686, 'skip_box_thr': 0.348642339848676, 'x1': 0.4536171582688019, 'x2': 0.16031103221750537, 'x3': 0.3278371075808586, 'th1': 0.29673050284011765, 'th2': 0.3907672729650765, 'th3': 0.46614452629927045}\n"
     ]
    },
    {
     "data": {
      "application/vnd.jupyter.widget-view+json": {
       "model_id": "8a4786e3e4014dfa9d2c6758cf578819",
       "version_major": 2,
       "version_minor": 0
      },
      "text/plain": [
       "HBox(children=(FloatProgress(value=0.0, max=675.0), HTML(value='')))"
      ]
     },
     "metadata": {},
     "output_type": "display_data"
    },
    {
     "name": "stdout",
     "output_type": "stream",
     "text": [
      "\n",
      "final_score = 0.9063469440816979\n",
      "----------\n",
      "-----weighted_boxes_fusion-----\n",
      "{'iou_thr': 0.33208070613569957, 'skip_box_thr': 0.3489860700623682, 'x1': 0.9, 'x2': 0.3448755027877628, 'x3': 0.17137768565112305, 'th1': 0.4255545591423125, 'th2': 0.55, 'th3': 0.39046485736101133}\n"
     ]
    },
    {
     "data": {
      "application/vnd.jupyter.widget-view+json": {
       "model_id": "368b236181d848f3975f4797250caf6f",
       "version_major": 2,
       "version_minor": 0
      },
      "text/plain": [
       "HBox(children=(FloatProgress(value=0.0, max=675.0), HTML(value='')))"
      ]
     },
     "metadata": {},
     "output_type": "display_data"
    },
    {
     "name": "stdout",
     "output_type": "stream",
     "text": [
      "\n",
      "final_score = 0.907360370146263\n",
      "----------\n",
      "-----weighted_boxes_fusion-----\n",
      "{'iou_thr': 0.36392112862001536, 'skip_box_thr': 0.34195875545070636, 'x1': 0.8707830762990935, 'x2': 0.4141259823792429, 'x3': 0.2421440494643062, 'th1': 0.35291461479154923, 'th2': 0.40916617225752905, 'th3': 0.2638604044307931}\n"
     ]
    },
    {
     "data": {
      "application/vnd.jupyter.widget-view+json": {
       "model_id": "5644f5bbfcac479190bfaa730d732e85",
       "version_major": 2,
       "version_minor": 0
      },
      "text/plain": [
       "HBox(children=(FloatProgress(value=0.0, max=675.0), HTML(value='')))"
      ]
     },
     "metadata": {},
     "output_type": "display_data"
    },
    {
     "name": "stdout",
     "output_type": "stream",
     "text": [
      "\n",
      "final_score = 0.9063600077897916\n",
      "----------\n",
      "-----weighted_boxes_fusion-----\n",
      "{'iou_thr': 0.4826400195898409, 'skip_box_thr': 0.34945429179533594, 'x1': 0.9, 'x2': 0.21707605658173956, 'x3': 0.3994835994374426, 'th1': 0.55, 'th2': 0.55, 'th3': 0.41314170542736184}\n"
     ]
    },
    {
     "data": {
      "application/vnd.jupyter.widget-view+json": {
       "model_id": "4c0332081c8e4fef8aa8bdce305ff079",
       "version_major": 2,
       "version_minor": 0
      },
      "text/plain": [
       "HBox(children=(FloatProgress(value=0.0, max=675.0), HTML(value='')))"
      ]
     },
     "metadata": {},
     "output_type": "display_data"
    },
    {
     "name": "stdout",
     "output_type": "stream",
     "text": [
      "\n",
      "final_score = 0.9055532543159082\n",
      "----------\n",
      "-----weighted_boxes_fusion-----\n",
      "{'iou_thr': 0.418057069730291, 'skip_box_thr': 0.3448018829786673, 'x1': 0.9, 'x2': 0.4652015992404068, 'x3': 0.405033278948041, 'th1': 0.5491746078439101, 'th2': 0.25, 'th3': 0.38720569459785525}\n"
     ]
    },
    {
     "data": {
      "application/vnd.jupyter.widget-view+json": {
       "model_id": "055486e579374edbab5932aa4cd73cc9",
       "version_major": 2,
       "version_minor": 0
      },
      "text/plain": [
       "HBox(children=(FloatProgress(value=0.0, max=675.0), HTML(value='')))"
      ]
     },
     "metadata": {},
     "output_type": "display_data"
    },
    {
     "name": "stdout",
     "output_type": "stream",
     "text": [
      "\n",
      "final_score = 0.9086175481162152\n",
      "----------\n",
      "-----weighted_boxes_fusion-----\n",
      "{'iou_thr': 0.39358226328158685, 'skip_box_thr': 0.3335187564324117, 'x1': 0.7756096052025423, 'x2': 0.30877379822971707, 'x3': 0.18946258144712824, 'th1': 0.450163816588697, 'th2': 0.55, 'th3': 0.3062786442748729}\n"
     ]
    },
    {
     "data": {
      "application/vnd.jupyter.widget-view+json": {
       "model_id": "a486c146efcf46e5ab38df9e8565866f",
       "version_major": 2,
       "version_minor": 0
      },
      "text/plain": [
       "HBox(children=(FloatProgress(value=0.0, max=675.0), HTML(value='')))"
      ]
     },
     "metadata": {},
     "output_type": "display_data"
    },
    {
     "name": "stdout",
     "output_type": "stream",
     "text": [
      "\n",
      "final_score = 0.9081419497967649\n",
      "----------\n",
      "-----weighted_boxes_fusion-----\n",
      "{'iou_thr': 0.4410122587905192, 'skip_box_thr': 0.34544851848876407, 'x1': 0.9, 'x2': 0.30800833956750917, 'x3': 0.5, 'th1': 0.5499982353160495, 'th2': 0.55, 'th3': 0.26651773612354734}\n"
     ]
    },
    {
     "data": {
      "application/vnd.jupyter.widget-view+json": {
       "model_id": "e26e24216efa4ea9bbe38dd35d2061d6",
       "version_major": 2,
       "version_minor": 0
      },
      "text/plain": [
       "HBox(children=(FloatProgress(value=0.0, max=675.0), HTML(value='')))"
      ]
     },
     "metadata": {},
     "output_type": "display_data"
    },
    {
     "name": "stdout",
     "output_type": "stream",
     "text": [
      "\n",
      "final_score = 0.9082632565221059\n",
      "----------\n",
      "-----weighted_boxes_fusion-----\n",
      "{'iou_thr': 0.345721050536912, 'skip_box_thr': 0.3368010031187, 'x1': 0.5687779850526853, 'x2': 0.1326094432893038, 'x3': 0.2927991302671237, 'th1': 0.49279627928609393, 'th2': 0.40389362712352694, 'th3': 0.31149519718423024}\n"
     ]
    },
    {
     "data": {
      "application/vnd.jupyter.widget-view+json": {
       "model_id": "f60c4fac30204fea97ed1be1b9068bb5",
       "version_major": 2,
       "version_minor": 0
      },
      "text/plain": [
       "HBox(children=(FloatProgress(value=0.0, max=675.0), HTML(value='')))"
      ]
     },
     "metadata": {},
     "output_type": "display_data"
    },
    {
     "name": "stdout",
     "output_type": "stream",
     "text": [
      "\n",
      "final_score = 0.9075107547260025\n",
      "----------\n",
      "-----weighted_boxes_fusion-----\n",
      "{'iou_thr': 0.38180795328577755, 'skip_box_thr': 0.343844340356115, 'x1': 0.7620549261802256, 'x2': 0.3496166101060696, 'x3': 0.5, 'th1': 0.47677366973830515, 'th2': 0.55, 'th3': 0.3890786164230064}\n"
     ]
    },
    {
     "data": {
      "application/vnd.jupyter.widget-view+json": {
       "model_id": "5ceb96af5d304ee4a4f6dbb7232209f4",
       "version_major": 2,
       "version_minor": 0
      },
      "text/plain": [
       "HBox(children=(FloatProgress(value=0.0, max=675.0), HTML(value='')))"
      ]
     },
     "metadata": {},
     "output_type": "display_data"
    },
    {
     "name": "stdout",
     "output_type": "stream",
     "text": [
      "\n",
      "final_score = 0.9079555341444022\n",
      "----------\n",
      "-----weighted_boxes_fusion-----\n",
      "{'iou_thr': 0.34778065720706713, 'skip_box_thr': 0.34869596672267184, 'x1': 0.8211084440782794, 'x2': 0.5, 'x3': 0.44637678067528097, 'th1': 0.55, 'th2': 0.55, 'th3': 0.3564841199921276}\n"
     ]
    },
    {
     "data": {
      "application/vnd.jupyter.widget-view+json": {
       "model_id": "0f420f9035b64f809fae2cec661dc92e",
       "version_major": 2,
       "version_minor": 0
      },
      "text/plain": [
       "HBox(children=(FloatProgress(value=0.0, max=675.0), HTML(value='')))"
      ]
     },
     "metadata": {},
     "output_type": "display_data"
    },
    {
     "name": "stdout",
     "output_type": "stream",
     "text": [
      "\n",
      "final_score = 0.9077471460317752\n",
      "----------\n",
      "-----weighted_boxes_fusion-----\n",
      "{'iou_thr': 0.39828687014872705, 'skip_box_thr': 0.3492737410376967, 'x1': 0.836722369654056, 'x2': 0.1, 'x3': 0.2618933348602064, 'th1': 0.25, 'th2': 0.25, 'th3': 0.4618598486385136}\n"
     ]
    },
    {
     "data": {
      "application/vnd.jupyter.widget-view+json": {
       "model_id": "b16654f9803a42c6bf11d69921e25d4f",
       "version_major": 2,
       "version_minor": 0
      },
      "text/plain": [
       "HBox(children=(FloatProgress(value=0.0, max=675.0), HTML(value='')))"
      ]
     },
     "metadata": {},
     "output_type": "display_data"
    },
    {
     "name": "stdout",
     "output_type": "stream",
     "text": [
      "\n",
      "final_score = 0.9069097161788038\n",
      "----------\n",
      "-----weighted_boxes_fusion-----\n",
      "{'iou_thr': 0.3878510143453631, 'skip_box_thr': 0.3493166139909674, 'x1': 0.7410857393329093, 'x2': 0.4349872528948784, 'x3': 0.10216848090720228, 'th1': 0.47227278033851683, 'th2': 0.3045006751719511, 'th3': 0.3816805302546976}\n"
     ]
    },
    {
     "data": {
      "application/vnd.jupyter.widget-view+json": {
       "model_id": "d039688b3ffc443eb247f2e77414f75e",
       "version_major": 2,
       "version_minor": 0
      },
      "text/plain": [
       "HBox(children=(FloatProgress(value=0.0, max=675.0), HTML(value='')))"
      ]
     },
     "metadata": {},
     "output_type": "display_data"
    },
    {
     "name": "stdout",
     "output_type": "stream",
     "text": [
      "\n",
      "final_score = 0.9089241524756144\n",
      "----------\n",
      "-----weighted_boxes_fusion-----\n",
      "{'iou_thr': 0.3, 'skip_box_thr': 0.357728213793185, 'x1': 0.9, 'x2': 0.29307700465073305, 'x3': 0.1, 'th1': 0.25, 'th2': 0.3560750758362472, 'th3': 0.42593734050390986}\n"
     ]
    },
    {
     "data": {
      "application/vnd.jupyter.widget-view+json": {
       "model_id": "c8bc5d79bb0c432f99b83ec6967caab3",
       "version_major": 2,
       "version_minor": 0
      },
      "text/plain": [
       "HBox(children=(FloatProgress(value=0.0, max=675.0), HTML(value='')))"
      ]
     },
     "metadata": {},
     "output_type": "display_data"
    },
    {
     "name": "stdout",
     "output_type": "stream",
     "text": [
      "\n",
      "final_score = 0.9054735289165146\n",
      "----------\n",
      "-----weighted_boxes_fusion-----\n",
      "{'iou_thr': 0.392500320853552, 'skip_box_thr': 0.347490037219965, 'x1': 0.9, 'x2': 0.3181501368579918, 'x3': 0.1, 'th1': 0.5146482768623395, 'th2': 0.25, 'th3': 0.3849841651634375}\n"
     ]
    },
    {
     "data": {
      "application/vnd.jupyter.widget-view+json": {
       "model_id": "3f6ecec7e441409cb0c01590b03cd244",
       "version_major": 2,
       "version_minor": 0
      },
      "text/plain": [
       "HBox(children=(FloatProgress(value=0.0, max=675.0), HTML(value='')))"
      ]
     },
     "metadata": {},
     "output_type": "display_data"
    },
    {
     "name": "stdout",
     "output_type": "stream",
     "text": [
      "\n",
      "final_score = 0.908929185203866\n",
      "----------\n",
      "-----weighted_boxes_fusion-----\n",
      "{'iou_thr': 0.4259405825084801, 'skip_box_thr': 0.3377961359857976, 'x1': 0.6280433848524984, 'x2': 0.43659005630278425, 'x3': 0.5, 'th1': 0.5425594078053579, 'th2': 0.55, 'th3': 0.327644520889178}\n"
     ]
    },
    {
     "data": {
      "application/vnd.jupyter.widget-view+json": {
       "model_id": "7bb7c48258cd40269db21570f5303a40",
       "version_major": 2,
       "version_minor": 0
      },
      "text/plain": [
       "HBox(children=(FloatProgress(value=0.0, max=675.0), HTML(value='')))"
      ]
     },
     "metadata": {},
     "output_type": "display_data"
    },
    {
     "name": "stdout",
     "output_type": "stream",
     "text": [
      "\n",
      "final_score = 0.9082815057994826\n",
      "----------\n",
      "-----weighted_boxes_fusion-----\n",
      "{'iou_thr': 0.43978912869457676, 'skip_box_thr': 0.34606057724500033, 'x1': 0.836770776895766, 'x2': 0.3850688358276658, 'x3': 0.33191224235843775, 'th1': 0.4737716625794981, 'th2': 0.2699744396177981, 'th3': 0.2691098022212773}\n"
     ]
    },
    {
     "data": {
      "application/vnd.jupyter.widget-view+json": {
       "model_id": "f6d839227f1046c8bcc685b9ad29542e",
       "version_major": 2,
       "version_minor": 0
      },
      "text/plain": [
       "HBox(children=(FloatProgress(value=0.0, max=675.0), HTML(value='')))"
      ]
     },
     "metadata": {},
     "output_type": "display_data"
    },
    {
     "name": "stdout",
     "output_type": "stream",
     "text": [
      "\n",
      "final_score = 0.9056391177213482\n",
      "----------\n",
      "-----weighted_boxes_fusion-----\n",
      "{'iou_thr': 0.3, 'skip_box_thr': 0.431507122011222, 'x1': 0.6879402601831144, 'x2': 0.25102396288529094, 'x3': 0.3974618903559741, 'th1': 0.55, 'th2': 0.55, 'th3': 0.25}\n"
     ]
    },
    {
     "data": {
      "application/vnd.jupyter.widget-view+json": {
       "model_id": "2975f292d46b4da5b0af6143180ac41c",
       "version_major": 2,
       "version_minor": 0
      },
      "text/plain": [
       "HBox(children=(FloatProgress(value=0.0, max=675.0), HTML(value='')))"
      ]
     },
     "metadata": {},
     "output_type": "display_data"
    },
    {
     "name": "stdout",
     "output_type": "stream",
     "text": [
      "\n",
      "final_score = 0.8977643214215327\n",
      "----------\n",
      "-----weighted_boxes_fusion-----\n",
      "{'iou_thr': 0.46621834071513224, 'skip_box_thr': 0.3063661325069762, 'x1': 0.7068098552633153, 'x2': 0.5, 'x3': 0.4934459731237858, 'th1': 0.55, 'th2': 0.55, 'th3': 0.41082833458489454}\n"
     ]
    },
    {
     "data": {
      "application/vnd.jupyter.widget-view+json": {
       "model_id": "938329a142a24023979c191bcaa3202d",
       "version_major": 2,
       "version_minor": 0
      },
      "text/plain": [
       "HBox(children=(FloatProgress(value=0.0, max=675.0), HTML(value='')))"
      ]
     },
     "metadata": {},
     "output_type": "display_data"
    },
    {
     "name": "stdout",
     "output_type": "stream",
     "text": [
      "\n",
      "final_score = 0.905911163716326\n",
      "----------\n",
      "-----weighted_boxes_fusion-----\n",
      "{'iou_thr': 0.3431464046895504, 'skip_box_thr': 0.33919299414626614, 'x1': 0.7384208105528023, 'x2': 0.19866313227005894, 'x3': 0.2499223719499048, 'th1': 0.3715411858305304, 'th2': 0.47173064131537035, 'th3': 0.3027165101190688}\n"
     ]
    },
    {
     "data": {
      "application/vnd.jupyter.widget-view+json": {
       "model_id": "4dabde81396d41f8900b355c8383e336",
       "version_major": 2,
       "version_minor": 0
      },
      "text/plain": [
       "HBox(children=(FloatProgress(value=0.0, max=675.0), HTML(value='')))"
      ]
     },
     "metadata": {},
     "output_type": "display_data"
    },
    {
     "name": "stdout",
     "output_type": "stream",
     "text": [
      "\n",
      "final_score = 0.9074100243021928\n",
      "----------\n",
      "-----weighted_boxes_fusion-----\n",
      "{'iou_thr': 0.4062351538659708, 'skip_box_thr': 0.34856205411277846, 'x1': 0.8227689045414336, 'x2': 0.27331155142674085, 'x3': 0.19997183576786404, 'th1': 0.4724617410587728, 'th2': 0.3028566137640645, 'th3': 0.2562018329930908}\n"
     ]
    },
    {
     "data": {
      "application/vnd.jupyter.widget-view+json": {
       "model_id": "f558868c0d3b4c608cd823cac33be17a",
       "version_major": 2,
       "version_minor": 0
      },
      "text/plain": [
       "HBox(children=(FloatProgress(value=0.0, max=675.0), HTML(value='')))"
      ]
     },
     "metadata": {},
     "output_type": "display_data"
    },
    {
     "name": "stdout",
     "output_type": "stream",
     "text": [
      "\n",
      "final_score = 0.9074226090633379\n",
      "----------\n",
      "-----weighted_boxes_fusion-----\n",
      "{'iou_thr': 0.40417268539643236, 'skip_box_thr': 0.35170583815359036, 'x1': 0.8867038926693724, 'x2': 0.17106111683018882, 'x3': 0.5, 'th1': 0.55, 'th2': 0.55, 'th3': 0.381072369270247}\n"
     ]
    },
    {
     "data": {
      "application/vnd.jupyter.widget-view+json": {
       "model_id": "079023e2fe21420ba381f69a4161e0d5",
       "version_major": 2,
       "version_minor": 0
      },
      "text/plain": [
       "HBox(children=(FloatProgress(value=0.0, max=675.0), HTML(value='')))"
      ]
     },
     "metadata": {},
     "output_type": "display_data"
    },
    {
     "name": "stdout",
     "output_type": "stream",
     "text": [
      "\n",
      "final_score = 0.909034683609555\n",
      "----------\n",
      "-----weighted_boxes_fusion-----\n",
      "{'iou_thr': 0.39653699520960684, 'skip_box_thr': 0.3460299799247189, 'x1': 0.696244147308742, 'x2': 0.19401868820480325, 'x3': 0.5, 'th1': 0.5236167820737574, 'th2': 0.55, 'th3': 0.2555205090722438}\n"
     ]
    },
    {
     "data": {
      "application/vnd.jupyter.widget-view+json": {
       "model_id": "94fb9f300ea346808944c650f768f8d2",
       "version_major": 2,
       "version_minor": 0
      },
      "text/plain": [
       "HBox(children=(FloatProgress(value=0.0, max=675.0), HTML(value='')))"
      ]
     },
     "metadata": {},
     "output_type": "display_data"
    },
    {
     "name": "stdout",
     "output_type": "stream",
     "text": [
      "\n",
      "final_score = 0.9087818862396924\n",
      "----------\n",
      "-----weighted_boxes_fusion-----\n",
      "{'iou_thr': 0.400898634731666, 'skip_box_thr': 0.3426240688337321, 'x1': 0.46049083979710315, 'x2': 0.4380299257991347, 'x3': 0.4868540534491782, 'th1': 0.4335922876343423, 'th2': 0.421942155580442, 'th3': 0.36149265368882944}\n"
     ]
    },
    {
     "data": {
      "application/vnd.jupyter.widget-view+json": {
       "model_id": "62a10aa72be34002948c4e4accdcb691",
       "version_major": 2,
       "version_minor": 0
      },
      "text/plain": [
       "HBox(children=(FloatProgress(value=0.0, max=675.0), HTML(value='')))"
      ]
     },
     "metadata": {},
     "output_type": "display_data"
    },
    {
     "name": "stdout",
     "output_type": "stream",
     "text": [
      "\n",
      "final_score = 0.9080333670253764\n",
      "----------\n",
      "-----weighted_boxes_fusion-----\n",
      "{'iou_thr': 0.4002172790073896, 'skip_box_thr': 0.3480899000052213, 'x1': 0.7400101278395195, 'x2': 0.5, 'x3': 0.3662982436824428, 'th1': 0.5379484445873736, 'th2': 0.55, 'th3': 0.37374425516122156}\n"
     ]
    },
    {
     "data": {
      "application/vnd.jupyter.widget-view+json": {
       "model_id": "478b0b1b7ea246ae808b2dcaf3d07352",
       "version_major": 2,
       "version_minor": 0
      },
      "text/plain": [
       "HBox(children=(FloatProgress(value=0.0, max=675.0), HTML(value='')))"
      ]
     },
     "metadata": {},
     "output_type": "display_data"
    },
    {
     "name": "stdout",
     "output_type": "stream",
     "text": [
      "\n",
      "final_score = 0.9084768669098724\n",
      "----------\n",
      "-----weighted_boxes_fusion-----\n",
      "{'iou_thr': 0.395939381637609, 'skip_box_thr': 0.3565591512203275, 'x1': 0.9, 'x2': 0.1, 'x3': 0.10524589706603785, 'th1': 0.55, 'th2': 0.41870713450065045, 'th3': 0.34670986625398825}\n"
     ]
    },
    {
     "data": {
      "application/vnd.jupyter.widget-view+json": {
       "model_id": "9836e8bd3cf442b7aeadf40723a3f086",
       "version_major": 2,
       "version_minor": 0
      },
      "text/plain": [
       "HBox(children=(FloatProgress(value=0.0, max=675.0), HTML(value='')))"
      ]
     },
     "metadata": {},
     "output_type": "display_data"
    },
    {
     "name": "stdout",
     "output_type": "stream",
     "text": [
      "\n",
      "final_score = 0.9083067154049995\n",
      "----------\n",
      "-----weighted_boxes_fusion-----\n",
      "{'iou_thr': 0.6858565933557788, 'skip_box_thr': 0.3, 'x1': 0.9, 'x2': 0.1, 'x3': 0.5, 'th1': 0.55, 'th2': 0.55, 'th3': 0.48820531840464376}\n"
     ]
    },
    {
     "data": {
      "application/vnd.jupyter.widget-view+json": {
       "model_id": "cbe2635c1f594104b2c07c4aa51f0d80",
       "version_major": 2,
       "version_minor": 0
      },
      "text/plain": [
       "HBox(children=(FloatProgress(value=0.0, max=675.0), HTML(value='')))"
      ]
     },
     "metadata": {},
     "output_type": "display_data"
    },
    {
     "name": "stdout",
     "output_type": "stream",
     "text": [
      "\n",
      "final_score = 0.8789558393520708\n",
      "----------\n",
      "-----weighted_boxes_fusion-----\n",
      "{'iou_thr': 0.3, 'skip_box_thr': 0.40360799011508897, 'x1': 0.9, 'x2': 0.1, 'x3': 0.5, 'th1': 0.25, 'th2': 0.25, 'th3': 0.5241419103732117}\n"
     ]
    },
    {
     "data": {
      "application/vnd.jupyter.widget-view+json": {
       "model_id": "f874a6d287444e119400a6d87d973546",
       "version_major": 2,
       "version_minor": 0
      },
      "text/plain": [
       "HBox(children=(FloatProgress(value=0.0, max=675.0), HTML(value='')))"
      ]
     },
     "metadata": {},
     "output_type": "display_data"
    },
    {
     "name": "stdout",
     "output_type": "stream",
     "text": [
      "\n",
      "final_score = 0.904862703020062\n",
      "----------\n",
      "-----weighted_boxes_fusion-----\n",
      "{'iou_thr': 0.3028930947539992, 'skip_box_thr': 0.3478000807949328, 'x1': 0.6707404236221469, 'x2': 0.4651094984699503, 'x3': 0.1834315454067474, 'th1': 0.362611118436574, 'th2': 0.45224438848323034, 'th3': 0.28714923448063184}\n"
     ]
    },
    {
     "data": {
      "application/vnd.jupyter.widget-view+json": {
       "model_id": "4e1f2341e1ef4a52bdcdefb7aa92a64b",
       "version_major": 2,
       "version_minor": 0
      },
      "text/plain": [
       "HBox(children=(FloatProgress(value=0.0, max=675.0), HTML(value='')))"
      ]
     },
     "metadata": {},
     "output_type": "display_data"
    },
    {
     "name": "stdout",
     "output_type": "stream",
     "text": [
      "\n",
      "final_score = 0.9055091300478048\n",
      "----------\n",
      "-----weighted_boxes_fusion-----\n",
      "{'iou_thr': 0.32336464780113505, 'skip_box_thr': 0.3457956293504265, 'x1': 0.6605043029174522, 'x2': 0.20946542727502399, 'x3': 0.25520912069386636, 'th1': 0.5459562564188776, 'th2': 0.3149153946079114, 'th3': 0.38704456308320256}\n"
     ]
    },
    {
     "data": {
      "application/vnd.jupyter.widget-view+json": {
       "model_id": "e657e08d6a4b46189c9668f2c41a7b3c",
       "version_major": 2,
       "version_minor": 0
      },
      "text/plain": [
       "HBox(children=(FloatProgress(value=0.0, max=675.0), HTML(value='')))"
      ]
     },
     "metadata": {},
     "output_type": "display_data"
    },
    {
     "name": "stdout",
     "output_type": "stream",
     "text": [
      "\n",
      "final_score = 0.9069628340974153\n",
      "----------\n",
      "-----weighted_boxes_fusion-----\n",
      "{'iou_thr': 0.5023082048263515, 'skip_box_thr': 0.3081911757101506, 'x1': 0.7838943348987684, 'x2': 0.1838709990240869, 'x3': 0.19225955320030685, 'th1': 0.4337908926056092, 'th2': 0.25, 'th3': 0.5322821326646514}\n"
     ]
    },
    {
     "data": {
      "application/vnd.jupyter.widget-view+json": {
       "model_id": "1492f7674eb544d98fab321ac9bdb66b",
       "version_major": 2,
       "version_minor": 0
      },
      "text/plain": [
       "HBox(children=(FloatProgress(value=0.0, max=675.0), HTML(value='')))"
      ]
     },
     "metadata": {},
     "output_type": "display_data"
    },
    {
     "name": "stdout",
     "output_type": "stream",
     "text": [
      "\n",
      "final_score = 0.8945666116494\n",
      "----------\n",
      "-----weighted_boxes_fusion-----\n",
      "{'iou_thr': 0.3668856221549774, 'skip_box_thr': 0.34878799709420577, 'x1': 0.5408844967454487, 'x2': 0.45152883639525465, 'x3': 0.4155218525673343, 'th1': 0.4916194484405075, 'th2': 0.3313847515912268, 'th3': 0.2761566276403122}\n"
     ]
    },
    {
     "data": {
      "application/vnd.jupyter.widget-view+json": {
       "model_id": "57b03640f1a749b78528d1d50bd3f516",
       "version_major": 2,
       "version_minor": 0
      },
      "text/plain": [
       "HBox(children=(FloatProgress(value=0.0, max=675.0), HTML(value='')))"
      ]
     },
     "metadata": {},
     "output_type": "display_data"
    },
    {
     "name": "stdout",
     "output_type": "stream",
     "text": [
      "\n",
      "final_score = 0.9073569087439841\n",
      "----------\n",
      "-----weighted_boxes_fusion-----\n",
      "{'iou_thr': 0.4559198991665546, 'skip_box_thr': 0.3, 'x1': 0.9, 'x2': 0.1, 'x3': 0.5, 'th1': 0.40866515846138507, 'th2': 0.5037145519928568, 'th3': 0.4350548617972463}\n"
     ]
    },
    {
     "data": {
      "application/vnd.jupyter.widget-view+json": {
       "model_id": "073ad3cbbc3f47aea2d63dbfa8efa4a0",
       "version_major": 2,
       "version_minor": 0
      },
      "text/plain": [
       "HBox(children=(FloatProgress(value=0.0, max=675.0), HTML(value='')))"
      ]
     },
     "metadata": {},
     "output_type": "display_data"
    },
    {
     "name": "stdout",
     "output_type": "stream",
     "text": [
      "\n",
      "final_score = 0.9065090651786637\n",
      "----------\n",
      "-----weighted_boxes_fusion-----\n",
      "{'iou_thr': 0.35179767622344993, 'skip_box_thr': 0.3451901266019535, 'x1': 0.4514207348763592, 'x2': 0.46841996215229387, 'x3': 0.2972904970717512, 'th1': 0.544268495250166, 'th2': 0.3464880382311535, 'th3': 0.3862759716408355}\n"
     ]
    },
    {
     "data": {
      "application/vnd.jupyter.widget-view+json": {
       "model_id": "1850a13ad1ad4cabb5a7e93d22ee58b1",
       "version_major": 2,
       "version_minor": 0
      },
      "text/plain": [
       "HBox(children=(FloatProgress(value=0.0, max=675.0), HTML(value='')))"
      ]
     },
     "metadata": {},
     "output_type": "display_data"
    },
    {
     "name": "stdout",
     "output_type": "stream",
     "text": [
      "\n",
      "final_score = 0.9083526951789543\n",
      "----------\n",
      "-----weighted_boxes_fusion-----\n",
      "{'iou_thr': 0.5026023017912539, 'skip_box_thr': 0.34167960951263066, 'x1': 0.9, 'x2': 0.5, 'x3': 0.5, 'th1': 0.48530986930095055, 'th2': 0.363179784379853, 'th3': 0.47916330524826034}\n"
     ]
    },
    {
     "data": {
      "application/vnd.jupyter.widget-view+json": {
       "model_id": "3ea453a38d4743d2b47038e75092933b",
       "version_major": 2,
       "version_minor": 0
      },
      "text/plain": [
       "HBox(children=(FloatProgress(value=0.0, max=675.0), HTML(value='')))"
      ]
     },
     "metadata": {},
     "output_type": "display_data"
    },
    {
     "name": "stdout",
     "output_type": "stream",
     "text": [
      "\n",
      "final_score = 0.9061490370633241\n",
      "----------\n",
      "-----weighted_boxes_fusion-----\n",
      "{'iou_thr': 0.523614961371023, 'skip_box_thr': 0.34348778809058117, 'x1': 0.6682685771411734, 'x2': 0.4016332066526459, 'x3': 0.23140605309481901, 'th1': 0.45186392658932467, 'th2': 0.4621637697560863, 'th3': 0.3723706862246944}\n"
     ]
    },
    {
     "data": {
      "application/vnd.jupyter.widget-view+json": {
       "model_id": "a281b98e5c3147c5931a806306fc2870",
       "version_major": 2,
       "version_minor": 0
      },
      "text/plain": [
       "HBox(children=(FloatProgress(value=0.0, max=675.0), HTML(value='')))"
      ]
     },
     "metadata": {},
     "output_type": "display_data"
    },
    {
     "name": "stdout",
     "output_type": "stream",
     "text": [
      "\n",
      "final_score = 0.9071525591309688\n",
      "----------\n",
      "-----weighted_boxes_fusion-----\n",
      "{'iou_thr': 0.3881230202408177, 'skip_box_thr': 0.3342063816567823, 'x1': 0.4136810692402887, 'x2': 0.3188453435505181, 'x3': 0.18829991244626892, 'th1': 0.4711932814156198, 'th2': 0.4202053662717743, 'th3': 0.3102521220136888}\n"
     ]
    },
    {
     "data": {
      "application/vnd.jupyter.widget-view+json": {
       "model_id": "7ba7099c549b4f3d861a0ca2c005132d",
       "version_major": 2,
       "version_minor": 0
      },
      "text/plain": [
       "HBox(children=(FloatProgress(value=0.0, max=675.0), HTML(value='')))"
      ]
     },
     "metadata": {},
     "output_type": "display_data"
    },
    {
     "name": "stdout",
     "output_type": "stream",
     "text": [
      "\n",
      "final_score = 0.9078167308357789\n",
      "----------\n",
      "-----weighted_boxes_fusion-----\n",
      "{'iou_thr': 0.5063807269312968, 'skip_box_thr': 0.4152054953219785, 'x1': 0.9, 'x2': 0.5, 'x3': 0.1, 'th1': 0.55, 'th2': 0.25, 'th3': 0.25}\n"
     ]
    },
    {
     "data": {
      "application/vnd.jupyter.widget-view+json": {
       "model_id": "7cb90479edc546e6a3ceacb8244baa8d",
       "version_major": 2,
       "version_minor": 0
      },
      "text/plain": [
       "HBox(children=(FloatProgress(value=0.0, max=675.0), HTML(value='')))"
      ]
     },
     "metadata": {},
     "output_type": "display_data"
    },
    {
     "name": "stdout",
     "output_type": "stream",
     "text": [
      "\n",
      "final_score = 0.9068930343595851\n",
      "----------\n",
      "-----weighted_boxes_fusion-----\n",
      "{'iou_thr': 0.3210331242341171, 'skip_box_thr': 0.3473905802985191, 'x1': 0.6605071612956923, 'x2': 0.34056995026118253, 'x3': 0.34400474329995656, 'th1': 0.3000143078221625, 'th2': 0.3445004154269751, 'th3': 0.4667031295858678}\n"
     ]
    },
    {
     "data": {
      "application/vnd.jupyter.widget-view+json": {
       "model_id": "6804e52195244a4094201a1b1212cc58",
       "version_major": 2,
       "version_minor": 0
      },
      "text/plain": [
       "HBox(children=(FloatProgress(value=0.0, max=675.0), HTML(value='')))"
      ]
     },
     "metadata": {},
     "output_type": "display_data"
    },
    {
     "name": "stdout",
     "output_type": "stream",
     "text": [
      "\n",
      "final_score = 0.9060260143514501\n",
      "----------\n",
      "-----weighted_boxes_fusion-----\n",
      "{'iou_thr': 0.3, 'skip_box_thr': 0.3040470698246135, 'x1': 0.9, 'x2': 0.5, 'x3': 0.1, 'th1': 0.26815188895471764, 'th2': 0.55, 'th3': 0.3822840864312157}\n"
     ]
    },
    {
     "data": {
      "application/vnd.jupyter.widget-view+json": {
       "model_id": "aae914f0c6c94f929b0d24bfb0ee33d7",
       "version_major": 2,
       "version_minor": 0
      },
      "text/plain": [
       "HBox(children=(FloatProgress(value=0.0, max=675.0), HTML(value='')))"
      ]
     },
     "metadata": {},
     "output_type": "display_data"
    },
    {
     "name": "stdout",
     "output_type": "stream",
     "text": [
      "\n",
      "final_score = 0.9021573247110775\n",
      "----------\n",
      "-----weighted_boxes_fusion-----\n",
      "{'iou_thr': 0.4213799201458633, 'skip_box_thr': 0.3487466031562333, 'x1': 0.5591986213275797, 'x2': 0.28759666961827346, 'x3': 0.37919015372963005, 'th1': 0.4361376545643142, 'th2': 0.4274291440866578, 'th3': 0.2667337531967943}\n"
     ]
    },
    {
     "data": {
      "application/vnd.jupyter.widget-view+json": {
       "model_id": "cecb17e4c6e543d7a8c3d744dfb96909",
       "version_major": 2,
       "version_minor": 0
      },
      "text/plain": [
       "HBox(children=(FloatProgress(value=0.0, max=675.0), HTML(value='')))"
      ]
     },
     "metadata": {},
     "output_type": "display_data"
    },
    {
     "name": "stdout",
     "output_type": "stream",
     "text": [
      "\n",
      "final_score = 0.9085322630431485\n",
      "----------\n",
      "-----weighted_boxes_fusion-----\n",
      "{'iou_thr': 0.37291321675073935, 'skip_box_thr': 0.3398499116879339, 'x1': 0.846277309796923, 'x2': 0.2812467959927887, 'x3': 0.38732882921320166, 'th1': 0.41604943583003406, 'th2': 0.5340560116495443, 'th3': 0.3710245467849349}\n"
     ]
    },
    {
     "data": {
      "application/vnd.jupyter.widget-view+json": {
       "model_id": "a9b965edf9f0495c98069ad8532fdedd",
       "version_major": 2,
       "version_minor": 0
      },
      "text/plain": [
       "HBox(children=(FloatProgress(value=0.0, max=675.0), HTML(value='')))"
      ]
     },
     "metadata": {},
     "output_type": "display_data"
    },
    {
     "name": "stdout",
     "output_type": "stream",
     "text": [
      "\n",
      "final_score = 0.9085103073154706\n",
      "----------\n",
      "-----weighted_boxes_fusion-----\n",
      "{'iou_thr': 0.5077103934522291, 'skip_box_thr': 0.3692356838613796, 'x1': 0.4, 'x2': 0.5, 'x3': 0.3650923832283638, 'th1': 0.55, 'th2': 0.25, 'th3': 0.3832868446780129}\n"
     ]
    },
    {
     "data": {
      "application/vnd.jupyter.widget-view+json": {
       "model_id": "159f4323210748debf5010fc5a961003",
       "version_major": 2,
       "version_minor": 0
      },
      "text/plain": [
       "HBox(children=(FloatProgress(value=0.0, max=675.0), HTML(value='')))"
      ]
     },
     "metadata": {},
     "output_type": "display_data"
    },
    {
     "name": "stdout",
     "output_type": "stream",
     "text": [
      "\n",
      "final_score = 0.9055600620901771\n",
      "----------\n",
      "-----weighted_boxes_fusion-----\n",
      "{'iou_thr': 0.3537531854474634, 'skip_box_thr': 0.342180837057354, 'x1': 0.7217022974556668, 'x2': 0.4853637189632828, 'x3': 0.36768274452174066, 'th1': 0.3784734307162408, 'th2': 0.42698640645412994, 'th3': 0.28929122927161627}\n"
     ]
    },
    {
     "data": {
      "application/vnd.jupyter.widget-view+json": {
       "model_id": "d0a937beb1d64e3d9e020e8f739d0397",
       "version_major": 2,
       "version_minor": 0
      },
      "text/plain": [
       "HBox(children=(FloatProgress(value=0.0, max=675.0), HTML(value='')))"
      ]
     },
     "metadata": {},
     "output_type": "display_data"
    },
    {
     "name": "stdout",
     "output_type": "stream",
     "text": [
      "\n",
      "final_score = 0.9075788901967132\n",
      "----------\n",
      "-----weighted_boxes_fusion-----\n",
      "{'iou_thr': 0.4204266232682203, 'skip_box_thr': 0.3285521198504984, 'x1': 0.6963677502395382, 'x2': 0.268476469589186, 'x3': 0.36063646327964616, 'th1': 0.5127877067185407, 'th2': 0.46143199278857033, 'th3': 0.314302624847532}\n"
     ]
    },
    {
     "data": {
      "application/vnd.jupyter.widget-view+json": {
       "model_id": "f52cca6fe38545e1ae168ff809dec0dd",
       "version_major": 2,
       "version_minor": 0
      },
      "text/plain": [
       "HBox(children=(FloatProgress(value=0.0, max=675.0), HTML(value='')))"
      ]
     },
     "metadata": {},
     "output_type": "display_data"
    },
    {
     "name": "stdout",
     "output_type": "stream",
     "text": [
      "\n",
      "final_score = 0.9074147449503022\n",
      "----------\n",
      "-----weighted_boxes_fusion-----\n",
      "{'iou_thr': 0.3903630694699812, 'skip_box_thr': 0.33631857026388046, 'x1': 0.5277257628450662, 'x2': 0.43529869059671333, 'x3': 0.35483446169002153, 'th1': 0.3833339152335982, 'th2': 0.5348411461505505, 'th3': 0.3188239990316629}\n"
     ]
    },
    {
     "data": {
      "application/vnd.jupyter.widget-view+json": {
       "model_id": "68e0ec3eecee48199cab224ab2f054f7",
       "version_major": 2,
       "version_minor": 0
      },
      "text/plain": [
       "HBox(children=(FloatProgress(value=0.0, max=675.0), HTML(value='')))"
      ]
     },
     "metadata": {},
     "output_type": "display_data"
    },
    {
     "name": "stdout",
     "output_type": "stream",
     "text": [
      "\n",
      "final_score = 0.9079564567081262\n",
      "----------\n",
      "-----weighted_boxes_fusion-----\n",
      "{'iou_thr': 0.37623811155022374, 'skip_box_thr': 0.33312890499624304, 'x1': 0.8876640602799223, 'x2': 0.37855703901740456, 'x3': 0.4777423394942939, 'th1': 0.48357261156847314, 'th2': 0.4332841822695366, 'th3': 0.28147961687808454}\n"
     ]
    },
    {
     "data": {
      "application/vnd.jupyter.widget-view+json": {
       "model_id": "790931bf0dff4206b41f1a64f2467a97",
       "version_major": 2,
       "version_minor": 0
      },
      "text/plain": [
       "HBox(children=(FloatProgress(value=0.0, max=675.0), HTML(value='')))"
      ]
     },
     "metadata": {},
     "output_type": "display_data"
    },
    {
     "name": "stdout",
     "output_type": "stream",
     "text": [
      "\n",
      "final_score = 0.9078400083189291\n",
      "----------\n",
      "-----weighted_boxes_fusion-----\n",
      "{'iou_thr': 0.3730774382707731, 'skip_box_thr': 0.33750210788856316, 'x1': 0.5504013954632622, 'x2': 0.3116644260955777, 'x3': 0.2988167703369361, 'th1': 0.5131333915524439, 'th2': 0.3982546070411182, 'th3': 0.32238240019833886}\n"
     ]
    },
    {
     "data": {
      "application/vnd.jupyter.widget-view+json": {
       "model_id": "6beb8cc405834ba296aa9c8fe8f3f4f0",
       "version_major": 2,
       "version_minor": 0
      },
      "text/plain": [
       "HBox(children=(FloatProgress(value=0.0, max=675.0), HTML(value='')))"
      ]
     },
     "metadata": {},
     "output_type": "display_data"
    },
    {
     "name": "stdout",
     "output_type": "stream",
     "text": [
      "\n",
      "final_score = 0.9077632448087049\n",
      "----------\n",
      "-----weighted_boxes_fusion-----\n",
      "{'iou_thr': 0.5422066705476766, 'skip_box_thr': 0.3481338669001383, 'x1': 0.8670220561777002, 'x2': 0.23954299662520562, 'x3': 0.4950740523870133, 'th1': 0.522924864335232, 'th2': 0.48131442837199306, 'th3': 0.3586017325967359}\n"
     ]
    },
    {
     "data": {
      "application/vnd.jupyter.widget-view+json": {
       "model_id": "4ff502542ded4e9e9c84a66c84aa3ed8",
       "version_major": 2,
       "version_minor": 0
      },
      "text/plain": [
       "HBox(children=(FloatProgress(value=0.0, max=675.0), HTML(value='')))"
      ]
     },
     "metadata": {},
     "output_type": "display_data"
    },
    {
     "name": "stdout",
     "output_type": "stream",
     "text": [
      "\n",
      "final_score = 0.9057791371695311\n",
      "----------\n",
      "-----weighted_boxes_fusion-----\n",
      "{'iou_thr': 0.726563538970969, 'skip_box_thr': 0.3, 'x1': 0.9, 'x2': 0.1, 'x3': 0.10086712740777745, 'th1': 0.5085124355711172, 'th2': 0.25, 'th3': 0.5301955635452136}\n"
     ]
    },
    {
     "data": {
      "application/vnd.jupyter.widget-view+json": {
       "model_id": "57295c458f7247139f3e1c2be795e311",
       "version_major": 2,
       "version_minor": 0
      },
      "text/plain": [
       "HBox(children=(FloatProgress(value=0.0, max=675.0), HTML(value='')))"
      ]
     },
     "metadata": {},
     "output_type": "display_data"
    },
    {
     "name": "stdout",
     "output_type": "stream",
     "text": [
      "\n",
      "final_score = 0.8872673989836399\n",
      "----------\n",
      "-----weighted_boxes_fusion-----\n",
      "{'iou_thr': 0.3885709433503998, 'skip_box_thr': 0.3452401417779324, 'x1': 0.44795173451115405, 'x2': 0.22080887567311613, 'x3': 0.20927952151466783, 'th1': 0.5177292013081769, 'th2': 0.33062479980846116, 'th3': 0.3882752883562218}\n"
     ]
    },
    {
     "data": {
      "application/vnd.jupyter.widget-view+json": {
       "model_id": "3820daea374c422aae944ff9f6fe65da",
       "version_major": 2,
       "version_minor": 0
      },
      "text/plain": [
       "HBox(children=(FloatProgress(value=0.0, max=675.0), HTML(value='')))"
      ]
     },
     "metadata": {},
     "output_type": "display_data"
    },
    {
     "name": "stdout",
     "output_type": "stream",
     "text": [
      "\n",
      "final_score = 0.9085226692830746\n",
      "----------\n",
      "-----weighted_boxes_fusion-----\n",
      "{'iou_thr': 0.3354446446883691, 'skip_box_thr': 0.33971493331378555, 'x1': 0.781783587772888, 'x2': 0.1051715459246271, 'x3': 0.39021243617313817, 'th1': 0.39180901418387426, 'th2': 0.48326436399631123, 'th3': 0.2652728560397071}\n"
     ]
    },
    {
     "data": {
      "application/vnd.jupyter.widget-view+json": {
       "model_id": "e103b9725b8d427c9d2a1c60de78bc19",
       "version_major": 2,
       "version_minor": 0
      },
      "text/plain": [
       "HBox(children=(FloatProgress(value=0.0, max=675.0), HTML(value='')))"
      ]
     },
     "metadata": {},
     "output_type": "display_data"
    },
    {
     "name": "stdout",
     "output_type": "stream",
     "text": [
      "\n",
      "final_score = 0.9078468701871558\n",
      "----------\n",
      "-----weighted_boxes_fusion-----\n",
      "{'iou_thr': 0.5116656154386613, 'skip_box_thr': 0.3541025615852413, 'x1': 0.9, 'x2': 0.5, 'x3': 0.1, 'th1': 0.55, 'th2': 0.25, 'th3': 0.4843129606961661}\n"
     ]
    },
    {
     "data": {
      "application/vnd.jupyter.widget-view+json": {
       "model_id": "dba18205eab84125ba6044b6874be65d",
       "version_major": 2,
       "version_minor": 0
      },
      "text/plain": [
       "HBox(children=(FloatProgress(value=0.0, max=675.0), HTML(value='')))"
      ]
     },
     "metadata": {},
     "output_type": "display_data"
    },
    {
     "name": "stdout",
     "output_type": "stream",
     "text": [
      "\n",
      "final_score = 0.9055045661875057\n",
      "----------\n",
      "-----weighted_boxes_fusion-----\n",
      "{'iou_thr': 0.4347910447269393, 'skip_box_thr': 0.34596054845643837, 'x1': 0.6586283515876482, 'x2': 0.19368819550873323, 'x3': 0.2765172023747722, 'th1': 0.5112818856302258, 'th2': 0.5120988236089434, 'th3': 0.3515467172832133}\n"
     ]
    },
    {
     "data": {
      "application/vnd.jupyter.widget-view+json": {
       "model_id": "190d84bd37f7487aa47d41f967b2ea20",
       "version_major": 2,
       "version_minor": 0
      },
      "text/plain": [
       "HBox(children=(FloatProgress(value=0.0, max=675.0), HTML(value='')))"
      ]
     },
     "metadata": {},
     "output_type": "display_data"
    },
    {
     "name": "stdout",
     "output_type": "stream",
     "text": [
      "\n",
      "final_score = 0.9089171499516483\n",
      "----------\n",
      "-----weighted_boxes_fusion-----\n",
      "{'iou_thr': 0.42757959802149365, 'skip_box_thr': 0.3423710267162387, 'x1': 0.6836400519040571, 'x2': 0.32134742635861896, 'x3': 0.11170649624301256, 'th1': 0.4883612132314706, 'th2': 0.502755030667603, 'th3': 0.3544668448035348}\n"
     ]
    },
    {
     "data": {
      "application/vnd.jupyter.widget-view+json": {
       "model_id": "c9f3001cbac4438eaf36acfcd2071183",
       "version_major": 2,
       "version_minor": 0
      },
      "text/plain": [
       "HBox(children=(FloatProgress(value=0.0, max=675.0), HTML(value='')))"
      ]
     },
     "metadata": {},
     "output_type": "display_data"
    },
    {
     "name": "stdout",
     "output_type": "stream",
     "text": [
      "\n",
      "final_score = 0.9091967286457596\n",
      "----------\n",
      "-----weighted_boxes_fusion-----\n",
      "{'iou_thr': 0.4168976987311416, 'skip_box_thr': 0.3477240228320342, 'x1': 0.7825288389747751, 'x2': 0.20431498132763393, 'x3': 0.15789239646248718, 'th1': 0.356696454626493, 'th2': 0.4028556957749452, 'th3': 0.2821412042393118}\n"
     ]
    },
    {
     "data": {
      "application/vnd.jupyter.widget-view+json": {
       "model_id": "4c28df210da24fc78003af021b724417",
       "version_major": 2,
       "version_minor": 0
      },
      "text/plain": [
       "HBox(children=(FloatProgress(value=0.0, max=675.0), HTML(value='')))"
      ]
     },
     "metadata": {},
     "output_type": "display_data"
    },
    {
     "name": "stdout",
     "output_type": "stream",
     "text": [
      "\n",
      "final_score = 0.9063399698552081\n",
      "----------\n",
      "-----weighted_boxes_fusion-----\n",
      "{'iou_thr': 0.38627755964688226, 'skip_box_thr': 0.33188699052111276, 'x1': 0.5798848696085024, 'x2': 0.475393004381911, 'x3': 0.27453560681431133, 'th1': 0.37111687827069123, 'th2': 0.4586714318964106, 'th3': 0.2922112359777059}\n"
     ]
    },
    {
     "data": {
      "application/vnd.jupyter.widget-view+json": {
       "model_id": "3e055ec13b7f4a6eabff5cc2f1fe94df",
       "version_major": 2,
       "version_minor": 0
      },
      "text/plain": [
       "HBox(children=(FloatProgress(value=0.0, max=675.0), HTML(value='')))"
      ]
     },
     "metadata": {},
     "output_type": "display_data"
    },
    {
     "name": "stdout",
     "output_type": "stream",
     "text": [
      "\n",
      "final_score = 0.9068865146561678\n",
      "----------\n",
      "-----weighted_boxes_fusion-----\n",
      "{'iou_thr': 0.4451582249173529, 'skip_box_thr': 0.3463472448309361, 'x1': 0.7352939587572078, 'x2': 0.46995662401584115, 'x3': 0.1507909777222461, 'th1': 0.4166793942241078, 'th2': 0.2901021308583008, 'th3': 0.3629959067316533}\n"
     ]
    },
    {
     "data": {
      "application/vnd.jupyter.widget-view+json": {
       "model_id": "6a7ff482211847a69fdcc59d59a03548",
       "version_major": 2,
       "version_minor": 0
      },
      "text/plain": [
       "HBox(children=(FloatProgress(value=0.0, max=675.0), HTML(value='')))"
      ]
     },
     "metadata": {},
     "output_type": "display_data"
    },
    {
     "name": "stdout",
     "output_type": "stream",
     "text": [
      "\n",
      "final_score = 0.9057785471078501\n",
      "----------\n",
      "-----weighted_boxes_fusion-----\n",
      "{'iou_thr': 0.4511680896612438, 'skip_box_thr': 0.34880482938608554, 'x1': 0.5032681725224438, 'x2': 0.1490207135910526, 'x3': 0.22335009127940622, 'th1': 0.42834322179392614, 'th2': 0.4733216665379222, 'th3': 0.3721707288515941}\n"
     ]
    },
    {
     "data": {
      "application/vnd.jupyter.widget-view+json": {
       "model_id": "b08c419ddbb74f8d8d69ce611b6b3cdd",
       "version_major": 2,
       "version_minor": 0
      },
      "text/plain": [
       "HBox(children=(FloatProgress(value=0.0, max=675.0), HTML(value='')))"
      ]
     },
     "metadata": {},
     "output_type": "display_data"
    },
    {
     "name": "stdout",
     "output_type": "stream",
     "text": [
      "\n",
      "final_score = 0.9084886699228105\n",
      "----------\n",
      "-----weighted_boxes_fusion-----\n",
      "{'iou_thr': 0.40607674416397205, 'skip_box_thr': 0.3339223818125875, 'x1': 0.6716718312521843, 'x2': 0.16375209065580185, 'x3': 0.22065550223271735, 'th1': 0.4728614231443167, 'th2': 0.5484555816051497, 'th3': 0.3335211344720531}\n"
     ]
    },
    {
     "data": {
      "application/vnd.jupyter.widget-view+json": {
       "model_id": "07975ece9cc14f09957a393c0376af72",
       "version_major": 2,
       "version_minor": 0
      },
      "text/plain": [
       "HBox(children=(FloatProgress(value=0.0, max=675.0), HTML(value='')))"
      ]
     },
     "metadata": {},
     "output_type": "display_data"
    },
    {
     "name": "stdout",
     "output_type": "stream",
     "text": [
      "\n",
      "final_score = 0.9079783338230286\n",
      "----------\n",
      "-----weighted_boxes_fusion-----\n",
      "{'iou_thr': 0.4425754770304942, 'skip_box_thr': 0.35134343980127064, 'x1': 0.5171723543110475, 'x2': 0.4877626396011915, 'x3': 0.2701579586072639, 'th1': 0.41714816805680754, 'th2': 0.46804130968500834, 'th3': 0.37476954201247187}\n"
     ]
    },
    {
     "data": {
      "application/vnd.jupyter.widget-view+json": {
       "model_id": "b5ad1c5afb86495abbacbb5a5074aa7c",
       "version_major": 2,
       "version_minor": 0
      },
      "text/plain": [
       "HBox(children=(FloatProgress(value=0.0, max=675.0), HTML(value='')))"
      ]
     },
     "metadata": {},
     "output_type": "display_data"
    },
    {
     "name": "stdout",
     "output_type": "stream",
     "text": [
      "\n",
      "final_score = 0.9089594664040656\n",
      "----------\n",
      "-----weighted_boxes_fusion-----\n",
      "{'iou_thr': 0.493044544672105, 'skip_box_thr': 0.34628159626826543, 'x1': 0.8873249792401698, 'x2': 0.34902727726496946, 'x3': 0.2863874977691746, 'th1': 0.37388526484542095, 'th2': 0.47118688376512335, 'th3': 0.3648659023959958}\n"
     ]
    },
    {
     "data": {
      "application/vnd.jupyter.widget-view+json": {
       "model_id": "efd1ca312abd4032a8ba156805f208fe",
       "version_major": 2,
       "version_minor": 0
      },
      "text/plain": [
       "HBox(children=(FloatProgress(value=0.0, max=675.0), HTML(value='')))"
      ]
     },
     "metadata": {},
     "output_type": "display_data"
    },
    {
     "name": "stdout",
     "output_type": "stream",
     "text": [
      "\n",
      "final_score = 0.904188585444111\n",
      "----------\n",
      "-----weighted_boxes_fusion-----\n",
      "{'iou_thr': 0.3621081239521734, 'skip_box_thr': 0.3472780616043091, 'x1': 0.43297341532202893, 'x2': 0.24436986245807282, 'x3': 0.333281789416785, 'th1': 0.4685141920892021, 'th2': 0.3339875152636492, 'th3': 0.4258621617358782}\n"
     ]
    },
    {
     "data": {
      "application/vnd.jupyter.widget-view+json": {
       "model_id": "a6764ea31d23496597a0179a24b04489",
       "version_major": 2,
       "version_minor": 0
      },
      "text/plain": [
       "HBox(children=(FloatProgress(value=0.0, max=675.0), HTML(value='')))"
      ]
     },
     "metadata": {},
     "output_type": "display_data"
    },
    {
     "name": "stdout",
     "output_type": "stream",
     "text": [
      "\n",
      "final_score = 0.9082540802497971\n",
      "----------\n",
      "-----weighted_boxes_fusion-----\n",
      "{'iou_thr': 0.46287542002849147, 'skip_box_thr': 0.35058634740081573, 'x1': 0.6403510301076556, 'x2': 0.19937205792793353, 'x3': 0.33794742178807413, 'th1': 0.5027762400418905, 'th2': 0.48837331738333667, 'th3': 0.3718743888798089}\n"
     ]
    },
    {
     "data": {
      "application/vnd.jupyter.widget-view+json": {
       "model_id": "8fa8fdadb141447eb0e0276f24f3c8bc",
       "version_major": 2,
       "version_minor": 0
      },
      "text/plain": [
       "HBox(children=(FloatProgress(value=0.0, max=675.0), HTML(value='')))"
      ]
     },
     "metadata": {},
     "output_type": "display_data"
    },
    {
     "name": "stdout",
     "output_type": "stream",
     "text": [
      "\n",
      "final_score = 0.9092565221940886\n",
      "----------\n",
      "-----weighted_boxes_fusion-----\n",
      "{'iou_thr': 0.45909022484148465, 'skip_box_thr': 0.347349782391022, 'x1': 0.47367992425001104, 'x2': 0.24890407076895726, 'x3': 0.48655830967401026, 'th1': 0.49727660780015026, 'th2': 0.40727518664568285, 'th3': 0.33983616975948294}\n"
     ]
    },
    {
     "data": {
      "application/vnd.jupyter.widget-view+json": {
       "model_id": "16e56c5cb32147ccb10cf6c78914ec86",
       "version_major": 2,
       "version_minor": 0
      },
      "text/plain": [
       "HBox(children=(FloatProgress(value=0.0, max=675.0), HTML(value='')))"
      ]
     },
     "metadata": {},
     "output_type": "display_data"
    },
    {
     "name": "stdout",
     "output_type": "stream",
     "text": [
      "\n",
      "final_score = 0.906953208036723\n",
      "----------\n",
      "-----weighted_boxes_fusion-----\n",
      "{'iou_thr': 0.3, 'skip_box_thr': 0.39656599947424487, 'x1': 0.9, 'x2': 0.3290729860445827, 'x3': 0.1, 'th1': 0.25, 'th2': 0.25, 'th3': 0.25}\n"
     ]
    },
    {
     "data": {
      "application/vnd.jupyter.widget-view+json": {
       "model_id": "fc1bff3ea0d848dbbdcd95431c3cb7f1",
       "version_major": 2,
       "version_minor": 0
      },
      "text/plain": [
       "HBox(children=(FloatProgress(value=0.0, max=675.0), HTML(value='')))"
      ]
     },
     "metadata": {},
     "output_type": "display_data"
    },
    {
     "name": "stdout",
     "output_type": "stream",
     "text": [
      "\n",
      "final_score = 0.9065731566302538\n",
      "----------\n",
      "-----weighted_boxes_fusion-----\n",
      "{'iou_thr': 0.4405383960687294, 'skip_box_thr': 0.3466263170200046, 'x1': 0.8146146412797702, 'x2': 0.29185582517698083, 'x3': 0.12280309342609749, 'th1': 0.46073716419962024, 'th2': 0.4546869211927398, 'th3': 0.41520625256206006}\n"
     ]
    },
    {
     "data": {
      "application/vnd.jupyter.widget-view+json": {
       "model_id": "f8528c6779a144508b57f8282d36d709",
       "version_major": 2,
       "version_minor": 0
      },
      "text/plain": [
       "HBox(children=(FloatProgress(value=0.0, max=675.0), HTML(value='')))"
      ]
     },
     "metadata": {},
     "output_type": "display_data"
    },
    {
     "name": "stdout",
     "output_type": "stream",
     "text": [
      "\n",
      "final_score = 0.9062302677998331\n",
      "----------\n",
      "-----weighted_boxes_fusion-----\n",
      "{'iou_thr': 0.42484822470224753, 'skip_box_thr': 0.3348537868688316, 'x1': 0.7228112583092405, 'x2': 0.342444885501205, 'x3': 0.408479853356739, 'th1': 0.4679081838040091, 'th2': 0.5117231717843223, 'th3': 0.27665328907304904}\n"
     ]
    },
    {
     "data": {
      "application/vnd.jupyter.widget-view+json": {
       "model_id": "b07d9a7b3672410da6fcb90e11a0e4d4",
       "version_major": 2,
       "version_minor": 0
      },
      "text/plain": [
       "HBox(children=(FloatProgress(value=0.0, max=675.0), HTML(value='')))"
      ]
     },
     "metadata": {},
     "output_type": "display_data"
    },
    {
     "name": "stdout",
     "output_type": "stream",
     "text": [
      "\n",
      "final_score = 0.9076674557991898\n",
      "----------\n",
      "-----weighted_boxes_fusion-----\n",
      "{'iou_thr': 0.35457382282449035, 'skip_box_thr': 0.34108527223813934, 'x1': 0.883672371648073, 'x2': 0.34323547132294363, 'x3': 0.4852824635789815, 'th1': 0.5289308442086391, 'th2': 0.3649578105677934, 'th3': 0.3339437388233879}\n"
     ]
    },
    {
     "data": {
      "application/vnd.jupyter.widget-view+json": {
       "model_id": "aed7d50fa7c941cfb19a8675838bff13",
       "version_major": 2,
       "version_minor": 0
      },
      "text/plain": [
       "HBox(children=(FloatProgress(value=0.0, max=675.0), HTML(value='')))"
      ]
     },
     "metadata": {},
     "output_type": "display_data"
    },
    {
     "name": "stdout",
     "output_type": "stream",
     "text": [
      "\n",
      "final_score = 0.908328069726932\n",
      "----------\n",
      "-----weighted_boxes_fusion-----\n",
      "{'iou_thr': 0.40785500073490655, 'skip_box_thr': 0.39161184383330816, 'x1': 0.4, 'x2': 0.5, 'x3': 0.5, 'th1': 0.43013632988561534, 'th2': 0.4787436295703328, 'th3': 0.3857271284935691}\n"
     ]
    },
    {
     "data": {
      "application/vnd.jupyter.widget-view+json": {
       "model_id": "a08299ea8cea4084bbe07b5467bc64c8",
       "version_major": 2,
       "version_minor": 0
      },
      "text/plain": [
       "HBox(children=(FloatProgress(value=0.0, max=675.0), HTML(value='')))"
      ]
     },
     "metadata": {},
     "output_type": "display_data"
    },
    {
     "name": "stdout",
     "output_type": "stream",
     "text": [
      "\n",
      "final_score = 0.9086135948295834\n",
      "----------\n",
      "-----weighted_boxes_fusion-----\n",
      "{'iou_thr': 0.5062676164346225, 'skip_box_thr': 0.3850310084200185, 'x1': 0.6284113104694347, 'x2': 0.18521875469803928, 'x3': 0.1, 'th1': 0.46489400630122846, 'th2': 0.55, 'th3': 0.25}\n"
     ]
    },
    {
     "data": {
      "application/vnd.jupyter.widget-view+json": {
       "model_id": "9ee5d77017c14473808ea56200eb249d",
       "version_major": 2,
       "version_minor": 0
      },
      "text/plain": [
       "HBox(children=(FloatProgress(value=0.0, max=675.0), HTML(value='')))"
      ]
     },
     "metadata": {},
     "output_type": "display_data"
    },
    {
     "name": "stdout",
     "output_type": "stream",
     "text": [
      "\n",
      "final_score = 0.9085358113856856\n",
      "----------\n",
      "-----weighted_boxes_fusion-----\n",
      "{'iou_thr': 0.3852344528550518, 'skip_box_thr': 0.35040885980455777, 'x1': 0.41657259581806905, 'x2': 0.49447124254456853, 'x3': 0.39296618561818275, 'th1': 0.42461220726983595, 'th2': 0.35057750419238265, 'th3': 0.40668179290450135}\n"
     ]
    },
    {
     "data": {
      "application/vnd.jupyter.widget-view+json": {
       "model_id": "575edddbc4e4429591c5e9d55eb74708",
       "version_major": 2,
       "version_minor": 0
      },
      "text/plain": [
       "HBox(children=(FloatProgress(value=0.0, max=675.0), HTML(value='')))"
      ]
     },
     "metadata": {},
     "output_type": "display_data"
    },
    {
     "name": "stdout",
     "output_type": "stream",
     "text": [
      "\n",
      "final_score = 0.9088263146117791\n",
      "----------\n",
      "-----weighted_boxes_fusion-----\n",
      "{'iou_thr': 0.33527101242681306, 'skip_box_thr': 0.34091364082970804, 'x1': 0.564661304913709, 'x2': 0.47076218787602164, 'x3': 0.37874399951558, 'th1': 0.548603449588849, 'th2': 0.39081749036272617, 'th3': 0.35199949579825013}\n"
     ]
    },
    {
     "data": {
      "application/vnd.jupyter.widget-view+json": {
       "model_id": "3f61ed49963d4d4a871e0287cfe52c41",
       "version_major": 2,
       "version_minor": 0
      },
      "text/plain": [
       "HBox(children=(FloatProgress(value=0.0, max=675.0), HTML(value='')))"
      ]
     },
     "metadata": {},
     "output_type": "display_data"
    },
    {
     "name": "stdout",
     "output_type": "stream",
     "text": [
      "\n",
      "final_score = 0.9081108542255801\n",
      "----------\n",
      "-----weighted_boxes_fusion-----\n",
      "{'iou_thr': 0.386016828822519, 'skip_box_thr': 0.34162764565464604, 'x1': 0.5110967113859687, 'x2': 0.238461308006887, 'x3': 0.2520854099602628, 'th1': 0.46419104536414524, 'th2': 0.43480802134073626, 'th3': 0.3380470171284858}\n"
     ]
    },
    {
     "data": {
      "application/vnd.jupyter.widget-view+json": {
       "model_id": "f061aea0b7124e34aee8f3f688d285e4",
       "version_major": 2,
       "version_minor": 0
      },
      "text/plain": [
       "HBox(children=(FloatProgress(value=0.0, max=675.0), HTML(value='')))"
      ]
     },
     "metadata": {},
     "output_type": "display_data"
    },
    {
     "name": "stdout",
     "output_type": "stream",
     "text": [
      "\n",
      "final_score = 0.9084896593679666\n",
      "----------\n",
      "-----weighted_boxes_fusion-----\n",
      "{'iou_thr': 0.603142078098997, 'skip_box_thr': 0.3, 'x1': 0.4, 'x2': 0.5, 'x3': 0.5, 'th1': 0.384862757270245, 'th2': 0.4664128044102495, 'th3': 0.5127561024395699}\n"
     ]
    },
    {
     "data": {
      "application/vnd.jupyter.widget-view+json": {
       "model_id": "a97937c554cd4bd9937aa0c0e1fcbd13",
       "version_major": 2,
       "version_minor": 0
      },
      "text/plain": [
       "HBox(children=(FloatProgress(value=0.0, max=675.0), HTML(value='')))"
      ]
     },
     "metadata": {},
     "output_type": "display_data"
    },
    {
     "name": "stdout",
     "output_type": "stream",
     "text": [
      "\n",
      "final_score = 0.9061510637995283\n",
      "----------\n",
      "-----weighted_boxes_fusion-----\n",
      "{'iou_thr': 0.4061923135661873, 'skip_box_thr': 0.36478681118991263, 'x1': 0.4, 'x2': 0.5, 'x3': 0.5, 'th1': 0.45147356117937354, 'th2': 0.48656442167495784, 'th3': 0.3727050317792616}\n"
     ]
    },
    {
     "data": {
      "application/vnd.jupyter.widget-view+json": {
       "model_id": "9f936ef0db7e45f7bdd45e1f8fa03083",
       "version_major": 2,
       "version_minor": 0
      },
      "text/plain": [
       "HBox(children=(FloatProgress(value=0.0, max=675.0), HTML(value='')))"
      ]
     },
     "metadata": {},
     "output_type": "display_data"
    },
    {
     "name": "stdout",
     "output_type": "stream",
     "text": [
      "\n",
      "final_score = 0.9087718003817147\n",
      "----------\n",
      "-----weighted_boxes_fusion-----\n",
      "{'iou_thr': 0.321657353759665, 'skip_box_thr': 0.3408137709192047, 'x1': 0.561592380771583, 'x2': 0.1412180839101622, 'x3': 0.3256163513834918, 'th1': 0.4759816575506145, 'th2': 0.3819936329981525, 'th3': 0.2838239907748335}\n"
     ]
    },
    {
     "data": {
      "application/vnd.jupyter.widget-view+json": {
       "model_id": "042ee31b9c694516917a2c9cad091766",
       "version_major": 2,
       "version_minor": 0
      },
      "text/plain": [
       "HBox(children=(FloatProgress(value=0.0, max=675.0), HTML(value='')))"
      ]
     },
     "metadata": {},
     "output_type": "display_data"
    },
    {
     "name": "stdout",
     "output_type": "stream",
     "text": [
      "\n",
      "final_score = 0.9070533419975606\n",
      "----------\n",
      "-----weighted_boxes_fusion-----\n",
      "{'iou_thr': 0.45459425711537027, 'skip_box_thr': 0.34877863505966655, 'x1': 0.7925221256083614, 'x2': 0.3060499462834826, 'x3': 0.49770877003464653, 'th1': 0.4270021832418265, 'th2': 0.3896342800777293, 'th3': 0.3855781108319259}\n"
     ]
    },
    {
     "data": {
      "application/vnd.jupyter.widget-view+json": {
       "model_id": "4673c5ed1895483a9e0b5b2f95f408da",
       "version_major": 2,
       "version_minor": 0
      },
      "text/plain": [
       "HBox(children=(FloatProgress(value=0.0, max=675.0), HTML(value='')))"
      ]
     },
     "metadata": {},
     "output_type": "display_data"
    },
    {
     "name": "stdout",
     "output_type": "stream",
     "text": [
      "\n",
      "final_score = 0.9089819219156743\n",
      "----------\n",
      "-----weighted_boxes_fusion-----\n",
      "{'iou_thr': 0.37287104424638506, 'skip_box_thr': 0.34543515462055385, 'x1': 0.5624489832395331, 'x2': 0.12464428004118161, 'x3': 0.3854815669209649, 'th1': 0.49409408884563655, 'th2': 0.3226397533666886, 'th3': 0.33503166911526117}\n"
     ]
    },
    {
     "data": {
      "application/vnd.jupyter.widget-view+json": {
       "model_id": "cb535c26955747edba3156ddb58f56ad",
       "version_major": 2,
       "version_minor": 0
      },
      "text/plain": [
       "HBox(children=(FloatProgress(value=0.0, max=675.0), HTML(value='')))"
      ]
     },
     "metadata": {},
     "output_type": "display_data"
    },
    {
     "name": "stdout",
     "output_type": "stream",
     "text": [
      "\n",
      "final_score = 0.9067015918067433\n",
      "----------\n",
      "-----weighted_boxes_fusion-----\n",
      "{'iou_thr': 0.464276583155241, 'skip_box_thr': 0.34133937633690126, 'x1': 0.5627580737215732, 'x2': 0.3588346122531154, 'x3': 0.34035308196030756, 'th1': 0.43048421200672204, 'th2': 0.37804297796186404, 'th3': 0.3967963618635135}\n"
     ]
    },
    {
     "data": {
      "application/vnd.jupyter.widget-view+json": {
       "model_id": "8e0c2c0e155849f08ec969ec87d34cab",
       "version_major": 2,
       "version_minor": 0
      },
      "text/plain": [
       "HBox(children=(FloatProgress(value=0.0, max=675.0), HTML(value='')))"
      ]
     },
     "metadata": {},
     "output_type": "display_data"
    },
    {
     "name": "stdout",
     "output_type": "stream",
     "text": [
      "\n",
      "final_score = 0.9083916217158382\n",
      "----------\n",
      "-----weighted_boxes_fusion-----\n",
      "{'iou_thr': 0.3621551405482184, 'skip_box_thr': 0.35072336754094047, 'x1': 0.7071377386811288, 'x2': 0.3023537804758667, 'x3': 0.15593217680312338, 'th1': 0.5235132868848575, 'th2': 0.4058557838128782, 'th3': 0.3219290551298585}\n"
     ]
    },
    {
     "data": {
      "application/vnd.jupyter.widget-view+json": {
       "model_id": "165f0999c45a4880ad970d4e4b9315f7",
       "version_major": 2,
       "version_minor": 0
      },
      "text/plain": [
       "HBox(children=(FloatProgress(value=0.0, max=675.0), HTML(value='')))"
      ]
     },
     "metadata": {},
     "output_type": "display_data"
    },
    {
     "name": "stdout",
     "output_type": "stream",
     "text": [
      "\n",
      "final_score = 0.9079584857030383\n",
      "----------\n",
      "-----weighted_boxes_fusion-----\n",
      "{'iou_thr': 0.35486036268063526, 'skip_box_thr': 0.3426938912270027, 'x1': 0.6126532946831773, 'x2': 0.3656666608478625, 'x3': 0.36783626675186054, 'th1': 0.509953923660598, 'th2': 0.3633423441099809, 'th3': 0.2571851235841059}\n"
     ]
    },
    {
     "data": {
      "application/vnd.jupyter.widget-view+json": {
       "model_id": "71ca781cf3fb465ba374493acd7fd13c",
       "version_major": 2,
       "version_minor": 0
      },
      "text/plain": [
       "HBox(children=(FloatProgress(value=0.0, max=675.0), HTML(value='')))"
      ]
     },
     "metadata": {},
     "output_type": "display_data"
    },
    {
     "name": "stdout",
     "output_type": "stream",
     "text": [
      "\n",
      "final_score = 0.9081564659330468\n",
      "----------\n",
      "-----weighted_boxes_fusion-----\n",
      "{'iou_thr': 0.3, 'skip_box_thr': 0.4124577006125444, 'x1': 0.9, 'x2': 0.12670533739314885, 'x3': 0.5, 'th1': 0.25, 'th2': 0.25, 'th3': 0.39625381138993676}\n"
     ]
    },
    {
     "data": {
      "application/vnd.jupyter.widget-view+json": {
       "model_id": "439573a4d22c4a47a585a536ed324007",
       "version_major": 2,
       "version_minor": 0
      },
      "text/plain": [
       "HBox(children=(FloatProgress(value=0.0, max=675.0), HTML(value='')))"
      ]
     },
     "metadata": {},
     "output_type": "display_data"
    },
    {
     "name": "stdout",
     "output_type": "stream",
     "text": [
      "\n",
      "final_score = 0.9049835643108312\n",
      "----------\n",
      "-----weighted_boxes_fusion-----\n",
      "{'iou_thr': 0.3692331555729062, 'skip_box_thr': 0.33765697160016905, 'x1': 0.605587101170564, 'x2': 0.15902720976202012, 'x3': 0.1900872497421312, 'th1': 0.44981220602694527, 'th2': 0.46276417326791586, 'th3': 0.3784510091762592}\n"
     ]
    },
    {
     "data": {
      "application/vnd.jupyter.widget-view+json": {
       "model_id": "a53da03c9e41414d8f41b53c0a2a9081",
       "version_major": 2,
       "version_minor": 0
      },
      "text/plain": [
       "HBox(children=(FloatProgress(value=0.0, max=675.0), HTML(value='')))"
      ]
     },
     "metadata": {},
     "output_type": "display_data"
    },
    {
     "name": "stdout",
     "output_type": "stream",
     "text": [
      "\n",
      "final_score = 0.9086856961848364\n",
      "----------\n",
      "-----weighted_boxes_fusion-----\n",
      "{'iou_thr': 0.4288836460477443, 'skip_box_thr': 0.34930022539035716, 'x1': 0.8747452828164994, 'x2': 0.454537448110507, 'x3': 0.14693717336344395, 'th1': 0.47819177065862645, 'th2': 0.498400170036603, 'th3': 0.3500536371293238}\n"
     ]
    },
    {
     "data": {
      "application/vnd.jupyter.widget-view+json": {
       "model_id": "18507c2acf274ed79014a29f195cab36",
       "version_major": 2,
       "version_minor": 0
      },
      "text/plain": [
       "HBox(children=(FloatProgress(value=0.0, max=675.0), HTML(value='')))"
      ]
     },
     "metadata": {},
     "output_type": "display_data"
    },
    {
     "name": "stdout",
     "output_type": "stream",
     "text": [
      "\n",
      "final_score = 0.9084370712296714\n",
      "----------\n",
      "-----weighted_boxes_fusion-----\n",
      "{'iou_thr': 0.42069114755296877, 'skip_box_thr': 0.3399006352578424, 'x1': 0.43088795649538353, 'x2': 0.47948048642366947, 'x3': 0.319975581745362, 'th1': 0.48182423268050123, 'th2': 0.3285103762598329, 'th3': 0.4063492186362878}\n"
     ]
    },
    {
     "data": {
      "application/vnd.jupyter.widget-view+json": {
       "model_id": "099306809d174e68b5ede3b261bb4886",
       "version_major": 2,
       "version_minor": 0
      },
      "text/plain": [
       "HBox(children=(FloatProgress(value=0.0, max=675.0), HTML(value='')))"
      ]
     },
     "metadata": {},
     "output_type": "display_data"
    },
    {
     "name": "stdout",
     "output_type": "stream",
     "text": [
      "\n",
      "final_score = 0.9084578062007729\n",
      "----------\n",
      "-----weighted_boxes_fusion-----\n",
      "{'iou_thr': 0.4292668414369716, 'skip_box_thr': 0.3412468534156964, 'x1': 0.7132263622596151, 'x2': 0.3523843639400298, 'x3': 0.32657394915554516, 'th1': 0.5376129221011914, 'th2': 0.4118402100448223, 'th3': 0.31822929965015784}\n"
     ]
    },
    {
     "data": {
      "application/vnd.jupyter.widget-view+json": {
       "model_id": "19b6c4ba28c44d1783874a83c052785e",
       "version_major": 2,
       "version_minor": 0
      },
      "text/plain": [
       "HBox(children=(FloatProgress(value=0.0, max=675.0), HTML(value='')))"
      ]
     },
     "metadata": {},
     "output_type": "display_data"
    },
    {
     "name": "stdout",
     "output_type": "stream",
     "text": [
      "\n",
      "final_score = 0.9080013220043966\n",
      "----------\n",
      "-----weighted_boxes_fusion-----\n",
      "{'iou_thr': 0.5229874239361926, 'skip_box_thr': 0.3350388862391023, 'x1': 0.5889632014035194, 'x2': 0.1957204203778733, 'x3': 0.33628468300130804, 'th1': 0.5248762354971511, 'th2': 0.25, 'th3': 0.40043629056082275}\n"
     ]
    },
    {
     "data": {
      "application/vnd.jupyter.widget-view+json": {
       "model_id": "cc3cf6fb38d54ccdbbd34b1a7a0c7d43",
       "version_major": 2,
       "version_minor": 0
      },
      "text/plain": [
       "HBox(children=(FloatProgress(value=0.0, max=675.0), HTML(value='')))"
      ]
     },
     "metadata": {},
     "output_type": "display_data"
    },
    {
     "name": "stdout",
     "output_type": "stream",
     "text": [
      "\n",
      "final_score = 0.9010279017891903\n",
      "----------\n",
      "-----weighted_boxes_fusion-----\n",
      "{'iou_thr': 0.38214379003740995, 'skip_box_thr': 0.3390927426475495, 'x1': 0.6364642466512411, 'x2': 0.24986372263955467, 'x3': 0.20128857522726973, 'th1': 0.4256223773309693, 'th2': 0.5374810273140562, 'th3': 0.36817916385755506}\n"
     ]
    },
    {
     "data": {
      "application/vnd.jupyter.widget-view+json": {
       "model_id": "c947d327c0e44e109d06e8c8618f0487",
       "version_major": 2,
       "version_minor": 0
      },
      "text/plain": [
       "HBox(children=(FloatProgress(value=0.0, max=675.0), HTML(value='')))"
      ]
     },
     "metadata": {},
     "output_type": "display_data"
    },
    {
     "name": "stdout",
     "output_type": "stream",
     "text": [
      "\n",
      "final_score = 0.908680498119383\n",
      "----------\n",
      "-----weighted_boxes_fusion-----\n",
      "{'iou_thr': 0.5052944943663158, 'skip_box_thr': 0.37269824381978844, 'x1': 0.9, 'x2': 0.5, 'x3': 0.5, 'th1': 0.4957005648260853, 'th2': 0.29325036291763307, 'th3': 0.55}\n"
     ]
    },
    {
     "data": {
      "application/vnd.jupyter.widget-view+json": {
       "model_id": "0797de35fc214c47b26f14a74501e191",
       "version_major": 2,
       "version_minor": 0
      },
      "text/plain": [
       "HBox(children=(FloatProgress(value=0.0, max=675.0), HTML(value='')))"
      ]
     },
     "metadata": {},
     "output_type": "display_data"
    },
    {
     "name": "stdout",
     "output_type": "stream",
     "text": [
      "\n",
      "final_score = 0.907297291486439\n",
      "----------\n",
      "-----weighted_boxes_fusion-----\n",
      "{'iou_thr': 0.45558259899064535, 'skip_box_thr': 0.34298337887369623, 'x1': 0.8674054053670541, 'x2': 0.4283412441761111, 'x3': 0.38053117592266994, 'th1': 0.42708277475382544, 'th2': 0.44363140238033993, 'th3': 0.37769447023501845}\n"
     ]
    },
    {
     "data": {
      "application/vnd.jupyter.widget-view+json": {
       "model_id": "1593b6a6c46d4385bbe8f9e2acdafa5d",
       "version_major": 2,
       "version_minor": 0
      },
      "text/plain": [
       "HBox(children=(FloatProgress(value=0.0, max=675.0), HTML(value='')))"
      ]
     },
     "metadata": {},
     "output_type": "display_data"
    },
    {
     "name": "stdout",
     "output_type": "stream",
     "text": [
      "\n",
      "final_score = 0.9094075316493172\n",
      "----------\n",
      "-----weighted_boxes_fusion-----\n",
      "{'iou_thr': 0.42457821174748944, 'skip_box_thr': 0.33154979239646926, 'x1': 0.5667015941346154, 'x2': 0.1139150367431173, 'x3': 0.12867584671220078, 'th1': 0.4263761487165473, 'th2': 0.48844193962548466, 'th3': 0.3601418414503881}\n"
     ]
    },
    {
     "data": {
      "application/vnd.jupyter.widget-view+json": {
       "model_id": "5bd5ac5ef6ed4023b804a28ccc7b67a8",
       "version_major": 2,
       "version_minor": 0
      },
      "text/plain": [
       "HBox(children=(FloatProgress(value=0.0, max=675.0), HTML(value='')))"
      ]
     },
     "metadata": {},
     "output_type": "display_data"
    },
    {
     "name": "stdout",
     "output_type": "stream",
     "text": [
      "\n",
      "final_score = 0.9085228531422649\n",
      "----------\n",
      "-----weighted_boxes_fusion-----\n",
      "{'iou_thr': 0.386244003458727, 'skip_box_thr': 0.35009393682008594, 'x1': 0.8496172244532086, 'x2': 0.18529292786727505, 'x3': 0.1601850152356106, 'th1': 0.4475412488030563, 'th2': 0.4231679865846779, 'th3': 0.4063286849197458}\n"
     ]
    },
    {
     "data": {
      "application/vnd.jupyter.widget-view+json": {
       "model_id": "13487b16d5ec4e57997720a4ec5772ae",
       "version_major": 2,
       "version_minor": 0
      },
      "text/plain": [
       "HBox(children=(FloatProgress(value=0.0, max=675.0), HTML(value='')))"
      ]
     },
     "metadata": {},
     "output_type": "display_data"
    },
    {
     "name": "stdout",
     "output_type": "stream",
     "text": [
      "\n",
      "final_score = 0.9078062476483144\n",
      "----------\n",
      "-----weighted_boxes_fusion-----\n",
      "{'iou_thr': 0.38525865996950764, 'skip_box_thr': 0.34949052115345247, 'x1': 0.46660151649338066, 'x2': 0.47728703709731224, 'x3': 0.34854794464720873, 'th1': 0.4755216011824809, 'th2': 0.38177562045459085, 'th3': 0.3529774410108829}\n"
     ]
    },
    {
     "data": {
      "application/vnd.jupyter.widget-view+json": {
       "model_id": "7ff811c2528c4826b42cf7fa2357b3e6",
       "version_major": 2,
       "version_minor": 0
      },
      "text/plain": [
       "HBox(children=(FloatProgress(value=0.0, max=675.0), HTML(value='')))"
      ]
     },
     "metadata": {},
     "output_type": "display_data"
    },
    {
     "name": "stdout",
     "output_type": "stream",
     "text": [
      "\n",
      "final_score = 0.9083559832008977\n",
      "----------\n",
      "-----weighted_boxes_fusion-----\n",
      "{'iou_thr': 0.3649027303885691, 'skip_box_thr': 0.34199169222563525, 'x1': 0.600105106669426, 'x2': 0.1849047012922717, 'x3': 0.15302122517704853, 'th1': 0.37587989073057404, 'th2': 0.3840159573088028, 'th3': 0.3159749780387862}\n"
     ]
    },
    {
     "data": {
      "application/vnd.jupyter.widget-view+json": {
       "model_id": "4b370622f79c431a9ccb06698f4a1c70",
       "version_major": 2,
       "version_minor": 0
      },
      "text/plain": [
       "HBox(children=(FloatProgress(value=0.0, max=675.0), HTML(value='')))"
      ]
     },
     "metadata": {},
     "output_type": "display_data"
    },
    {
     "name": "stdout",
     "output_type": "stream",
     "text": [
      "\n",
      "final_score = 0.9072002105686665\n",
      "----------\n",
      "-----weighted_boxes_fusion-----\n",
      "{'iou_thr': 0.3446686884614, 'skip_box_thr': 0.3402435384461969, 'x1': 0.8009306135154547, 'x2': 0.3789094643105201, 'x3': 0.147390228225179, 'th1': 0.5421736385551033, 'th2': 0.43256326086742436, 'th3': 0.36189240905555475}\n"
     ]
    },
    {
     "data": {
      "application/vnd.jupyter.widget-view+json": {
       "model_id": "641eb4b899c24bbca6b84405ae473900",
       "version_major": 2,
       "version_minor": 0
      },
      "text/plain": [
       "HBox(children=(FloatProgress(value=0.0, max=675.0), HTML(value='')))"
      ]
     },
     "metadata": {},
     "output_type": "display_data"
    },
    {
     "name": "stdout",
     "output_type": "stream",
     "text": [
      "\n",
      "final_score = 0.9077644294082033\n",
      "----------\n",
      "-----weighted_boxes_fusion-----\n",
      "{'iou_thr': 0.3642365397023634, 'skip_box_thr': 0.3433163591325912, 'x1': 0.701674108735399, 'x2': 0.1680086854804238, 'x3': 0.32993174349394705, 'th1': 0.36869062795993457, 'th2': 0.48621270318997223, 'th3': 0.31874635915003624}\n"
     ]
    },
    {
     "data": {
      "application/vnd.jupyter.widget-view+json": {
       "model_id": "9378b32b336949ebb3c73edffb720bf0",
       "version_major": 2,
       "version_minor": 0
      },
      "text/plain": [
       "HBox(children=(FloatProgress(value=0.0, max=675.0), HTML(value='')))"
      ]
     },
     "metadata": {},
     "output_type": "display_data"
    },
    {
     "name": "stdout",
     "output_type": "stream",
     "text": [
      "\n",
      "final_score = 0.9071770017617105\n",
      "----------\n",
      "-----weighted_boxes_fusion-----\n",
      "{'iou_thr': 0.4569989673692786, 'skip_box_thr': 0.3445190902820226, 'x1': 0.8953072987681322, 'x2': 0.1637754488413155, 'x3': 0.2471006160848688, 'th1': 0.43939680833568895, 'th2': 0.5400635662528965, 'th3': 0.26883811208638053}\n"
     ]
    },
    {
     "data": {
      "application/vnd.jupyter.widget-view+json": {
       "model_id": "a67902b869484f87a4f48bfde1bf3688",
       "version_major": 2,
       "version_minor": 0
      },
      "text/plain": [
       "HBox(children=(FloatProgress(value=0.0, max=675.0), HTML(value='')))"
      ]
     },
     "metadata": {},
     "output_type": "display_data"
    },
    {
     "name": "stdout",
     "output_type": "stream",
     "text": [
      "\n",
      "final_score = 0.9074250266369551\n",
      "----------\n",
      "-----weighted_boxes_fusion-----\n",
      "{'iou_thr': 0.3839725195546404, 'skip_box_thr': 0.34245689202728613, 'x1': 0.891921440394434, 'x2': 0.4741894960395011, 'x3': 0.3903600996167772, 'th1': 0.4671298308487203, 'th2': 0.47271628240072516, 'th3': 0.32771083900997666}\n"
     ]
    },
    {
     "data": {
      "application/vnd.jupyter.widget-view+json": {
       "model_id": "149f3ff8f5384bc88421d8b3ff4813a9",
       "version_major": 2,
       "version_minor": 0
      },
      "text/plain": [
       "HBox(children=(FloatProgress(value=0.0, max=675.0), HTML(value='')))"
      ]
     },
     "metadata": {},
     "output_type": "display_data"
    },
    {
     "name": "stdout",
     "output_type": "stream",
     "text": [
      "\n",
      "final_score = 0.9085890280330777\n",
      "----------\n",
      "-----weighted_boxes_fusion-----\n",
      "{'iou_thr': 0.4207360838351327, 'skip_box_thr': 0.34342336359477865, 'x1': 0.812978394298476, 'x2': 0.12241220000233302, 'x3': 0.45065539363515106, 'th1': 0.5116159145165133, 'th2': 0.40214239861673107, 'th3': 0.27256928901472405}\n"
     ]
    },
    {
     "data": {
      "application/vnd.jupyter.widget-view+json": {
       "model_id": "9e84da5e71184aa6a390a4bc40b245c4",
       "version_major": 2,
       "version_minor": 0
      },
      "text/plain": [
       "HBox(children=(FloatProgress(value=0.0, max=675.0), HTML(value='')))"
      ]
     },
     "metadata": {},
     "output_type": "display_data"
    },
    {
     "name": "stdout",
     "output_type": "stream",
     "text": [
      "\n",
      "final_score = 0.9086179589193395\n",
      "----------\n",
      "-----weighted_boxes_fusion-----\n",
      "{'iou_thr': 0.35442520924979803, 'skip_box_thr': 0.3420807488216036, 'x1': 0.7985584904116259, 'x2': 0.3710497599624094, 'x3': 0.23277229412236256, 'th1': 0.35381572206935463, 'th2': 0.4554317134680713, 'th3': 0.3087569374004125}\n"
     ]
    },
    {
     "data": {
      "application/vnd.jupyter.widget-view+json": {
       "model_id": "2c1c87ac39ca4738aca93e80e7f6e1a5",
       "version_major": 2,
       "version_minor": 0
      },
      "text/plain": [
       "HBox(children=(FloatProgress(value=0.0, max=675.0), HTML(value='')))"
      ]
     },
     "metadata": {},
     "output_type": "display_data"
    },
    {
     "name": "stdout",
     "output_type": "stream",
     "text": [
      "\n",
      "final_score = 0.9067793393310168\n",
      "----------\n",
      "-----weighted_boxes_fusion-----\n",
      "{'iou_thr': 0.35585595993058716, 'skip_box_thr': 0.32978600211215325, 'x1': 0.5721653455429991, 'x2': 0.26530659337608703, 'x3': 0.3367313475647527, 'th1': 0.4657965108989409, 'th2': 0.4950988060763117, 'th3': 0.3401177579805505}\n"
     ]
    },
    {
     "data": {
      "application/vnd.jupyter.widget-view+json": {
       "model_id": "3c2bd6dcff384af09242f0b2670933e0",
       "version_major": 2,
       "version_minor": 0
      },
      "text/plain": [
       "HBox(children=(FloatProgress(value=0.0, max=675.0), HTML(value='')))"
      ]
     },
     "metadata": {},
     "output_type": "display_data"
    },
    {
     "name": "stdout",
     "output_type": "stream",
     "text": [
      "\n",
      "final_score = 0.9081981566244458\n",
      "----------\n",
      "-----weighted_boxes_fusion-----\n",
      "{'iou_thr': 0.388717187944437, 'skip_box_thr': 0.35228425991043716, 'x1': 0.5448354196325408, 'x2': 0.26760416739761406, 'x3': 0.3911943476686902, 'th1': 0.39226682211764796, 'th2': 0.4124898957493601, 'th3': 0.27331734759559717}\n"
     ]
    },
    {
     "data": {
      "application/vnd.jupyter.widget-view+json": {
       "model_id": "70fa6b917b234441b1651f44215a4776",
       "version_major": 2,
       "version_minor": 0
      },
      "text/plain": [
       "HBox(children=(FloatProgress(value=0.0, max=675.0), HTML(value='')))"
      ]
     },
     "metadata": {},
     "output_type": "display_data"
    },
    {
     "name": "stdout",
     "output_type": "stream",
     "text": [
      "\n",
      "final_score = 0.9085422905743742\n",
      "----------\n",
      "-----weighted_boxes_fusion-----\n",
      "{'iou_thr': 0.37885701863266075, 'skip_box_thr': 0.35864881830018686, 'x1': 0.4207672179033853, 'x2': 0.4185815620344898, 'x3': 0.10302072063561414, 'th1': 0.38185152758168217, 'th2': 0.43181417583972403, 'th3': 0.2816122620195241}\n"
     ]
    },
    {
     "data": {
      "application/vnd.jupyter.widget-view+json": {
       "model_id": "da726ba0e7a641a19de0293925d34607",
       "version_major": 2,
       "version_minor": 0
      },
      "text/plain": [
       "HBox(children=(FloatProgress(value=0.0, max=675.0), HTML(value='')))"
      ]
     },
     "metadata": {},
     "output_type": "display_data"
    },
    {
     "name": "stdout",
     "output_type": "stream",
     "text": [
      "\n",
      "final_score = 0.9078163684564887\n",
      "----------\n",
      "-----weighted_boxes_fusion-----\n",
      "{'iou_thr': 0.3882127891197237, 'skip_box_thr': 0.33428962126263007, 'x1': 0.7333577543504639, 'x2': 0.15183828436457494, 'x3': 0.30847196146604816, 'th1': 0.5183286060903132, 'th2': 0.5254047981235905, 'th3': 0.3461707480865255}\n"
     ]
    },
    {
     "data": {
      "application/vnd.jupyter.widget-view+json": {
       "model_id": "d415c750ada844c3950838bfc3aa48b0",
       "version_major": 2,
       "version_minor": 0
      },
      "text/plain": [
       "HBox(children=(FloatProgress(value=0.0, max=675.0), HTML(value='')))"
      ]
     },
     "metadata": {},
     "output_type": "display_data"
    },
    {
     "name": "stdout",
     "output_type": "stream",
     "text": [
      "\n",
      "final_score = 0.9086034331013659\n",
      "----------\n",
      "-----weighted_boxes_fusion-----\n",
      "{'iou_thr': 0.3812974191641207, 'skip_box_thr': 0.3501420258077562, 'x1': 0.7026014099546256, 'x2': 0.34243814001264067, 'x3': 0.20183688440202316, 'th1': 0.4391504381852951, 'th2': 0.4162450181822874, 'th3': 0.26100195631037715}\n"
     ]
    },
    {
     "data": {
      "application/vnd.jupyter.widget-view+json": {
       "model_id": "0927cc97156e4437ad3b86f720d2a3e9",
       "version_major": 2,
       "version_minor": 0
      },
      "text/plain": [
       "HBox(children=(FloatProgress(value=0.0, max=675.0), HTML(value='')))"
      ]
     },
     "metadata": {},
     "output_type": "display_data"
    },
    {
     "name": "stdout",
     "output_type": "stream",
     "text": [
      "\n",
      "final_score = 0.9081232625910154\n",
      "----------\n",
      "-----weighted_boxes_fusion-----\n",
      "{'iou_thr': 0.4235407366765939, 'skip_box_thr': 0.34481000560538116, 'x1': 0.8297810231646234, 'x2': 0.37297203229950104, 'x3': 0.17952122898509376, 'th1': 0.47417294649144054, 'th2': 0.4936889360459502, 'th3': 0.3929325774644173}\n"
     ]
    },
    {
     "data": {
      "application/vnd.jupyter.widget-view+json": {
       "model_id": "8efa54ad7f4b4da39aa1803425414d62",
       "version_major": 2,
       "version_minor": 0
      },
      "text/plain": [
       "HBox(children=(FloatProgress(value=0.0, max=675.0), HTML(value='')))"
      ]
     },
     "metadata": {},
     "output_type": "display_data"
    },
    {
     "name": "stdout",
     "output_type": "stream",
     "text": [
      "\n",
      "final_score = 0.9085176997497586\n",
      "----------\n",
      "-----weighted_boxes_fusion-----\n",
      "{'iou_thr': 0.39294401689197156, 'skip_box_thr': 0.36915288480660413, 'x1': 0.9, 'x2': 0.5, 'x3': 0.5, 'th1': 0.46357154153484453, 'th2': 0.2721339752566784, 'th3': 0.41593395728172833}\n"
     ]
    },
    {
     "data": {
      "application/vnd.jupyter.widget-view+json": {
       "model_id": "77855db13407446e89eb4cbef930bff9",
       "version_major": 2,
       "version_minor": 0
      },
      "text/plain": [
       "HBox(children=(FloatProgress(value=0.0, max=675.0), HTML(value='')))"
      ]
     },
     "metadata": {},
     "output_type": "display_data"
    },
    {
     "name": "stdout",
     "output_type": "stream",
     "text": [
      "\n",
      "final_score = 0.9088463618365606\n",
      "----------\n",
      "-----weighted_boxes_fusion-----\n",
      "{'iou_thr': 0.38772341916120234, 'skip_box_thr': 0.33602415133810565, 'x1': 0.5848603368629791, 'x2': 0.47358681178364515, 'x3': 0.191658419481617, 'th1': 0.46982923659109865, 'th2': 0.37416141039924505, 'th3': 0.321261476733336}\n"
     ]
    },
    {
     "data": {
      "application/vnd.jupyter.widget-view+json": {
       "model_id": "951c500e985147f0ad32a5d35a172aed",
       "version_major": 2,
       "version_minor": 0
      },
      "text/plain": [
       "HBox(children=(FloatProgress(value=0.0, max=675.0), HTML(value='')))"
      ]
     },
     "metadata": {},
     "output_type": "display_data"
    },
    {
     "name": "stdout",
     "output_type": "stream",
     "text": [
      "\n",
      "final_score = 0.90773842293911\n",
      "----------\n",
      "-----weighted_boxes_fusion-----\n",
      "{'iou_thr': 0.34262623283670385, 'skip_box_thr': 0.3478435055015615, 'x1': 0.6163297148253963, 'x2': 0.11453387384441137, 'x3': 0.4127691691869503, 'th1': 0.38590657583927257, 'th2': 0.3881781612761725, 'th3': 0.28430298112765146}\n"
     ]
    },
    {
     "data": {
      "application/vnd.jupyter.widget-view+json": {
       "model_id": "f3a73c6267b540829e37a8d8efd1393a",
       "version_major": 2,
       "version_minor": 0
      },
      "text/plain": [
       "HBox(children=(FloatProgress(value=0.0, max=675.0), HTML(value='')))"
      ]
     },
     "metadata": {},
     "output_type": "display_data"
    },
    {
     "name": "stdout",
     "output_type": "stream",
     "text": [
      "\n",
      "final_score = 0.9074562021038342\n",
      "----------\n",
      "-----weighted_boxes_fusion-----\n",
      "{'iou_thr': 0.3849867790580066, 'skip_box_thr': 0.3428398466706367, 'x1': 0.6629307699385418, 'x2': 0.20449805058478987, 'x3': 0.24916729359561493, 'th1': 0.4683511101044, 'th2': 0.3682360384753548, 'th3': 0.25873477734497596}\n"
     ]
    },
    {
     "data": {
      "application/vnd.jupyter.widget-view+json": {
       "model_id": "b2b743bf585241afb89290014e3b8de2",
       "version_major": 2,
       "version_minor": 0
      },
      "text/plain": [
       "HBox(children=(FloatProgress(value=0.0, max=675.0), HTML(value='')))"
      ]
     },
     "metadata": {},
     "output_type": "display_data"
    },
    {
     "name": "stdout",
     "output_type": "stream",
     "text": [
      "\n",
      "final_score = 0.9082550766928479\n",
      "----------\n",
      "-----weighted_boxes_fusion-----\n",
      "{'iou_thr': 0.594622395908826, 'skip_box_thr': 0.42089469716017336, 'x1': 0.9, 'x2': 0.1, 'x3': 0.5, 'th1': 0.47816728608142967, 'th2': 0.4323586645701128, 'th3': 0.25}\n"
     ]
    },
    {
     "data": {
      "application/vnd.jupyter.widget-view+json": {
       "model_id": "403c3b8601034f0a852bd97483c19ff2",
       "version_major": 2,
       "version_minor": 0
      },
      "text/plain": [
       "HBox(children=(FloatProgress(value=0.0, max=675.0), HTML(value='')))"
      ]
     },
     "metadata": {},
     "output_type": "display_data"
    },
    {
     "name": "stdout",
     "output_type": "stream",
     "text": [
      "\n",
      "final_score = 0.9055656166777808\n",
      "----------\n",
      "-----weighted_boxes_fusion-----\n",
      "{'iou_thr': 0.4180312046783655, 'skip_box_thr': 0.35894645476323356, 'x1': 0.5326438143118872, 'x2': 0.1, 'x3': 0.5, 'th1': 0.55, 'th2': 0.4703035978211143, 'th3': 0.25}\n"
     ]
    },
    {
     "data": {
      "application/vnd.jupyter.widget-view+json": {
       "model_id": "a14660694bf24f91af5c286d593a70b0",
       "version_major": 2,
       "version_minor": 0
      },
      "text/plain": [
       "HBox(children=(FloatProgress(value=0.0, max=675.0), HTML(value='')))"
      ]
     },
     "metadata": {},
     "output_type": "display_data"
    },
    {
     "name": "stdout",
     "output_type": "stream",
     "text": [
      "\n",
      "final_score = 0.9087610457431371\n",
      "----------\n",
      "-----weighted_boxes_fusion-----\n",
      "{'iou_thr': 0.3422113567854831, 'skip_box_thr': 0.3402329914108363, 'x1': 0.6707623774985192, 'x2': 0.4670385138674602, 'x3': 0.15361249234305083, 'th1': 0.5357037553662874, 'th2': 0.4564970715359328, 'th3': 0.3495573857634407}\n"
     ]
    },
    {
     "data": {
      "application/vnd.jupyter.widget-view+json": {
       "model_id": "d22ffddcd0774613b79ca121c0cc2d78",
       "version_major": 2,
       "version_minor": 0
      },
      "text/plain": [
       "HBox(children=(FloatProgress(value=0.0, max=675.0), HTML(value='')))"
      ]
     },
     "metadata": {},
     "output_type": "display_data"
    },
    {
     "name": "stdout",
     "output_type": "stream",
     "text": [
      "\n",
      "final_score = 0.9076905368628698\n",
      "----------\n",
      "-----weighted_boxes_fusion-----\n",
      "{'iou_thr': 0.3468272506911036, 'skip_box_thr': 0.3321146530203488, 'x1': 0.8287530046679821, 'x2': 0.3271934610206272, 'x3': 0.1801277370545049, 'th1': 0.4522273211775934, 'th2': 0.5069749311755215, 'th3': 0.3069939946632796}\n"
     ]
    },
    {
     "data": {
      "application/vnd.jupyter.widget-view+json": {
       "model_id": "ef4cb8ca1451402598f9bdbb3a3441ff",
       "version_major": 2,
       "version_minor": 0
      },
      "text/plain": [
       "HBox(children=(FloatProgress(value=0.0, max=675.0), HTML(value='')))"
      ]
     },
     "metadata": {},
     "output_type": "display_data"
    },
    {
     "name": "stdout",
     "output_type": "stream",
     "text": [
      "\n",
      "final_score = 0.9071931281672498\n",
      "----------\n",
      "-----weighted_boxes_fusion-----\n",
      "{'iou_thr': 0.5141673458965401, 'skip_box_thr': 0.35125418768598865, 'x1': 0.46216844869568635, 'x2': 0.17156230320090743, 'x3': 0.42335220279813424, 'th1': 0.43835311248616804, 'th2': 0.3972279115518844, 'th3': 0.38636475766588485}\n"
     ]
    },
    {
     "data": {
      "application/vnd.jupyter.widget-view+json": {
       "model_id": "b37416d068b140b6a4021405eda19dd3",
       "version_major": 2,
       "version_minor": 0
      },
      "text/plain": [
       "HBox(children=(FloatProgress(value=0.0, max=675.0), HTML(value='')))"
      ]
     },
     "metadata": {},
     "output_type": "display_data"
    },
    {
     "name": "stdout",
     "output_type": "stream",
     "text": [
      "\n",
      "final_score = 0.9074176227360891\n",
      "----------\n",
      "-----weighted_boxes_fusion-----\n",
      "{'iou_thr': 0.3634643231202102, 'skip_box_thr': 0.350009645802634, 'x1': 0.8714607064402667, 'x2': 0.3333263617850907, 'x3': 0.10817271010241779, 'th1': 0.4254358857514189, 'th2': 0.441586902057328, 'th3': 0.3812766070982673}\n"
     ]
    },
    {
     "data": {
      "application/vnd.jupyter.widget-view+json": {
       "model_id": "3de46594bf124014aee95176df864b38",
       "version_major": 2,
       "version_minor": 0
      },
      "text/plain": [
       "HBox(children=(FloatProgress(value=0.0, max=675.0), HTML(value='')))"
      ]
     },
     "metadata": {},
     "output_type": "display_data"
    },
    {
     "name": "stdout",
     "output_type": "stream",
     "text": [
      "\n",
      "final_score = 0.9084445072673346\n",
      "----------\n",
      "-----weighted_boxes_fusion-----\n",
      "{'iou_thr': 0.5497897464547232, 'skip_box_thr': 0.3058264156828559, 'x1': 0.7400650405619571, 'x2': 0.5, 'x3': 0.19496732260378835, 'th1': 0.2894376950644756, 'th2': 0.4727321105084355, 'th3': 0.5269621921997769}\n"
     ]
    },
    {
     "data": {
      "application/vnd.jupyter.widget-view+json": {
       "model_id": "683134c2810d427ba3009f789b804aef",
       "version_major": 2,
       "version_minor": 0
      },
      "text/plain": [
       "HBox(children=(FloatProgress(value=0.0, max=675.0), HTML(value='')))"
      ]
     },
     "metadata": {},
     "output_type": "display_data"
    },
    {
     "name": "stdout",
     "output_type": "stream",
     "text": [
      "\n",
      "final_score = 0.8905273092338195\n",
      "----------\n",
      "-----weighted_boxes_fusion-----\n",
      "{'iou_thr': 0.46200881268819555, 'skip_box_thr': 0.35879696332408884, 'x1': 0.5007956919815838, 'x2': 0.28465514479741005, 'x3': 0.37383962529463444, 'th1': 0.4628820255611818, 'th2': 0.4972723938775211, 'th3': 0.35566200498953604}\n"
     ]
    },
    {
     "data": {
      "application/vnd.jupyter.widget-view+json": {
       "model_id": "6d05c0feefa94c9f82a645c0765f7d44",
       "version_major": 2,
       "version_minor": 0
      },
      "text/plain": [
       "HBox(children=(FloatProgress(value=0.0, max=675.0), HTML(value='')))"
      ]
     },
     "metadata": {},
     "output_type": "display_data"
    },
    {
     "name": "stdout",
     "output_type": "stream",
     "text": [
      "\n",
      "final_score = 0.9084993663507834\n",
      "----------\n",
      "-----weighted_boxes_fusion-----\n",
      "{'iou_thr': 0.41931085766095366, 'skip_box_thr': 0.33982440604394615, 'x1': 0.46289077158152436, 'x2': 0.13824027081751905, 'x3': 0.23377135614646075, 'th1': 0.4053790374898385, 'th2': 0.5413996477028185, 'th3': 0.28390860239457927}\n"
     ]
    },
    {
     "data": {
      "application/vnd.jupyter.widget-view+json": {
       "model_id": "d9ca3c4857ce45499b48412db81cb327",
       "version_major": 2,
       "version_minor": 0
      },
      "text/plain": [
       "HBox(children=(FloatProgress(value=0.0, max=675.0), HTML(value='')))"
      ]
     },
     "metadata": {},
     "output_type": "display_data"
    },
    {
     "name": "stdout",
     "output_type": "stream",
     "text": [
      "\n",
      "final_score = 0.9081043962474683\n",
      "----------\n",
      "-----weighted_boxes_fusion-----\n",
      "{'iou_thr': 0.39135504791423403, 'skip_box_thr': 0.3476227033578778, 'x1': 0.5846460153219879, 'x2': 0.30396639596514063, 'x3': 0.1639328309972039, 'th1': 0.521322472141021, 'th2': 0.4031111364804536, 'th3': 0.2605771934701494}\n"
     ]
    },
    {
     "data": {
      "application/vnd.jupyter.widget-view+json": {
       "model_id": "5e696e249f214c089ea2d6aca5c56e7d",
       "version_major": 2,
       "version_minor": 0
      },
      "text/plain": [
       "HBox(children=(FloatProgress(value=0.0, max=675.0), HTML(value='')))"
      ]
     },
     "metadata": {},
     "output_type": "display_data"
    },
    {
     "name": "stdout",
     "output_type": "stream",
     "text": [
      "\n",
      "final_score = 0.9084583349605526\n",
      "----------\n",
      "-----weighted_boxes_fusion-----\n",
      "{'iou_thr': 0.4602753802559161, 'skip_box_thr': 0.34449204140225453, 'x1': 0.6224230475766493, 'x2': 0.4133194738929742, 'x3': 0.14649998043135043, 'th1': 0.40836880773753914, 'th2': 0.45759029346719887, 'th3': 0.382114654427034}\n"
     ]
    },
    {
     "data": {
      "application/vnd.jupyter.widget-view+json": {
       "model_id": "8ea7fa2d83bc46eb9695b53df03eab86",
       "version_major": 2,
       "version_minor": 0
      },
      "text/plain": [
       "HBox(children=(FloatProgress(value=0.0, max=675.0), HTML(value='')))"
      ]
     },
     "metadata": {},
     "output_type": "display_data"
    },
    {
     "name": "stdout",
     "output_type": "stream",
     "text": [
      "\n",
      "final_score = 0.9093715819754153\n",
      "----------\n",
      "-----weighted_boxes_fusion-----\n",
      "{'iou_thr': 0.34116136248142426, 'skip_box_thr': 0.3463651046666475, 'x1': 0.4227778910681482, 'x2': 0.43842862163955587, 'x3': 0.14173059281347944, 'th1': 0.5106946252817854, 'th2': 0.34093387500762756, 'th3': 0.36615800284408956}\n"
     ]
    },
    {
     "data": {
      "application/vnd.jupyter.widget-view+json": {
       "model_id": "ecc22d8d731c44e4b8aa41d26bbd2c91",
       "version_major": 2,
       "version_minor": 0
      },
      "text/plain": [
       "HBox(children=(FloatProgress(value=0.0, max=675.0), HTML(value='')))"
      ]
     },
     "metadata": {},
     "output_type": "display_data"
    },
    {
     "name": "stdout",
     "output_type": "stream",
     "text": [
      "\n",
      "final_score = 0.9061970220140652\n",
      "----------\n",
      "-----weighted_boxes_fusion-----\n",
      "{'iou_thr': 0.4546399528953402, 'skip_box_thr': 0.33368579137260557, 'x1': 0.5990893963690775, 'x2': 0.39831161841521323, 'x3': 0.4799314724038567, 'th1': 0.3990404936889287, 'th2': 0.4679733841515604, 'th3': 0.3780734828981007}\n"
     ]
    },
    {
     "data": {
      "application/vnd.jupyter.widget-view+json": {
       "model_id": "5325b0a806bf47d498361fd884c7f886",
       "version_major": 2,
       "version_minor": 0
      },
      "text/plain": [
       "HBox(children=(FloatProgress(value=0.0, max=675.0), HTML(value='')))"
      ]
     },
     "metadata": {},
     "output_type": "display_data"
    },
    {
     "name": "stdout",
     "output_type": "stream",
     "text": [
      "\n",
      "final_score = 0.909398007123345\n",
      "----------\n",
      "-----weighted_boxes_fusion-----\n",
      "{'iou_thr': 0.4218805160646934, 'skip_box_thr': 0.3799308329320476, 'x1': 0.9, 'x2': 0.5, 'x3': 0.3936803830499158, 'th1': 0.25, 'th2': 0.2730472989509171, 'th3': 0.5100132131561274}\n"
     ]
    },
    {
     "data": {
      "application/vnd.jupyter.widget-view+json": {
       "model_id": "b238685c3d394009ac7f81af6aa1b792",
       "version_major": 2,
       "version_minor": 0
      },
      "text/plain": [
       "HBox(children=(FloatProgress(value=0.0, max=675.0), HTML(value='')))"
      ]
     },
     "metadata": {},
     "output_type": "display_data"
    },
    {
     "name": "stdout",
     "output_type": "stream",
     "text": [
      "\n",
      "final_score = 0.9086997335608892\n",
      "----------\n",
      "-----weighted_boxes_fusion-----\n",
      "{'iou_thr': 0.4067165065111586, 'skip_box_thr': 0.35332647546636936, 'x1': 0.9, 'x2': 0.5, 'x3': 0.5, 'th1': 0.55, 'th2': 0.314833693457483, 'th3': 0.4197852310257121}\n"
     ]
    },
    {
     "data": {
      "application/vnd.jupyter.widget-view+json": {
       "model_id": "457cf2af693a4a34810f175c3d0f3815",
       "version_major": 2,
       "version_minor": 0
      },
      "text/plain": [
       "HBox(children=(FloatProgress(value=0.0, max=675.0), HTML(value='')))"
      ]
     },
     "metadata": {},
     "output_type": "display_data"
    },
    {
     "name": "stdout",
     "output_type": "stream",
     "text": [
      "\n",
      "final_score = 0.9089674749551246\n",
      "----------\n",
      "-----weighted_boxes_fusion-----\n",
      "{'iou_thr': 0.36879424166251606, 'skip_box_thr': 0.3358670425030868, 'x1': 0.4209276232073129, 'x2': 0.2608255015870461, 'x3': 0.3887115733051887, 'th1': 0.44952766414302414, 'th2': 0.4190081975053037, 'th3': 0.3319091766948869}\n"
     ]
    },
    {
     "data": {
      "application/vnd.jupyter.widget-view+json": {
       "model_id": "1544b9879e4847ed94849c0dcf46d5b4",
       "version_major": 2,
       "version_minor": 0
      },
      "text/plain": [
       "HBox(children=(FloatProgress(value=0.0, max=675.0), HTML(value='')))"
      ]
     },
     "metadata": {},
     "output_type": "display_data"
    },
    {
     "name": "stdout",
     "output_type": "stream",
     "text": [
      "\n",
      "final_score = 0.9077311853177829\n",
      "----------\n",
      "-----weighted_boxes_fusion-----\n",
      "{'iou_thr': 0.40565937918355377, 'skip_box_thr': 0.3547658337051153, 'x1': 0.8482535463760306, 'x2': 0.43849829464558276, 'x3': 0.19023456163492625, 'th1': 0.534475192309011, 'th2': 0.26570629926778266, 'th3': 0.3955979128081926}\n"
     ]
    },
    {
     "data": {
      "application/vnd.jupyter.widget-view+json": {
       "model_id": "ee7f8f5073474ec4b3d8a7cca431630b",
       "version_major": 2,
       "version_minor": 0
      },
      "text/plain": [
       "HBox(children=(FloatProgress(value=0.0, max=675.0), HTML(value='')))"
      ]
     },
     "metadata": {},
     "output_type": "display_data"
    },
    {
     "name": "stdout",
     "output_type": "stream",
     "text": [
      "\n",
      "final_score = 0.9088075981218526\n",
      "----------\n",
      "-----weighted_boxes_fusion-----\n",
      "{'iou_thr': 0.3753609379903982, 'skip_box_thr': 0.3321516976841282, 'x1': 0.6507573207862299, 'x2': 0.33060539127449284, 'x3': 0.23692139281233787, 'th1': 0.4459449061771377, 'th2': 0.3984395932352186, 'th3': 0.3326254155433997}\n"
     ]
    },
    {
     "data": {
      "application/vnd.jupyter.widget-view+json": {
       "model_id": "41eecaf72bff494a8068ae9918cdb4bd",
       "version_major": 2,
       "version_minor": 0
      },
      "text/plain": [
       "HBox(children=(FloatProgress(value=0.0, max=675.0), HTML(value='')))"
      ]
     },
     "metadata": {},
     "output_type": "display_data"
    },
    {
     "name": "stdout",
     "output_type": "stream",
     "text": [
      "\n",
      "final_score = 0.9071764367122394\n",
      "----------\n",
      "-----weighted_boxes_fusion-----\n",
      "{'iou_thr': 0.4335009933729933, 'skip_box_thr': 0.33133477909678793, 'x1': 0.8105449579536403, 'x2': 0.5, 'x3': 0.5, 'th1': 0.39886304802689176, 'th2': 0.4663247115454261, 'th3': 0.3957526861774062}\n"
     ]
    },
    {
     "data": {
      "application/vnd.jupyter.widget-view+json": {
       "model_id": "f01fcc2c19f14595878b38956a385371",
       "version_major": 2,
       "version_minor": 0
      },
      "text/plain": [
       "HBox(children=(FloatProgress(value=0.0, max=675.0), HTML(value='')))"
      ]
     },
     "metadata": {},
     "output_type": "display_data"
    },
    {
     "name": "stdout",
     "output_type": "stream",
     "text": [
      "\n",
      "final_score = 0.9085948343100386\n",
      "----------\n",
      "-----weighted_boxes_fusion-----\n",
      "{'iou_thr': 0.6832764810276448, 'skip_box_thr': 0.3, 'x1': 0.4, 'x2': 0.5, 'x3': 0.5, 'th1': 0.39153276004431103, 'th2': 0.5091929273336896, 'th3': 0.46474895212368805}\n"
     ]
    },
    {
     "data": {
      "application/vnd.jupyter.widget-view+json": {
       "model_id": "907dfe162879465888b564d4717e8204",
       "version_major": 2,
       "version_minor": 0
      },
      "text/plain": [
       "HBox(children=(FloatProgress(value=0.0, max=675.0), HTML(value='')))"
      ]
     },
     "metadata": {},
     "output_type": "display_data"
    },
    {
     "name": "stdout",
     "output_type": "stream",
     "text": [
      "\n",
      "final_score = 0.9048532585795422\n",
      "----------\n",
      "-----weighted_boxes_fusion-----\n",
      "{'iou_thr': 0.38062381947002616, 'skip_box_thr': 0.33883811592077806, 'x1': 0.6911997633007374, 'x2': 0.17157227738896924, 'x3': 0.44336172363023973, 'th1': 0.4746135736026739, 'th2': 0.32883368472411556, 'th3': 0.3968751448469543}\n"
     ]
    },
    {
     "data": {
      "application/vnd.jupyter.widget-view+json": {
       "model_id": "d11c31087a3f48aea27b7325c5eb969e",
       "version_major": 2,
       "version_minor": 0
      },
      "text/plain": [
       "HBox(children=(FloatProgress(value=0.0, max=675.0), HTML(value='')))"
      ]
     },
     "metadata": {},
     "output_type": "display_data"
    },
    {
     "name": "stdout",
     "output_type": "stream",
     "text": [
      "\n",
      "final_score = 0.9079336943715761\n",
      "----------\n",
      "-----weighted_boxes_fusion-----\n",
      "{'iou_thr': 0.3596576241890935, 'skip_box_thr': 0.34346952853293344, 'x1': 0.7265676103122232, 'x2': 0.41020441335959434, 'x3': 0.413404167074679, 'th1': 0.394315109372101, 'th2': 0.46452885011914, 'th3': 0.32774133262696836}\n"
     ]
    },
    {
     "data": {
      "application/vnd.jupyter.widget-view+json": {
       "model_id": "08f29ebb4a3f40bfac7b953cfe4c4a21",
       "version_major": 2,
       "version_minor": 0
      },
      "text/plain": [
       "HBox(children=(FloatProgress(value=0.0, max=675.0), HTML(value='')))"
      ]
     },
     "metadata": {},
     "output_type": "display_data"
    },
    {
     "name": "stdout",
     "output_type": "stream",
     "text": [
      "\n",
      "final_score = 0.907821155988666\n",
      "----------\n",
      "-----weighted_boxes_fusion-----\n",
      "{'iou_thr': 0.43371994846209355, 'skip_box_thr': 0.3641765522819865, 'x1': 0.4742359432367353, 'x2': 0.14655463647162967, 'x3': 0.5, 'th1': 0.55, 'th2': 0.5138957057562829, 'th3': 0.3760546904403992}\n"
     ]
    },
    {
     "data": {
      "application/vnd.jupyter.widget-view+json": {
       "model_id": "310ae93083b84315b49f3109a80f751f",
       "version_major": 2,
       "version_minor": 0
      },
      "text/plain": [
       "HBox(children=(FloatProgress(value=0.0, max=675.0), HTML(value='')))"
      ]
     },
     "metadata": {},
     "output_type": "display_data"
    },
    {
     "name": "stdout",
     "output_type": "stream",
     "text": [
      "\n",
      "final_score = 0.908912980089028\n",
      "----------\n",
      "-----weighted_boxes_fusion-----\n",
      "{'iou_thr': 0.4476199206362035, 'skip_box_thr': 0.3405557566573374, 'x1': 0.521730169264074, 'x2': 0.2349378698547555, 'x3': 0.4088573023683624, 'th1': 0.4837093116122584, 'th2': 0.5146712834995022, 'th3': 0.39587081284792813}\n"
     ]
    },
    {
     "data": {
      "application/vnd.jupyter.widget-view+json": {
       "model_id": "2a698fe0c03247bc970560c7694bde7d",
       "version_major": 2,
       "version_minor": 0
      },
      "text/plain": [
       "HBox(children=(FloatProgress(value=0.0, max=675.0), HTML(value='')))"
      ]
     },
     "metadata": {},
     "output_type": "display_data"
    },
    {
     "name": "stdout",
     "output_type": "stream",
     "text": [
      "\n",
      "final_score = 0.9080200369032565\n",
      "----------\n",
      "-----weighted_boxes_fusion-----\n",
      "{'iou_thr': 0.35305528967644645, 'skip_box_thr': 0.3331274425434704, 'x1': 0.7753894162441842, 'x2': 0.4928546172204249, 'x3': 0.2744957401109307, 'th1': 0.44396673692839406, 'th2': 0.4707101200070257, 'th3': 0.3770463706528904}\n"
     ]
    },
    {
     "data": {
      "application/vnd.jupyter.widget-view+json": {
       "model_id": "4e1dcbee937347a7b6638b342369f739",
       "version_major": 2,
       "version_minor": 0
      },
      "text/plain": [
       "HBox(children=(FloatProgress(value=0.0, max=675.0), HTML(value='')))"
      ]
     },
     "metadata": {},
     "output_type": "display_data"
    },
    {
     "name": "stdout",
     "output_type": "stream",
     "text": [
      "\n",
      "final_score = 0.9081399184717732\n",
      "----------\n",
      "-----weighted_boxes_fusion-----\n",
      "{'iou_thr': 0.3251967387611145, 'skip_box_thr': 0.38788155411396824, 'x1': 0.4, 'x2': 0.35929540564902596, 'x3': 0.1, 'th1': 0.2721331677976317, 'th2': 0.5272339397257995, 'th3': 0.4282622436270158}\n"
     ]
    },
    {
     "data": {
      "application/vnd.jupyter.widget-view+json": {
       "model_id": "d84c4d02ebf545e98c902a9f10eec172",
       "version_major": 2,
       "version_minor": 0
      },
      "text/plain": [
       "HBox(children=(FloatProgress(value=0.0, max=675.0), HTML(value='')))"
      ]
     },
     "metadata": {},
     "output_type": "display_data"
    },
    {
     "name": "stdout",
     "output_type": "stream",
     "text": [
      "\n",
      "final_score = 0.9061562819224619\n",
      "----------\n",
      "-----weighted_boxes_fusion-----\n",
      "{'iou_thr': 0.36133524129768757, 'skip_box_thr': 0.3398687078005118, 'x1': 0.4117038399121839, 'x2': 0.21592324075321623, 'x3': 0.4114346603430533, 'th1': 0.5272602838345105, 'th2': 0.36251717380503157, 'th3': 0.3825556320810088}\n"
     ]
    },
    {
     "data": {
      "application/vnd.jupyter.widget-view+json": {
       "model_id": "6b7b02975eee458dbe4363f2d17ca88b",
       "version_major": 2,
       "version_minor": 0
      },
      "text/plain": [
       "HBox(children=(FloatProgress(value=0.0, max=675.0), HTML(value='')))"
      ]
     },
     "metadata": {},
     "output_type": "display_data"
    },
    {
     "name": "stdout",
     "output_type": "stream",
     "text": [
      "\n",
      "final_score = 0.9083890818371502\n",
      "----------\n",
      "-----weighted_boxes_fusion-----\n",
      "{'iou_thr': 0.49260530484709186, 'skip_box_thr': 0.3466819410594887, 'x1': 0.47459661696202143, 'x2': 0.41537452634004823, 'x3': 0.39880939696789897, 'th1': 0.4417938430188018, 'th2': 0.4817315553294954, 'th3': 0.3707319412162708}\n"
     ]
    },
    {
     "data": {
      "application/vnd.jupyter.widget-view+json": {
       "model_id": "cb97a06a822c4b10a6f5fa2916c93188",
       "version_major": 2,
       "version_minor": 0
      },
      "text/plain": [
       "HBox(children=(FloatProgress(value=0.0, max=675.0), HTML(value='')))"
      ]
     },
     "metadata": {},
     "output_type": "display_data"
    },
    {
     "name": "stdout",
     "output_type": "stream",
     "text": [
      "\n",
      "final_score = 0.9073517304275245\n",
      "----------\n",
      "-----weighted_boxes_fusion-----\n",
      "{'iou_thr': 0.40686927116237354, 'skip_box_thr': 0.35772060419817575, 'x1': 0.6520683604677714, 'x2': 0.3299195381009964, 'x3': 0.45287238796048057, 'th1': 0.44482189894117996, 'th2': 0.3052971097014049, 'th3': 0.3861818467718616}\n"
     ]
    },
    {
     "data": {
      "application/vnd.jupyter.widget-view+json": {
       "model_id": "313d2a44d18547ae86d02109c2d92801",
       "version_major": 2,
       "version_minor": 0
      },
      "text/plain": [
       "HBox(children=(FloatProgress(value=0.0, max=675.0), HTML(value='')))"
      ]
     },
     "metadata": {},
     "output_type": "display_data"
    },
    {
     "name": "stdout",
     "output_type": "stream",
     "text": [
      "\n",
      "final_score = 0.9092183953108995\n",
      "----------\n",
      "-----weighted_boxes_fusion-----\n",
      "{'iou_thr': 0.40844423780597366, 'skip_box_thr': 0.3339646578853033, 'x1': 0.9, 'x2': 0.4341904182654065, 'x3': 0.5, 'th1': 0.55, 'th2': 0.4005735572343816, 'th3': 0.38954305760033303}\n"
     ]
    },
    {
     "data": {
      "application/vnd.jupyter.widget-view+json": {
       "model_id": "da6435515d63431fbbf4f90ea841e552",
       "version_major": 2,
       "version_minor": 0
      },
      "text/plain": [
       "HBox(children=(FloatProgress(value=0.0, max=675.0), HTML(value='')))"
      ]
     },
     "metadata": {},
     "output_type": "display_data"
    },
    {
     "name": "stdout",
     "output_type": "stream",
     "text": [
      "\n",
      "final_score = 0.909830127471107\n",
      "----------\n",
      "-----weighted_boxes_fusion-----\n",
      "{'iou_thr': 0.41975559448083044, 'skip_box_thr': 0.33394604586346804, 'x1': 0.9, 'x2': 0.33444504112377793, 'x3': 0.5, 'th1': 0.55, 'th2': 0.4705216882914005, 'th3': 0.38310593377384317}\n"
     ]
    },
    {
     "data": {
      "application/vnd.jupyter.widget-view+json": {
       "model_id": "65291af583834c14934d36e31c4a7992",
       "version_major": 2,
       "version_minor": 0
      },
      "text/plain": [
       "HBox(children=(FloatProgress(value=0.0, max=675.0), HTML(value='')))"
      ]
     },
     "metadata": {},
     "output_type": "display_data"
    },
    {
     "name": "stdout",
     "output_type": "stream",
     "text": [
      "\n",
      "final_score = 0.9093520651913419\n",
      "----------\n",
      "-----weighted_boxes_fusion-----\n",
      "{'iou_thr': 0.4024680944805265, 'skip_box_thr': 0.33596361295361815, 'x1': 0.9, 'x2': 0.4434926227177983, 'x3': 0.5, 'th1': 0.55, 'th2': 0.3722116061800683, 'th3': 0.39151082207204346}\n"
     ]
    },
    {
     "data": {
      "application/vnd.jupyter.widget-view+json": {
       "model_id": "1b35c4539ba54994b047ddc6f738d732",
       "version_major": 2,
       "version_minor": 0
      },
      "text/plain": [
       "HBox(children=(FloatProgress(value=0.0, max=675.0), HTML(value='')))"
      ]
     },
     "metadata": {},
     "output_type": "display_data"
    },
    {
     "name": "stdout",
     "output_type": "stream",
     "text": [
      "\n",
      "final_score = 0.9094083441822672\n",
      "----------\n",
      "-----weighted_boxes_fusion-----\n",
      "{'iou_thr': 0.4053369949844438, 'skip_box_thr': 0.33617260655556414, 'x1': 0.9, 'x2': 0.45653658045533974, 'x3': 0.5, 'th1': 0.55, 'th2': 0.40042044476072103, 'th3': 0.3865493454178851}\n"
     ]
    },
    {
     "data": {
      "application/vnd.jupyter.widget-view+json": {
       "model_id": "339ecab4d26648a4b0d38c108b692a3a",
       "version_major": 2,
       "version_minor": 0
      },
      "text/plain": [
       "HBox(children=(FloatProgress(value=0.0, max=675.0), HTML(value='')))"
      ]
     },
     "metadata": {},
     "output_type": "display_data"
    },
    {
     "name": "stdout",
     "output_type": "stream",
     "text": [
      "\n",
      "final_score = 0.9099984798261047\n",
      "----------\n",
      "-----weighted_boxes_fusion-----\n",
      "{'iou_thr': 0.4139910900446424, 'skip_box_thr': 0.34214458521003815, 'x1': 0.45984054955759884, 'x2': 0.28088186020467576, 'x3': 0.4510655262635904, 'th1': 0.4722859862667273, 'th2': 0.4419417992046467, 'th3': 0.2554239764897381}\n"
     ]
    },
    {
     "data": {
      "application/vnd.jupyter.widget-view+json": {
       "model_id": "00a54217abe942d2b9e66e2076ba13da",
       "version_major": 2,
       "version_minor": 0
      },
      "text/plain": [
       "HBox(children=(FloatProgress(value=0.0, max=675.0), HTML(value='')))"
      ]
     },
     "metadata": {},
     "output_type": "display_data"
    },
    {
     "name": "stdout",
     "output_type": "stream",
     "text": [
      "\n",
      "final_score = 0.90889824785786\n",
      "----------\n",
      "-----weighted_boxes_fusion-----\n",
      "{'iou_thr': 0.44198033690482946, 'skip_box_thr': 0.4234297606560672, 'x1': 0.9, 'x2': 0.29602679492248307, 'x3': 0.5, 'th1': 0.32900393115992227, 'th2': 0.25, 'th3': 0.25}\n"
     ]
    },
    {
     "data": {
      "application/vnd.jupyter.widget-view+json": {
       "model_id": "67271f16aaa3405a97dc0041de2d50be",
       "version_major": 2,
       "version_minor": 0
      },
      "text/plain": [
       "HBox(children=(FloatProgress(value=0.0, max=675.0), HTML(value='')))"
      ]
     },
     "metadata": {},
     "output_type": "display_data"
    },
    {
     "name": "stdout",
     "output_type": "stream",
     "text": [
      "\n",
      "final_score = 0.9073119305471028\n",
      "----------\n",
      "-----weighted_boxes_fusion-----\n",
      "{'iou_thr': 0.3890455175509371, 'skip_box_thr': 0.35281135958935433, 'x1': 0.7096975273505419, 'x2': 0.47082990475097386, 'x3': 0.3966213826565286, 'th1': 0.4351765220555412, 'th2': 0.31593015184634016, 'th3': 0.4132987480466153}\n"
     ]
    },
    {
     "data": {
      "application/vnd.jupyter.widget-view+json": {
       "model_id": "54cd188040c74dedab58daff50a9b5ee",
       "version_major": 2,
       "version_minor": 0
      },
      "text/plain": [
       "HBox(children=(FloatProgress(value=0.0, max=675.0), HTML(value='')))"
      ]
     },
     "metadata": {},
     "output_type": "display_data"
    },
    {
     "name": "stdout",
     "output_type": "stream",
     "text": [
      "\n",
      "final_score = 0.9086261475726455\n",
      "----------\n",
      "-----weighted_boxes_fusion-----\n",
      "{'iou_thr': 0.41026294499804744, 'skip_box_thr': 0.33857468972703114, 'x1': 0.9, 'x2': 0.41787126710967115, 'x3': 0.5, 'th1': 0.55, 'th2': 0.4090710373589607, 'th3': 0.3867650385760845}\n"
     ]
    },
    {
     "data": {
      "application/vnd.jupyter.widget-view+json": {
       "model_id": "bd2ec254061b4d9ca75f644522a7966f",
       "version_major": 2,
       "version_minor": 0
      },
      "text/plain": [
       "HBox(children=(FloatProgress(value=0.0, max=675.0), HTML(value='')))"
      ]
     },
     "metadata": {},
     "output_type": "display_data"
    },
    {
     "name": "stdout",
     "output_type": "stream",
     "text": [
      "\n",
      "final_score = 0.9100936602529366\n",
      "----------\n",
      "-----weighted_boxes_fusion-----\n",
      "{'iou_thr': 0.37568966405852455, 'skip_box_thr': 0.3668323503318901, 'x1': 0.4365621630278968, 'x2': 0.5, 'x3': 0.1, 'th1': 0.25, 'th2': 0.25, 'th3': 0.5093967111352802}\n"
     ]
    },
    {
     "data": {
      "application/vnd.jupyter.widget-view+json": {
       "model_id": "e392ddf5f7b14338b96ab13837de1d43",
       "version_major": 2,
       "version_minor": 0
      },
      "text/plain": [
       "HBox(children=(FloatProgress(value=0.0, max=675.0), HTML(value='')))"
      ]
     },
     "metadata": {},
     "output_type": "display_data"
    },
    {
     "name": "stdout",
     "output_type": "stream",
     "text": [
      "\n",
      "final_score = 0.9076181029643047\n",
      "----------\n",
      "-----weighted_boxes_fusion-----\n",
      "{'iou_thr': 0.41451059226187403, 'skip_box_thr': 0.3416408819791572, 'x1': 0.9, 'x2': 0.5, 'x3': 0.5, 'th1': 0.55, 'th2': 0.40953178622908315, 'th3': 0.38706416650995534}\n"
     ]
    },
    {
     "data": {
      "application/vnd.jupyter.widget-view+json": {
       "model_id": "d6cc3082dc01430ab087006a042fca29",
       "version_major": 2,
       "version_minor": 0
      },
      "text/plain": [
       "HBox(children=(FloatProgress(value=0.0, max=675.0), HTML(value='')))"
      ]
     },
     "metadata": {},
     "output_type": "display_data"
    },
    {
     "name": "stdout",
     "output_type": "stream",
     "text": [
      "\n",
      "final_score = 0.9097379732738513\n",
      "----------\n",
      "-----weighted_boxes_fusion-----\n",
      "{'iou_thr': 0.4098058626931136, 'skip_box_thr': 0.3380701516306959, 'x1': 0.9, 'x2': 0.5, 'x3': 0.5, 'th1': 0.55, 'th2': 0.4073928058378198, 'th3': 0.3858634190037108}\n"
     ]
    },
    {
     "data": {
      "application/vnd.jupyter.widget-view+json": {
       "model_id": "729c0698cca44d9190795c3fe424b414",
       "version_major": 2,
       "version_minor": 0
      },
      "text/plain": [
       "HBox(children=(FloatProgress(value=0.0, max=675.0), HTML(value='')))"
      ]
     },
     "metadata": {},
     "output_type": "display_data"
    },
    {
     "name": "stdout",
     "output_type": "stream",
     "text": [
      "\n",
      "final_score = 0.9103397509840717\n",
      "----------\n",
      "-----weighted_boxes_fusion-----\n",
      "{'iou_thr': 0.4131203361641609, 'skip_box_thr': 0.33092860890726666, 'x1': 0.5255550728886303, 'x2': 0.3056312341672117, 'x3': 0.45144509915639863, 'th1': 0.425258122373099, 'th2': 0.507220638883757, 'th3': 0.33976965683890714}\n"
     ]
    },
    {
     "data": {
      "application/vnd.jupyter.widget-view+json": {
       "model_id": "e8b57d0f1cc04cf082e919048723ba8d",
       "version_major": 2,
       "version_minor": 0
      },
      "text/plain": [
       "HBox(children=(FloatProgress(value=0.0, max=675.0), HTML(value='')))"
      ]
     },
     "metadata": {},
     "output_type": "display_data"
    },
    {
     "name": "stdout",
     "output_type": "stream",
     "text": [
      "\n",
      "final_score = 0.9084002017917808\n",
      "----------\n",
      "-----weighted_boxes_fusion-----\n",
      "{'iou_thr': 0.37999796090035015, 'skip_box_thr': 0.33398274742436806, 'x1': 0.8900661292706815, 'x2': 0.19978993989577343, 'x3': 0.4489215662230259, 'th1': 0.4208227099225025, 'th2': 0.4492175347239675, 'th3': 0.28045084856956953}\n"
     ]
    },
    {
     "data": {
      "application/vnd.jupyter.widget-view+json": {
       "model_id": "1d9953f49dd74b1db5003c8e1aaed76e",
       "version_major": 2,
       "version_minor": 0
      },
      "text/plain": [
       "HBox(children=(FloatProgress(value=0.0, max=675.0), HTML(value='')))"
      ]
     },
     "metadata": {},
     "output_type": "display_data"
    },
    {
     "name": "stdout",
     "output_type": "stream",
     "text": [
      "\n",
      "final_score = 0.9076493590849781\n",
      "----------\n",
      "-----weighted_boxes_fusion-----\n",
      "{'iou_thr': 0.41147001269341743, 'skip_box_thr': 0.33882493618950776, 'x1': 0.9, 'x2': 0.5, 'x3': 0.5, 'th1': 0.55, 'th2': 0.4087794564377464, 'th3': 0.3840650184523748}\n"
     ]
    },
    {
     "data": {
      "application/vnd.jupyter.widget-view+json": {
       "model_id": "aaf9dcb4891e43399197139d061aa06c",
       "version_major": 2,
       "version_minor": 0
      },
      "text/plain": [
       "HBox(children=(FloatProgress(value=0.0, max=675.0), HTML(value='')))"
      ]
     },
     "metadata": {},
     "output_type": "display_data"
    },
    {
     "name": "stdout",
     "output_type": "stream",
     "text": [
      "\n",
      "final_score = 0.9102927701537512\n",
      "----------\n",
      "-----weighted_boxes_fusion-----\n",
      "{'iou_thr': 0.4129352907538489, 'skip_box_thr': 0.33909513505319416, 'x1': 0.9, 'x2': 0.4612124092982941, 'x3': 0.5, 'th1': 0.55, 'th2': 0.40866996196630934, 'th3': 0.3817876534908571}\n"
     ]
    },
    {
     "data": {
      "application/vnd.jupyter.widget-view+json": {
       "model_id": "894dc19a06874d0491d104007ea1fd9b",
       "version_major": 2,
       "version_minor": 0
      },
      "text/plain": [
       "HBox(children=(FloatProgress(value=0.0, max=675.0), HTML(value='')))"
      ]
     },
     "metadata": {},
     "output_type": "display_data"
    },
    {
     "name": "stdout",
     "output_type": "stream",
     "text": [
      "\n",
      "final_score = 0.9101676851280044\n",
      "----------\n",
      "-----weighted_boxes_fusion-----\n",
      "{'iou_thr': 0.39244310990702574, 'skip_box_thr': 0.3310149569055904, 'x1': 0.4755864503348076, 'x2': 0.473417273103369, 'x3': 0.39021511196227077, 'th1': 0.49578567794992134, 'th2': 0.42473742003072046, 'th3': 0.3307666309247774}\n"
     ]
    },
    {
     "data": {
      "application/vnd.jupyter.widget-view+json": {
       "model_id": "c41ddaee56964027bcc50eefc2cda048",
       "version_major": 2,
       "version_minor": 0
      },
      "text/plain": [
       "HBox(children=(FloatProgress(value=0.0, max=675.0), HTML(value='')))"
      ]
     },
     "metadata": {},
     "output_type": "display_data"
    },
    {
     "name": "stdout",
     "output_type": "stream",
     "text": [
      "\n",
      "final_score = 0.9078491115263727\n",
      "----------\n",
      "-----weighted_boxes_fusion-----\n",
      "{'iou_thr': 0.41333774431257736, 'skip_box_thr': 0.3390991660277707, 'x1': 0.7872409635161128, 'x2': 0.5, 'x3': 0.5, 'th1': 0.55, 'th2': 0.4080964256753785, 'th3': 0.38057587534530457}\n"
     ]
    },
    {
     "data": {
      "application/vnd.jupyter.widget-view+json": {
       "model_id": "bbc01e31049e4e36ac9e878556b63613",
       "version_major": 2,
       "version_minor": 0
      },
      "text/plain": [
       "HBox(children=(FloatProgress(value=0.0, max=675.0), HTML(value='')))"
      ]
     },
     "metadata": {},
     "output_type": "display_data"
    },
    {
     "name": "stdout",
     "output_type": "stream",
     "text": [
      "\n",
      "final_score = 0.910278003694986\n",
      "----------\n",
      "-----weighted_boxes_fusion-----\n",
      "{'iou_thr': 0.4197515833688655, 'skip_box_thr': 0.338635858555939, 'x1': 0.8378384361546855, 'x2': 0.4604704681791044, 'x3': 0.5, 'th1': 0.55, 'th2': 0.406260739476896, 'th3': 0.37836979527907066}\n"
     ]
    },
    {
     "data": {
      "application/vnd.jupyter.widget-view+json": {
       "model_id": "38f9c9ecebc3410fa4a88d48180fedf4",
       "version_major": 2,
       "version_minor": 0
      },
      "text/plain": [
       "HBox(children=(FloatProgress(value=0.0, max=675.0), HTML(value='')))"
      ]
     },
     "metadata": {},
     "output_type": "display_data"
    },
    {
     "name": "stdout",
     "output_type": "stream",
     "text": [
      "\n",
      "final_score = 0.9101612774592855\n",
      "----------\n",
      "-----weighted_boxes_fusion-----\n",
      "{'iou_thr': 0.41483641885827255, 'skip_box_thr': 0.338683097784723, 'x1': 0.5231567293005165, 'x2': 0.1771430746276936, 'x3': 0.5, 'th1': 0.55, 'th2': 0.41017265172278006, 'th3': 0.37871315425178953}\n"
     ]
    },
    {
     "data": {
      "application/vnd.jupyter.widget-view+json": {
       "model_id": "68bc7b7115834664a4dc335e9a7906d9",
       "version_major": 2,
       "version_minor": 0
      },
      "text/plain": [
       "HBox(children=(FloatProgress(value=0.0, max=675.0), HTML(value='')))"
      ]
     },
     "metadata": {},
     "output_type": "display_data"
    },
    {
     "name": "stdout",
     "output_type": "stream",
     "text": [
      "\n",
      "final_score = 0.9100381359994799\n",
      "----------\n",
      "-----weighted_boxes_fusion-----\n",
      "{'iou_thr': 0.41535612046087256, 'skip_box_thr': 0.3380558148907663, 'x1': 0.803488963048375, 'x2': 0.5, 'x3': 0.5, 'th1': 0.55, 'th2': 0.4059149116853821, 'th3': 0.3792380048195152}\n"
     ]
    },
    {
     "data": {
      "application/vnd.jupyter.widget-view+json": {
       "model_id": "7228e06cca0e42d584879c1c6d78de3b",
       "version_major": 2,
       "version_minor": 0
      },
      "text/plain": [
       "HBox(children=(FloatProgress(value=0.0, max=675.0), HTML(value='')))"
      ]
     },
     "metadata": {},
     "output_type": "display_data"
    },
    {
     "name": "stdout",
     "output_type": "stream",
     "text": [
      "\n",
      "final_score = 0.910502948931812\n",
      "----------\n",
      "-----weighted_boxes_fusion-----\n",
      "{'iou_thr': 0.4146328081121026, 'skip_box_thr': 0.3376126900430924, 'x1': 0.9, 'x2': 0.5, 'x3': 0.5, 'th1': 0.55, 'th2': 0.40425289478845766, 'th3': 0.3763708100429519}\n"
     ]
    },
    {
     "data": {
      "application/vnd.jupyter.widget-view+json": {
       "model_id": "bff479cab9b0429db4295fdc30a2c269",
       "version_major": 2,
       "version_minor": 0
      },
      "text/plain": [
       "HBox(children=(FloatProgress(value=0.0, max=675.0), HTML(value='')))"
      ]
     },
     "metadata": {},
     "output_type": "display_data"
    },
    {
     "name": "stdout",
     "output_type": "stream",
     "text": [
      "\n",
      "final_score = 0.9098655553781942\n",
      "----------\n",
      "-----weighted_boxes_fusion-----\n",
      "{'iou_thr': 0.4806993197805812, 'skip_box_thr': 0.3453121667482597, 'x1': 0.7914729340810859, 'x2': 0.3729443986784077, 'x3': 0.2562314148650755, 'th1': 0.4453071417103446, 'th2': 0.49588741395221203, 'th3': 0.37205498845929214}\n"
     ]
    },
    {
     "data": {
      "application/vnd.jupyter.widget-view+json": {
       "model_id": "9a9c1d49372b4adf955d2b246e54d88c",
       "version_major": 2,
       "version_minor": 0
      },
      "text/plain": [
       "HBox(children=(FloatProgress(value=0.0, max=675.0), HTML(value='')))"
      ]
     },
     "metadata": {},
     "output_type": "display_data"
    },
    {
     "name": "stdout",
     "output_type": "stream",
     "text": [
      "\n",
      "final_score = 0.9082689203390609\n",
      "----------\n",
      "-----weighted_boxes_fusion-----\n",
      "{'iou_thr': 0.36982850688900004, 'skip_box_thr': 0.34933119368577537, 'x1': 0.7777937131301271, 'x2': 0.3142013206525338, 'x3': 0.3104957165912681, 'th1': 0.5439802173358188, 'th2': 0.4031964756377574, 'th3': 0.3182102356472339}\n"
     ]
    },
    {
     "data": {
      "application/vnd.jupyter.widget-view+json": {
       "model_id": "a1096222ab38476da41e4c4c4e3ab9cd",
       "version_major": 2,
       "version_minor": 0
      },
      "text/plain": [
       "HBox(children=(FloatProgress(value=0.0, max=675.0), HTML(value='')))"
      ]
     },
     "metadata": {},
     "output_type": "display_data"
    },
    {
     "name": "stdout",
     "output_type": "stream",
     "text": [
      "\n",
      "final_score = 0.9079131980585021\n",
      "----------\n",
      "-----weighted_boxes_fusion-----\n",
      "{'iou_thr': 0.4145115920990098, 'skip_box_thr': 0.3395563645909844, 'x1': 0.9, 'x2': 0.5, 'x3': 0.5, 'th1': 0.55, 'th2': 0.4109877048921494, 'th3': 0.3787650297999826}\n"
     ]
    },
    {
     "data": {
      "application/vnd.jupyter.widget-view+json": {
       "model_id": "672830e41f114990a22fda40931383c6",
       "version_major": 2,
       "version_minor": 0
      },
      "text/plain": [
       "HBox(children=(FloatProgress(value=0.0, max=675.0), HTML(value='')))"
      ]
     },
     "metadata": {},
     "output_type": "display_data"
    },
    {
     "name": "stdout",
     "output_type": "stream",
     "text": [
      "\n",
      "final_score = 0.9100078160504192\n",
      "----------\n",
      "-----weighted_boxes_fusion-----\n",
      "{'iou_thr': 0.41659811339620917, 'skip_box_thr': 0.33874535907277814, 'x1': 0.7238508481590227, 'x2': 0.5, 'x3': 0.5, 'th1': 0.55, 'th2': 0.4077953690056346, 'th3': 0.3804553757751664}\n"
     ]
    },
    {
     "data": {
      "application/vnd.jupyter.widget-view+json": {
       "model_id": "e865466814ec458b90c8c3ef0493a856",
       "version_major": 2,
       "version_minor": 0
      },
      "text/plain": [
       "HBox(children=(FloatProgress(value=0.0, max=675.0), HTML(value='')))"
      ]
     },
     "metadata": {},
     "output_type": "display_data"
    },
    {
     "name": "stdout",
     "output_type": "stream",
     "text": [
      "\n",
      "final_score = 0.9102757786179421\n",
      "----------\n",
      "-----weighted_boxes_fusion-----\n",
      "{'iou_thr': 0.41750459057734596, 'skip_box_thr': 0.3388251566847423, 'x1': 0.6812315028821481, 'x2': 0.5, 'x3': 0.5, 'th1': 0.55, 'th2': 0.40809535699963223, 'th3': 0.38027972960995793}\n"
     ]
    },
    {
     "data": {
      "application/vnd.jupyter.widget-view+json": {
       "model_id": "ba36bc35b1c24a72826f997c36aa1ac8",
       "version_major": 2,
       "version_minor": 0
      },
      "text/plain": [
       "HBox(children=(FloatProgress(value=0.0, max=675.0), HTML(value='')))"
      ]
     },
     "metadata": {},
     "output_type": "display_data"
    },
    {
     "name": "stdout",
     "output_type": "stream",
     "text": [
      "\n",
      "final_score = 0.910428807163712\n",
      "----------\n",
      "-----weighted_boxes_fusion-----\n",
      "{'iou_thr': 0.42185849448335344, 'skip_box_thr': 0.3383918215591734, 'x1': 0.40865475264994344, 'x2': 0.5, 'x3': 0.35773958534032846, 'th1': 0.55, 'th2': 0.40853051135002416, 'th3': 0.38173190392317036}\n"
     ]
    },
    {
     "data": {
      "application/vnd.jupyter.widget-view+json": {
       "model_id": "9c93ddebd737407ea4029a9700810e38",
       "version_major": 2,
       "version_minor": 0
      },
      "text/plain": [
       "HBox(children=(FloatProgress(value=0.0, max=675.0), HTML(value='')))"
      ]
     },
     "metadata": {},
     "output_type": "display_data"
    },
    {
     "name": "stdout",
     "output_type": "stream",
     "text": [
      "\n",
      "final_score = 0.9101100717472502\n",
      "----------\n",
      "-----weighted_boxes_fusion-----\n",
      "{'iou_thr': 0.41829964506970474, 'skip_box_thr': 0.33854195246244845, 'x1': 0.4, 'x2': 0.5, 'x3': 0.5, 'th1': 0.55, 'th2': 0.40855514623308825, 'th3': 0.38057119667865424}\n"
     ]
    },
    {
     "data": {
      "application/vnd.jupyter.widget-view+json": {
       "model_id": "957605faad974738a4c1c43ef9c3b341",
       "version_major": 2,
       "version_minor": 0
      },
      "text/plain": [
       "HBox(children=(FloatProgress(value=0.0, max=675.0), HTML(value='')))"
      ]
     },
     "metadata": {},
     "output_type": "display_data"
    },
    {
     "name": "stdout",
     "output_type": "stream",
     "text": [
      "\n",
      "final_score = 0.9102920287839161\n",
      "----------\n",
      "-----weighted_boxes_fusion-----\n",
      "{'iou_thr': 0.4173976675670659, 'skip_box_thr': 0.3384734437306227, 'x1': 0.4265558979125179, 'x2': 0.5, 'x3': 0.5, 'th1': 0.55, 'th2': 0.407018386696704, 'th3': 0.3805344123667732}\n"
     ]
    },
    {
     "data": {
      "application/vnd.jupyter.widget-view+json": {
       "model_id": "e4fb0d89a56a428abc813e84b4936614",
       "version_major": 2,
       "version_minor": 0
      },
      "text/plain": [
       "HBox(children=(FloatProgress(value=0.0, max=675.0), HTML(value='')))"
      ]
     },
     "metadata": {},
     "output_type": "display_data"
    },
    {
     "name": "stdout",
     "output_type": "stream",
     "text": [
      "\n",
      "final_score = 0.9103288568370606\n",
      "----------\n",
      "-----weighted_boxes_fusion-----\n",
      "{'iou_thr': 0.39727328081124946, 'skip_box_thr': 0.34428924324771, 'x1': 0.7455333393483797, 'x2': 0.19327553624453467, 'x3': 0.14015827457113444, 'th1': 0.4352982743803336, 'th2': 0.4474405630506658, 'th3': 0.2672860757185457}\n"
     ]
    },
    {
     "data": {
      "application/vnd.jupyter.widget-view+json": {
       "model_id": "d5704c19d0db413d95730ebc3a4a25e2",
       "version_major": 2,
       "version_minor": 0
      },
      "text/plain": [
       "HBox(children=(FloatProgress(value=0.0, max=675.0), HTML(value='')))"
      ]
     },
     "metadata": {},
     "output_type": "display_data"
    },
    {
     "name": "stdout",
     "output_type": "stream",
     "text": [
      "\n",
      "final_score = 0.9082480779387423\n",
      "----------\n",
      "-----weighted_boxes_fusion-----\n",
      "{'iou_thr': 0.4177104447815561, 'skip_box_thr': 0.33827164634202506, 'x1': 0.4, 'x2': 0.47375180177573717, 'x3': 0.5, 'th1': 0.55, 'th2': 0.408765065629583, 'th3': 0.38063705061102576}\n"
     ]
    },
    {
     "data": {
      "application/vnd.jupyter.widget-view+json": {
       "model_id": "433d5b3109564771a4c5c2f165ae5058",
       "version_major": 2,
       "version_minor": 0
      },
      "text/plain": [
       "HBox(children=(FloatProgress(value=0.0, max=675.0), HTML(value='')))"
      ]
     },
     "metadata": {},
     "output_type": "display_data"
    },
    {
     "name": "stdout",
     "output_type": "stream",
     "text": [
      "\n",
      "final_score = 0.9103324380179975\n",
      "----------\n",
      "-----weighted_boxes_fusion-----\n",
      "{'iou_thr': 0.41717812896885015, 'skip_box_thr': 0.33818797764681274, 'x1': 0.4, 'x2': 0.5, 'x3': 0.5, 'th1': 0.55, 'th2': 0.40929095006546945, 'th3': 0.380906541809767}\n"
     ]
    },
    {
     "data": {
      "application/vnd.jupyter.widget-view+json": {
       "model_id": "b2ac9dd62db54159bfae47ade940af98",
       "version_major": 2,
       "version_minor": 0
      },
      "text/plain": [
       "HBox(children=(FloatProgress(value=0.0, max=675.0), HTML(value='')))"
      ]
     },
     "metadata": {},
     "output_type": "display_data"
    },
    {
     "name": "stdout",
     "output_type": "stream",
     "text": [
      "\n",
      "final_score = 0.9101553992823285\n",
      "----------\n",
      "-----weighted_boxes_fusion-----\n",
      "{'iou_thr': 0.41489826542374086, 'skip_box_thr': 0.33771959413429786, 'x1': 0.4, 'x2': 0.5, 'x3': 0.5, 'th1': 0.55, 'th2': 0.4083079464625786, 'th3': 0.37908894668481374}\n"
     ]
    },
    {
     "data": {
      "application/vnd.jupyter.widget-view+json": {
       "model_id": "3dfad381156a4e6e9186ab0a814208a6",
       "version_major": 2,
       "version_minor": 0
      },
      "text/plain": [
       "HBox(children=(FloatProgress(value=0.0, max=675.0), HTML(value='')))"
      ]
     },
     "metadata": {},
     "output_type": "display_data"
    },
    {
     "name": "stdout",
     "output_type": "stream",
     "text": [
      "\n",
      "final_score = 0.9104930886372223\n",
      "----------\n",
      "-----weighted_boxes_fusion-----\n",
      "{'iou_thr': 0.41610636182990096, 'skip_box_thr': 0.33718565061228045, 'x1': 0.4, 'x2': 0.4557344129431935, 'x3': 0.4480337132651795, 'th1': 0.55, 'th2': 0.40781359136971385, 'th3': 0.38048162311906797}\n"
     ]
    },
    {
     "data": {
      "application/vnd.jupyter.widget-view+json": {
       "model_id": "032ca556145347f5898b26e7d44c9c45",
       "version_major": 2,
       "version_minor": 0
      },
      "text/plain": [
       "HBox(children=(FloatProgress(value=0.0, max=675.0), HTML(value='')))"
      ]
     },
     "metadata": {},
     "output_type": "display_data"
    },
    {
     "name": "stdout",
     "output_type": "stream",
     "text": [
      "\n",
      "final_score = 0.9103253390952017\n",
      "----------\n",
      "-----weighted_boxes_fusion-----\n",
      "{'iou_thr': 0.4172117279981856, 'skip_box_thr': 0.337418798864034, 'x1': 0.4, 'x2': 0.48244841826629425, 'x3': 0.5, 'th1': 0.55, 'th2': 0.40889676780721496, 'th3': 0.38054905969388675}\n"
     ]
    },
    {
     "data": {
      "application/vnd.jupyter.widget-view+json": {
       "model_id": "1787d058b1544ce2901388a3985554e4",
       "version_major": 2,
       "version_minor": 0
      },
      "text/plain": [
       "HBox(children=(FloatProgress(value=0.0, max=675.0), HTML(value='')))"
      ]
     },
     "metadata": {},
     "output_type": "display_data"
    },
    {
     "name": "stdout",
     "output_type": "stream",
     "text": [
      "\n",
      "final_score = 0.910227444895213\n",
      "----------\n",
      "-----weighted_boxes_fusion-----\n",
      "{'iou_thr': 0.4150543088241775, 'skip_box_thr': 0.33723914779212655, 'x1': 0.5324056354553888, 'x2': 0.5, 'x3': 0.5, 'th1': 0.55, 'th2': 0.40858923128275015, 'th3': 0.3800889708380929}\n"
     ]
    },
    {
     "data": {
      "application/vnd.jupyter.widget-view+json": {
       "model_id": "360a8523369240afa2b6aff43c419be2",
       "version_major": 2,
       "version_minor": 0
      },
      "text/plain": [
       "HBox(children=(FloatProgress(value=0.0, max=675.0), HTML(value='')))"
      ]
     },
     "metadata": {},
     "output_type": "display_data"
    },
    {
     "name": "stdout",
     "output_type": "stream",
     "text": [
      "\n",
      "final_score = 0.9104678558030466\n",
      "----------\n",
      "-----weighted_boxes_fusion-----\n",
      "{'iou_thr': 0.39737937253398364, 'skip_box_thr': 0.34507380295748646, 'x1': 0.6779807877347952, 'x2': 0.19431798971774883, 'x3': 0.3351139348475527, 'th1': 0.5056387681268435, 'th2': 0.4092453517123442, 'th3': 0.37682174495773785}\n"
     ]
    },
    {
     "data": {
      "application/vnd.jupyter.widget-view+json": {
       "model_id": "9253db9bdef241cb91331d097df3f410",
       "version_major": 2,
       "version_minor": 0
      },
      "text/plain": [
       "HBox(children=(FloatProgress(value=0.0, max=675.0), HTML(value='')))"
      ]
     },
     "metadata": {},
     "output_type": "display_data"
    },
    {
     "name": "stdout",
     "output_type": "stream",
     "text": [
      "\n",
      "final_score = 0.9093978223184143\n",
      "----------\n",
      "-----weighted_boxes_fusion-----\n",
      "{'iou_thr': 0.4170439660343072, 'skip_box_thr': 0.3374807358643945, 'x1': 0.42076358435858024, 'x2': 0.42145088269551534, 'x3': 0.5, 'th1': 0.55, 'th2': 0.40866666758252557, 'th3': 0.3803529142939581}\n"
     ]
    },
    {
     "data": {
      "application/vnd.jupyter.widget-view+json": {
       "model_id": "37d8e40bf20b45c2a5bc8cebac1549fc",
       "version_major": 2,
       "version_minor": 0
      },
      "text/plain": [
       "HBox(children=(FloatProgress(value=0.0, max=675.0), HTML(value='')))"
      ]
     },
     "metadata": {},
     "output_type": "display_data"
    },
    {
     "name": "stdout",
     "output_type": "stream",
     "text": [
      "\n",
      "final_score = 0.9103479323910341\n",
      "----------\n",
      "-----weighted_boxes_fusion-----\n",
      "{'iou_thr': 0.41422173572184373, 'skip_box_thr': 0.336425137040844, 'x1': 0.4, 'x2': 0.5, 'x3': 0.5, 'th1': 0.55, 'th2': 0.40947105967230224, 'th3': 0.3801012747658584}\n"
     ]
    },
    {
     "data": {
      "application/vnd.jupyter.widget-view+json": {
       "model_id": "13b5f59a852046519cb42f67edeb18f4",
       "version_major": 2,
       "version_minor": 0
      },
      "text/plain": [
       "HBox(children=(FloatProgress(value=0.0, max=675.0), HTML(value='')))"
      ]
     },
     "metadata": {},
     "output_type": "display_data"
    },
    {
     "name": "stdout",
     "output_type": "stream",
     "text": [
      "\n",
      "final_score = 0.9101034161715609\n",
      "----------\n",
      "-----weighted_boxes_fusion-----\n",
      "{'iou_thr': 0.41581159092184894, 'skip_box_thr': 0.33756886909525513, 'x1': 0.4, 'x2': 0.5, 'x3': 0.42745394887365573, 'th1': 0.55, 'th2': 0.40818046719659695, 'th3': 0.38045398464209024}\n"
     ]
    },
    {
     "data": {
      "application/vnd.jupyter.widget-view+json": {
       "model_id": "8c1d23ddff85438ca04f952bd4c062f5",
       "version_major": 2,
       "version_minor": 0
      },
      "text/plain": [
       "HBox(children=(FloatProgress(value=0.0, max=675.0), HTML(value='')))"
      ]
     },
     "metadata": {},
     "output_type": "display_data"
    },
    {
     "name": "stdout",
     "output_type": "stream",
     "text": [
      "\n",
      "final_score = 0.9103220798853601\n",
      "----------\n",
      "-----weighted_boxes_fusion-----\n",
      "{'iou_thr': 0.4141054371004344, 'skip_box_thr': 0.3372127730821174, 'x1': 0.7248833143131916, 'x2': 0.5, 'x3': 0.5, 'th1': 0.55, 'th2': 0.40713430195168654, 'th3': 0.37927630300882287}\n"
     ]
    },
    {
     "data": {
      "application/vnd.jupyter.widget-view+json": {
       "model_id": "9f931a8a9e864ecf9e42f0fc5ef5208e",
       "version_major": 2,
       "version_minor": 0
      },
      "text/plain": [
       "HBox(children=(FloatProgress(value=0.0, max=675.0), HTML(value='')))"
      ]
     },
     "metadata": {},
     "output_type": "display_data"
    },
    {
     "name": "stdout",
     "output_type": "stream",
     "text": [
      "\n",
      "final_score = 0.910456886745143\n",
      "----------\n",
      "-----weighted_boxes_fusion-----\n",
      "{'iou_thr': 0.40354452523917506, 'skip_box_thr': 0.3373597512092657, 'x1': 0.6216416532617761, 'x2': 0.42404608505550856, 'x3': 0.5, 'th1': 0.55, 'th2': 0.41977378066221344, 'th3': 0.3755109536459089}\n"
     ]
    },
    {
     "data": {
      "application/vnd.jupyter.widget-view+json": {
       "model_id": "4146515a7dbf4130927e4572ba16aaa8",
       "version_major": 2,
       "version_minor": 0
      },
      "text/plain": [
       "HBox(children=(FloatProgress(value=0.0, max=675.0), HTML(value='')))"
      ]
     },
     "metadata": {},
     "output_type": "display_data"
    },
    {
     "name": "stdout",
     "output_type": "stream",
     "text": [
      "\n",
      "final_score = 0.90936569690737\n",
      "----------\n",
      "-----weighted_boxes_fusion-----\n",
      "{'iou_thr': 0.44224764225754865, 'skip_box_thr': 0.3393023889313682, 'x1': 0.6585422310916997, 'x2': 0.5, 'x3': 0.41032356627142996, 'th1': 0.55, 'th2': 0.4077046089553896, 'th3': 0.38459521287311627}\n"
     ]
    },
    {
     "data": {
      "application/vnd.jupyter.widget-view+json": {
       "model_id": "1b03ff295f18422fa7169c3d4928f8eb",
       "version_major": 2,
       "version_minor": 0
      },
      "text/plain": [
       "HBox(children=(FloatProgress(value=0.0, max=675.0), HTML(value='')))"
      ]
     },
     "metadata": {},
     "output_type": "display_data"
    },
    {
     "name": "stdout",
     "output_type": "stream",
     "text": [
      "\n",
      "final_score = 0.91037611463627\n",
      "----------\n",
      "-----weighted_boxes_fusion-----\n",
      "{'iou_thr': 0.4418563692839253, 'skip_box_thr': 0.33932489976121116, 'x1': 0.4, 'x2': 0.5, 'x3': 0.5, 'th1': 0.55, 'th2': 0.40011207089117284, 'th3': 0.38207434004850854}\n"
     ]
    },
    {
     "data": {
      "application/vnd.jupyter.widget-view+json": {
       "model_id": "42c3ceca2b3043d686ed9071c3b123ac",
       "version_major": 2,
       "version_minor": 0
      },
      "text/plain": [
       "HBox(children=(FloatProgress(value=0.0, max=675.0), HTML(value='')))"
      ]
     },
     "metadata": {},
     "output_type": "display_data"
    },
    {
     "name": "stdout",
     "output_type": "stream",
     "text": [
      "\n",
      "final_score = 0.9100299846127992\n",
      "----------\n",
      "-----weighted_boxes_fusion-----\n",
      "{'iou_thr': 0.43272427581699213, 'skip_box_thr': 0.33573359313308265, 'x1': 0.4722638264568722, 'x2': 0.4495902559709797, 'x3': 0.397153722994532, 'th1': 0.55, 'th2': 0.4085404171062532, 'th3': 0.38427554759104093}\n"
     ]
    },
    {
     "data": {
      "application/vnd.jupyter.widget-view+json": {
       "model_id": "57661682fd5e4b749012d8281667b2b3",
       "version_major": 2,
       "version_minor": 0
      },
      "text/plain": [
       "HBox(children=(FloatProgress(value=0.0, max=675.0), HTML(value='')))"
      ]
     },
     "metadata": {},
     "output_type": "display_data"
    },
    {
     "name": "stdout",
     "output_type": "stream",
     "text": [
      "\n",
      "final_score = 0.910185624561823\n",
      "----------\n",
      "-----weighted_boxes_fusion-----\n",
      "{'iou_thr': 0.42829299481360905, 'skip_box_thr': 0.33815492233890004, 'x1': 0.4, 'x2': 0.5, 'x3': 0.15404477991884258, 'th1': 0.55, 'th2': 0.4042153688206025, 'th3': 0.38317412997530215}\n"
     ]
    },
    {
     "data": {
      "application/vnd.jupyter.widget-view+json": {
       "model_id": "9f718b87669e4cba8a35c4b3f2af32a6",
       "version_major": 2,
       "version_minor": 0
      },
      "text/plain": [
       "HBox(children=(FloatProgress(value=0.0, max=675.0), HTML(value='')))"
      ]
     },
     "metadata": {},
     "output_type": "display_data"
    },
    {
     "name": "stdout",
     "output_type": "stream",
     "text": [
      "\n",
      "final_score = 0.9102362072081831\n",
      "----------\n",
      "-----weighted_boxes_fusion-----\n",
      "{'iou_thr': 0.4299765494890182, 'skip_box_thr': 0.33821896504489146, 'x1': 0.4018778441335216, 'x2': 0.5, 'x3': 0.5, 'th1': 0.55, 'th2': 0.40274187980485304, 'th3': 0.3817564574023752}\n"
     ]
    },
    {
     "data": {
      "application/vnd.jupyter.widget-view+json": {
       "model_id": "8475a4d1bbb94d4b888025613d39024e",
       "version_major": 2,
       "version_minor": 0
      },
      "text/plain": [
       "HBox(children=(FloatProgress(value=0.0, max=675.0), HTML(value='')))"
      ]
     },
     "metadata": {},
     "output_type": "display_data"
    },
    {
     "name": "stdout",
     "output_type": "stream",
     "text": [
      "\n",
      "final_score = 0.9100741154884558\n",
      "----------\n",
      "-----weighted_boxes_fusion-----\n",
      "{'iou_thr': 0.4265893245869102, 'skip_box_thr': 0.33799606548522887, 'x1': 0.4, 'x2': 0.38555743568870204, 'x3': 0.34551713871794815, 'th1': 0.55, 'th2': 0.4063371729758338, 'th3': 0.38305745952884906}\n"
     ]
    },
    {
     "data": {
      "application/vnd.jupyter.widget-view+json": {
       "model_id": "f9a13acd4339442885af28af80a3b1d1",
       "version_major": 2,
       "version_minor": 0
      },
      "text/plain": [
       "HBox(children=(FloatProgress(value=0.0, max=675.0), HTML(value='')))"
      ]
     },
     "metadata": {},
     "output_type": "display_data"
    },
    {
     "name": "stdout",
     "output_type": "stream",
     "text": [
      "\n",
      "final_score = 0.910207936707965\n",
      "----------\n",
      "-----weighted_boxes_fusion-----\n",
      "{'iou_thr': 0.4195786250950057, 'skip_box_thr': 0.33801679861500006, 'x1': 0.5336408999444067, 'x2': 0.443841939408959, 'x3': 0.29300365574108583, 'th1': 0.55, 'th2': 0.4033893688222081, 'th3': 0.3839990106915919}\n"
     ]
    },
    {
     "data": {
      "application/vnd.jupyter.widget-view+json": {
       "model_id": "24a4d056627a42f9827f1174cc4369ca",
       "version_major": 2,
       "version_minor": 0
      },
      "text/plain": [
       "HBox(children=(FloatProgress(value=0.0, max=675.0), HTML(value='')))"
      ]
     },
     "metadata": {},
     "output_type": "display_data"
    },
    {
     "name": "stdout",
     "output_type": "stream",
     "text": [
      "\n",
      "final_score = 0.9104161170370344\n",
      "----------\n",
      "-----weighted_boxes_fusion-----\n",
      "{'iou_thr': 0.42535832320125583, 'skip_box_thr': 0.33793277606215744, 'x1': 0.4762953981519547, 'x2': 0.5, 'x3': 0.32801585704952246, 'th1': 0.55, 'th2': 0.40409165968573235, 'th3': 0.3831476119522311}\n"
     ]
    },
    {
     "data": {
      "application/vnd.jupyter.widget-view+json": {
       "model_id": "9f1ff9f79c2842deaef7c3f99832c8f7",
       "version_major": 2,
       "version_minor": 0
      },
      "text/plain": [
       "HBox(children=(FloatProgress(value=0.0, max=675.0), HTML(value='')))"
      ]
     },
     "metadata": {},
     "output_type": "display_data"
    },
    {
     "name": "stdout",
     "output_type": "stream",
     "text": [
      "\n",
      "final_score = 0.9103443422110553\n",
      "----------\n",
      "-----weighted_boxes_fusion-----\n",
      "{'iou_thr': 0.42428259951317143, 'skip_box_thr': 0.3378837687816322, 'x1': 0.4, 'x2': 0.5, 'x3': 0.48709207290044243, 'th1': 0.55, 'th2': 0.404415635762318, 'th3': 0.3826645604982051}\n"
     ]
    },
    {
     "data": {
      "application/vnd.jupyter.widget-view+json": {
       "model_id": "67585bd183064557b0b2374a913f9c47",
       "version_major": 2,
       "version_minor": 0
      },
      "text/plain": [
       "HBox(children=(FloatProgress(value=0.0, max=675.0), HTML(value='')))"
      ]
     },
     "metadata": {},
     "output_type": "display_data"
    },
    {
     "name": "stdout",
     "output_type": "stream",
     "text": [
      "\n",
      "final_score = 0.9104638127144\n",
      "----------\n",
      "-----weighted_boxes_fusion-----\n",
      "{'iou_thr': 0.42453706404779745, 'skip_box_thr': 0.3378048759417802, 'x1': 0.4, 'x2': 0.5, 'x3': 0.399034781497298, 'th1': 0.55, 'th2': 0.4038186074414045, 'th3': 0.38274865809481734}\n"
     ]
    },
    {
     "data": {
      "application/vnd.jupyter.widget-view+json": {
       "model_id": "474f293159914d3dbca942e4a008e706",
       "version_major": 2,
       "version_minor": 0
      },
      "text/plain": [
       "HBox(children=(FloatProgress(value=0.0, max=675.0), HTML(value='')))"
      ]
     },
     "metadata": {},
     "output_type": "display_data"
    },
    {
     "name": "stdout",
     "output_type": "stream",
     "text": [
      "\n",
      "final_score = 0.910400148456512\n",
      "----------\n",
      "-----weighted_boxes_fusion-----\n",
      "{'iou_thr': 0.42681577460615827, 'skip_box_thr': 0.337901147289668, 'x1': 0.4, 'x2': 0.5, 'x3': 0.4280946835872168, 'th1': 0.55, 'th2': 0.40492678382025205, 'th3': 0.38329997597899074}\n"
     ]
    },
    {
     "data": {
      "application/vnd.jupyter.widget-view+json": {
       "model_id": "a734e1a7564a4a14804fcffc70080520",
       "version_major": 2,
       "version_minor": 0
      },
      "text/plain": [
       "HBox(children=(FloatProgress(value=0.0, max=675.0), HTML(value='')))"
      ]
     },
     "metadata": {},
     "output_type": "display_data"
    },
    {
     "name": "stdout",
     "output_type": "stream",
     "text": [
      "\n",
      "final_score = 0.9103177254900356\n",
      "----------\n",
      "-----weighted_boxes_fusion-----\n",
      "{'iou_thr': 0.42294587293413677, 'skip_box_thr': 0.33698645981029496, 'x1': 0.4, 'x2': 0.5, 'x3': 0.4992548556470988, 'th1': 0.55, 'th2': 0.4060584832679434, 'th3': 0.38241437786676125}\n"
     ]
    },
    {
     "data": {
      "application/vnd.jupyter.widget-view+json": {
       "model_id": "1a7c818d850e455bb75045091fd85f3a",
       "version_major": 2,
       "version_minor": 0
      },
      "text/plain": [
       "HBox(children=(FloatProgress(value=0.0, max=675.0), HTML(value='')))"
      ]
     },
     "metadata": {},
     "output_type": "display_data"
    },
    {
     "name": "stdout",
     "output_type": "stream",
     "text": [
      "\n",
      "final_score = 0.910373493920363\n",
      "----------\n",
      "-----weighted_boxes_fusion-----\n",
      "{'iou_thr': 0.4254412477030279, 'skip_box_thr': 0.3376438255456844, 'x1': 0.4898293362462872, 'x2': 0.5, 'x3': 0.3239201485192428, 'th1': 0.55, 'th2': 0.4032617882060134, 'th3': 0.3833200752376218}\n"
     ]
    },
    {
     "data": {
      "application/vnd.jupyter.widget-view+json": {
       "model_id": "4094e3f88e464ea183e55865e5df03fb",
       "version_major": 2,
       "version_minor": 0
      },
      "text/plain": [
       "HBox(children=(FloatProgress(value=0.0, max=675.0), HTML(value='')))"
      ]
     },
     "metadata": {},
     "output_type": "display_data"
    },
    {
     "name": "stdout",
     "output_type": "stream",
     "text": [
      "\n",
      "final_score = 0.9103660627695835\n",
      "----------\n",
      "-----weighted_boxes_fusion-----\n",
      "{'iou_thr': 0.4146638364050846, 'skip_box_thr': 0.3366084060455885, 'x1': 0.4, 'x2': 0.4992043455992413, 'x3': 0.3684490838109905, 'th1': 0.55, 'th2': 0.39772032648721645, 'th3': 0.382360484486143}\n"
     ]
    },
    {
     "data": {
      "application/vnd.jupyter.widget-view+json": {
       "model_id": "329037b255294b808d14a9737fba4e74",
       "version_major": 2,
       "version_minor": 0
      },
      "text/plain": [
       "HBox(children=(FloatProgress(value=0.0, max=675.0), HTML(value='')))"
      ]
     },
     "metadata": {},
     "output_type": "display_data"
    },
    {
     "name": "stdout",
     "output_type": "stream",
     "text": [
      "\n",
      "final_score = 0.9103796616099271\n",
      "----------\n",
      "-----weighted_boxes_fusion-----\n",
      "{'iou_thr': 0.42377974810280983, 'skip_box_thr': 0.3373191189317495, 'x1': 0.6342339065622353, 'x2': 0.5, 'x3': 0.4594264034832033, 'th1': 0.55, 'th2': 0.4022193285474118, 'th3': 0.3826517753641102}\n"
     ]
    },
    {
     "data": {
      "application/vnd.jupyter.widget-view+json": {
       "model_id": "c7f44f895656487da66c3cb9f2b70fb1",
       "version_major": 2,
       "version_minor": 0
      },
      "text/plain": [
       "HBox(children=(FloatProgress(value=0.0, max=675.0), HTML(value='')))"
      ]
     },
     "metadata": {},
     "output_type": "display_data"
    },
    {
     "name": "stdout",
     "output_type": "stream",
     "text": [
      "\n",
      "final_score = 0.910315316088711\n",
      "----------\n",
      "-----weighted_boxes_fusion-----\n",
      "{'iou_thr': 0.4236807224044294, 'skip_box_thr': 0.33746892069988316, 'x1': 0.4, 'x2': 0.5, 'x3': 0.259780245175151, 'th1': 0.55, 'th2': 0.402493171472236, 'th3': 0.38299100055653834}\n"
     ]
    },
    {
     "data": {
      "application/vnd.jupyter.widget-view+json": {
       "model_id": "5b25074947624e7a9c967b021d081399",
       "version_major": 2,
       "version_minor": 0
      },
      "text/plain": [
       "HBox(children=(FloatProgress(value=0.0, max=675.0), HTML(value='')))"
      ]
     },
     "metadata": {},
     "output_type": "display_data"
    },
    {
     "name": "stdout",
     "output_type": "stream",
     "text": [
      "\n",
      "final_score = 0.910346802922298\n",
      "----------\n",
      "-----weighted_boxes_fusion-----\n",
      "{'iou_thr': 0.42568514351291464, 'skip_box_thr': 0.33697731347475596, 'x1': 0.5518075777191463, 'x2': 0.5, 'x3': 0.21295548936884157, 'th1': 0.55, 'th2': 0.40574530757669497, 'th3': 0.38190491497375084}\n"
     ]
    },
    {
     "data": {
      "application/vnd.jupyter.widget-view+json": {
       "model_id": "b758c6c48efa494d94de8effc0586bf7",
       "version_major": 2,
       "version_minor": 0
      },
      "text/plain": [
       "HBox(children=(FloatProgress(value=0.0, max=675.0), HTML(value='')))"
      ]
     },
     "metadata": {},
     "output_type": "display_data"
    },
    {
     "name": "stdout",
     "output_type": "stream",
     "text": [
      "\n",
      "final_score = 0.9102494234090172\n",
      "----------\n",
      "-----weighted_boxes_fusion-----\n",
      "{'iou_thr': 0.4233827339179177, 'skip_box_thr': 0.33732219219967086, 'x1': 0.5173511759355887, 'x2': 0.5, 'x3': 0.431927198373648, 'th1': 0.55, 'th2': 0.40182434951201873, 'th3': 0.38266415011938976}\n"
     ]
    },
    {
     "data": {
      "application/vnd.jupyter.widget-view+json": {
       "model_id": "cb43d6a2562c4dae862be40f3b234100",
       "version_major": 2,
       "version_minor": 0
      },
      "text/plain": [
       "HBox(children=(FloatProgress(value=0.0, max=675.0), HTML(value='')))"
      ]
     },
     "metadata": {},
     "output_type": "display_data"
    },
    {
     "name": "stdout",
     "output_type": "stream",
     "text": [
      "\n",
      "final_score = 0.9102300612378069\n",
      "----------\n",
      "-----weighted_boxes_fusion-----\n",
      "{'iou_thr': 0.4226674720865691, 'skip_box_thr': 0.3373541552089461, 'x1': 0.6857272781991102, 'x2': 0.5, 'x3': 0.15894362140197077, 'th1': 0.55, 'th2': 0.4024108838702133, 'th3': 0.38266484519685995}\n"
     ]
    },
    {
     "data": {
      "application/vnd.jupyter.widget-view+json": {
       "model_id": "6b0cf4d723ee45459eb408ff67b8f6f6",
       "version_major": 2,
       "version_minor": 0
      },
      "text/plain": [
       "HBox(children=(FloatProgress(value=0.0, max=675.0), HTML(value='')))"
      ]
     },
     "metadata": {},
     "output_type": "display_data"
    },
    {
     "name": "stdout",
     "output_type": "stream",
     "text": [
      "\n",
      "final_score = 0.9103591106273516\n",
      "----------\n",
      "CPU times: user 4h 16min 23s, sys: 1h 4min 21s, total: 5h 20min 45s\n",
      "Wall time: 3h 46min 59s\n"
     ]
    }
   ],
   "source": [
    "%%time\n",
    "\n",
    "space = [\n",
    "    Real(0.3, 0.75, name='iou_thr'),\n",
    "#     Real(0.2, 0.5, name='score_threshold'),\n",
    "    Real(0.3, 0.6, name='skip_box_thr'),\n",
    "    Real(0.4, 0.9, name='x1'),\n",
    "    Real(0.1, 0.5, name='x2'),\n",
    "    Real(0.1, 0.5, name='x3'),\n",
    "    Real(0.25, 0.55, name='th1'),\n",
    "    Real(0.25, 0.55, name='th2'),\n",
    "    Real(0.25, 0.55, name='th3'),\n",
    "]\n",
    "\n",
    "if USE_OPTIMIZE:\n",
    "    opt_result = optimize(\n",
    "        space, \n",
    "        all_predictions,\n",
    "        method='weighted_boxes_fusion',\n",
    "        n_calls=250,\n",
    "    )"
   ]
  },
  {
   "cell_type": "code",
   "execution_count": 16,
   "metadata": {},
   "outputs": [
    {
     "name": "stdout",
     "output_type": "stream",
     "text": [
      "-------------WBF--------------\n",
      "[Best Iou Thr]: 0.414\n",
      "[Best Skip Box Thr]: 0.382\n",
      "[Best Score]: 0.9034\n",
      "------------------------------\n",
      "[0.41437273872034813, 0.38220680280489394, 0.3945765571800917]\n"
     ]
    }
   ],
   "source": [
    "if USE_OPTIMIZE:\n",
    "    best_final_score = -opt_result.fun\n",
    "    best_iou_thr = opt_result.x[0]\n",
    "    best_skip_box_thr = opt_result.x[1]\n",
    "else:\n",
    "    # calculated early for fast inference in submission [see version 1 with n_calls=300]\n",
    "    best_final_score = 0.6953\n",
    "    best_iou_thr = 0.44\n",
    "    best_skip_box_thr = 0.43\n",
    "\n",
    "print('-'*13 + 'WBF' + '-'*14)\n",
    "print(f'[Best Iou Thr]: {best_iou_thr:.3f}')\n",
    "print(f'[Best Skip Box Thr]: {best_skip_box_thr:.3f}')\n",
    "print(f'[Best Score]: {best_final_score:.4f}')\n",
    "print('-'*30)\n",
    "print(opt_result.x)"
   ]
  },
  {
   "cell_type": "code",
   "execution_count": 29,
   "metadata": {},
   "outputs": [
    {
     "ename": "SyntaxError",
     "evalue": "invalid syntax (<ipython-input-29-a2df3b8a11ab>, line 1)",
     "output_type": "error",
     "traceback": [
      "\u001b[0;36m  File \u001b[0;32m\"<ipython-input-29-a2df3b8a11ab>\"\u001b[0;36m, line \u001b[0;32m1\u001b[0m\n\u001b[0;31m    -------------WBF--------------\u001b[0m\n\u001b[0m                                  ^\u001b[0m\n\u001b[0;31mSyntaxError\u001b[0m\u001b[0;31m:\u001b[0m invalid syntax\n"
     ]
    }
   ],
   "source": [
    "-------------WBF--------------\n",
    "[Best Iou Thr]: 0.441\n",
    "[Best Skip Box Thr]: 0.367\n",
    "[Best Score]: 0.9065\n",
    "------------------------------"
   ]
  },
  {
   "cell_type": "code",
   "execution_count": null,
   "metadata": {},
   "outputs": [],
   "source": [
    "-------------nms--------------\n",
    "[Best Iou Thr]: 0.408\n",
    "[Best Skip Box Thr]: 0.391\n",
    "[Best Score]: 0.9076\n",
    "------------------------------"
   ]
  },
  {
   "cell_type": "code",
   "execution_count": null,
   "metadata": {},
   "outputs": [],
   "source": []
  }
 ],
 "metadata": {
  "kernelspec": {
   "display_name": "Python 3",
   "language": "python",
   "name": "python3"
  },
  "language_info": {
   "codemirror_mode": {
    "name": "ipython",
    "version": 3
   },
   "file_extension": ".py",
   "mimetype": "text/x-python",
   "name": "python",
   "nbconvert_exporter": "python",
   "pygments_lexer": "ipython3",
   "version": "3.7.4"
  }
 },
 "nbformat": 4,
 "nbformat_minor": 4
}
